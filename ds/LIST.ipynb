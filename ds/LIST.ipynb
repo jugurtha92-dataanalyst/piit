{
 "cells": [
  {
   "cell_type": "code",
   "execution_count": 11,
   "id": "4af37e5e-ea66-4b33-a7d5-4c61f3790aad",
   "metadata": {},
   "outputs": [],
   "source": [
    "x= [2, 3 , 8, 'jugu', \"Hch\", 5, 2]"
   ]
  },
  {
   "cell_type": "code",
   "execution_count": 12,
   "id": "6338d3f0-1437-4e64-b642-a8f6770c0d6a",
   "metadata": {},
   "outputs": [
    {
     "data": {
      "text/plain": [
       "[2, 3, 8, 'jugu', 'Hch', 5, 2]"
      ]
     },
     "execution_count": 12,
     "metadata": {},
     "output_type": "execute_result"
    }
   ],
   "source": [
    "x"
   ]
  },
  {
   "cell_type": "code",
   "execution_count": null,
   "id": "1b4403d3-c578-48de-93ce-293c1c0c58e7",
   "metadata": {},
   "outputs": [],
   "source": []
  }
 ],
 "metadata": {
  "kernelspec": {
   "display_name": "Python [conda env:base] *",
   "language": "python",
   "name": "conda-base-py"
  },
  "language_info": {
   "codemirror_mode": {
    "name": "ipython",
    "version": 3
   },
   "file_extension": ".py",
   "mimetype": "text/x-python",
   "name": "python",
   "nbconvert_exporter": "python",
   "pygments_lexer": "ipython3",
   "version": "3.13.5"
  }
 },
 "nbformat": 4,
 "nbformat_minor": 5
}
