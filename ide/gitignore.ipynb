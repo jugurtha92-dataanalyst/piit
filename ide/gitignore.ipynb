{
 "cells": [
  {
   "cell_type": "code",
   "execution_count": 3,
   "id": "c9c3ce79-6093-42f5-8061-a16687b78e6f",
   "metadata": {},
   "outputs": [],
   "source": [
    "## Config Git "
   ]
  },
  {
   "cell_type": "markdown",
   "id": "89119851-77b5-468b-83f0-eeb611bd6412",
   "metadata": {
    "jp-MarkdownHeadingCollapsed": true
   },
   "source": [
    "### Config Git to ignore ipynb_checkpoints"
   ]
  },
  {
   "cell_type": "markdown",
   "id": "caca5afd-36dd-440d-ae04-85d2d1400210",
   "metadata": {},
   "source": [
    "#### 1. Add to .gitignore (Recommended)\n",
    "- Add the following line to your .gitignore file:\n",
    "    - .ipynb_checkpoints/\n",
    "- or, if you want to ignore all checkpoints inside subfolders:\n",
    "    - **/.ipynb_checkpoints/\n",
    "- Then commit the updated .gitignore file:\n",
    "    - git add .gitignore\n",
    "    - git commit -m \"Ignore ipynb_checkpoints\""
   ]
  },
  {
   "cell_type": "markdown",
   "id": "889d67a8-bc7c-4459-bb59-8944c287770f",
   "metadata": {},
   "source": [
    "#### 2. Remove Already-Tracked Checkpoints\n",
    "- If you’ve already committed some checkpoint files, you’ll need to remove them from the repo history while keeping them locally:\n",
    "    - git rm -r --cached .ipynb_checkpoints\n",
    "    - git commit -m \"Remove ipynb_checkpoints from repo\""
   ]
  },
  {
   "cell_type": "markdown",
   "id": "f3097c08-4020-49ec-9776-24fd34e7e797",
   "metadata": {},
   "source": [
    "#### 3. Use Global Git Ignore (Optional)\n",
    "- If you want this rule applied to all your repositories, configure a global ignore file:\n",
    "    - git config --global core.excludesfile ~/.gitignore_global\n",
    "- Then add:\n",
    "    - .ipynb_checkpoints/ to ~/.gitignore_global."
   ]
  },
  {
   "cell_type": "markdown",
   "id": "edc84ea3-97dc-4172-b984-25f48a7ddc68",
   "metadata": {},
   "source": [
    "#### 4. Pre-Commit Hook (Extra Safe)\n",
    "- You can add a Git hook to automatically prevent committing these files:\n",
    "- Create .git/hooks/pre-commit with:\n",
    "    - #!/bin/sh\n",
    "    - git diff --cached --name-only | grep \".ipynb_checkpoints\" && { echo \"Error: .ipynb_checkpoints found in commit. Commit aborted.\" exit 1}\n",
    "- Then make it executable:\n",
    "    - chmod +x .git/hooks/pre-commit\n"
   ]
  },
  {
   "cell_type": "markdown",
   "id": "82888b19-39ed-454d-b1f9-5b0f09e195c7",
   "metadata": {},
   "source": [
    "✅ Best practice: Use option 1 + 2: ignore them in .gitignore and remove any already tracked ones. That keeps your repo clean and avoids surprises."
   ]
  },
  {
   "cell_type": "code",
   "execution_count": null,
   "id": "2e6b32a8-d17b-428e-a82f-a6d85dc65a2b",
   "metadata": {},
   "outputs": [],
   "source": []
  }
 ],
 "metadata": {
  "kernelspec": {
   "display_name": "Python 3 (ipykernel)",
   "language": "python",
   "name": "python3"
  },
  "language_info": {
   "codemirror_mode": {
    "name": "ipython",
    "version": 3
   },
   "file_extension": ".py",
   "mimetype": "text/x-python",
   "name": "python",
   "nbconvert_exporter": "python",
   "pygments_lexer": "ipython3",
   "version": "3.12.7"
  }
 },
 "nbformat": 4,
 "nbformat_minor": 5
}
