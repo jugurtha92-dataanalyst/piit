{
 "cells": [
  {
   "cell_type": "code",
   "execution_count": null,
   "id": "f2683c5f-ebb3-4ec7-a7c7-fdd902a43ec3",
   "metadata": {},
   "outputs": [],
   "source": [
    "import pandas as pd\n",
    "import numpy as np\n",
    "from pydataset import data\n"
   ]
  },
  {
   "cell_type": "code",
   "execution_count": null,
   "id": "0f93858b-1cc1-4bba-8c06-3cd4d22c62c0",
   "metadata": {},
   "outputs": [],
   "source": [
    "df = data('airquality')\n"
   ]
  },
  {
   "cell_type": "code",
   "execution_count": null,
   "id": "7be8b751-3db5-4eba-b368-b728798614d8",
   "metadata": {},
   "outputs": [],
   "source": [
    "df\n"
   ]
  },
  {
   "cell_type": "code",
   "execution_count": null,
   "id": "3ef33128-7fbb-4239-8be9-4ad9206b1984",
   "metadata": {},
   "outputs": [],
   "source": [
    "df.shape\n"
   ]
  },
  {
   "cell_type": "code",
   "execution_count": null,
   "id": "0da772fe-36b5-42f7-a7ac-0def547d454e",
   "metadata": {},
   "outputs": [],
   "source": [
    "df.head(2)"
   ]
  },
  {
   "cell_type": "code",
   "execution_count": null,
   "id": "9913b337-7542-4c7f-aca5-cecad6a95477",
   "metadata": {},
   "outputs": [],
   "source": []
  },
  {
   "cell_type": "markdown",
   "id": "ecb26e40-6c17-4a4d-8e18-a3adc3949d31",
   "metadata": {},
   "source": [
    "# T1.Inspect the structure"
   ]
  },
  {
   "cell_type": "markdown",
   "id": "6d1c7775-36df-408f-9d44-36ccaa96bd16",
   "metadata": {},
   "source": [
    "### Show the shape (rows, columns)"
   ]
  },
  {
   "cell_type": "code",
   "execution_count": null,
   "id": "c5ff81f6-08a6-46ea-8263-c2165384f441",
   "metadata": {},
   "outputs": [],
   "source": [
    "df.shape"
   ]
  },
  {
   "cell_type": "code",
   "execution_count": null,
   "id": "9cb8976a-f147-46eb-97d8-714844674784",
   "metadata": {},
   "outputs": [],
   "source": [
    "# List column names and dtypes"
   ]
  },
  {
   "cell_type": "code",
   "execution_count": null,
   "id": "ce864149-aa0c-477c-8abf-df84abd9384e",
   "metadata": {},
   "outputs": [],
   "source": [
    "df.columns\n"
   ]
  },
  {
   "cell_type": "code",
   "execution_count": null,
   "id": "05c7edfa-a932-499f-a523-c0d0b8979610",
   "metadata": {},
   "outputs": [],
   "source": [
    "#clm data types"
   ]
  },
  {
   "cell_type": "code",
   "execution_count": null,
   "id": "baa9a379-9f30-4d6c-9cc3-5eaaf1993ea3",
   "metadata": {},
   "outputs": [],
   "source": [
    "df.dtypes"
   ]
  },
  {
   "cell_type": "markdown",
   "id": "35943637-9a1a-47d4-a2d8-b4197745edd1",
   "metadata": {},
   "source": [
    "# Display the first 5 and last 5 rows"
   ]
  },
  {
   "cell_type": "code",
   "execution_count": null,
   "id": "015dec0b-10ec-4f99-80df-4c938167f982",
   "metadata": {},
   "outputs": [],
   "source": [
    "df.head()"
   ]
  },
  {
   "cell_type": "code",
   "execution_count": null,
   "id": "1b1cd46c-93bb-46ef-b01a-4597d8c6f6cb",
   "metadata": {},
   "outputs": [],
   "source": [
    "df.tail()\n"
   ]
  },
  {
   "cell_type": "markdown",
   "id": "df341677-cbc5-4de0-8256-0ca94eefeb79",
   "metadata": {},
   "source": [
    "# info summary\n"
   ]
  },
  {
   "cell_type": "code",
   "execution_count": null,
   "id": "d04599fc-1b08-40a1-944b-bb5342f1e7a5",
   "metadata": {},
   "outputs": [],
   "source": []
  },
  {
   "cell_type": "code",
   "execution_count": null,
   "id": "4bbd1fa8-495a-428e-8010-58f557284e2c",
   "metadata": {},
   "outputs": [],
   "source": [
    "df.info()"
   ]
  },
  {
   "cell_type": "markdown",
   "id": "f3974ae9-3693-4cf7-8400-7161946a2365",
   "metadata": {},
   "source": [
    "# T2.Basic summary stats\n"
   ]
  },
  {
   "cell_type": "markdown",
   "id": "648bc3c1-ba77-4814-9873-d0f38c9a2b66",
   "metadata": {},
   "source": [
    "## Produce descriptive statistics for numeric columns."
   ]
  },
  {
   "cell_type": "code",
   "execution_count": null,
   "id": "d54643be-23fb-4aa8-9da3-d186604db639",
   "metadata": {},
   "outputs": [],
   "source": [
    "df.describe()"
   ]
  },
  {
   "cell_type": "markdown",
   "id": "98f45f54-167f-41b8-8d89-eeccc5c8026d",
   "metadata": {},
   "source": [
    "## For each column, show number of unique values"
   ]
  },
  {
   "cell_type": "code",
   "execution_count": null,
   "id": "afe5badb-6aca-405c-9bfa-0653d36b2c6d",
   "metadata": {},
   "outputs": [],
   "source": [
    "df.nunique()"
   ]
  },
  {
   "cell_type": "markdown",
   "id": "ae4f0957-7f93-48c3-857f-b422c2bb04b1",
   "metadata": {},
   "source": [
    "# T3. Missing values\n",
    "## Count missing values per column."
   ]
  },
  {
   "cell_type": "code",
   "execution_count": null,
   "id": "e2cee9cf-d918-4248-9038-8608f98a99f7",
   "metadata": {},
   "outputs": [],
   "source": [
    "df.isna().sum()"
   ]
  },
  {
   "cell_type": "markdown",
   "id": "cd31c129-1291-435c-99b8-e44d35ccf9d2",
   "metadata": {},
   "source": [
    "## Create a copy df_mv where you impute:\n",
    " ### Ozone: fill with the column median (numeric)\n",
    " ### Solar.R: fill with the column mean (numeric)"
   ]
  },
  {
   "cell_type": "code",
   "execution_count": null,
   "id": "7806b65a-d9e7-4ec0-b31c-d3c4c971db88",
   "metadata": {},
   "outputs": [],
   "source": [
    "df.copy()"
   ]
  },
  {
   "cell_type": "code",
   "execution_count": null,
   "id": "24b7e8a8-d242-4484-907b-0d1055ba28ce",
   "metadata": {},
   "outputs": [],
   "source": [
    "df.copy().fillna(df.median())"
   ]
  },
  {
   "cell_type": "markdown",
   "id": "07519c19-fb79-4b5b-b7b4-74c3cd644855",
   "metadata": {},
   "source": [
    "# T4. Selecting columns & rows\n",
    "  ### Select the columns: Ozone, Solar.R, Temp into a new DataFrame df_sel.\n",
    "  \n",
    "."
   ]
  },
  {
   "cell_type": "code",
   "execution_count": null,
   "id": "0bcfa2b9-ceda-4c70-a5a0-3890fd99ea40",
   "metadata": {},
   "outputs": [],
   "source": [
    "slc_clm=['Ozone', 'Solar.R', 'Temp']\n",
    "df_sel=df[slc_clm].copy()\n",
    "df_sel"
   ]
  },
  {
   "cell_type": "markdown",
   "id": "3a34684c-5a01-4d1b-9b9b-9ec34091c4cc",
   "metadata": {},
   "source": [
    "### Select the first 10 rows of df_sel.\n"
   ]
  },
  {
   "cell_type": "code",
   "execution_count": null,
   "id": "5ddafcd4-ae33-480c-a168-c11d28f4f94e",
   "metadata": {},
   "outputs": [],
   "source": [
    "df_sel.head(10)"
   ]
  },
  {
   "cell_type": "markdown",
   "id": "63af5ccd-fd93-4cea-abba-20141fd263d8",
   "metadata": {},
   "source": [
    "### Select rows where Month is May (5) or June (6) only."
   ]
  },
  {
   "cell_type": "code",
   "execution_count": null,
   "id": "71637cb3-f39e-4d3f-a450-8135681ea08b",
   "metadata": {},
   "outputs": [],
   "source": [
    "df"
   ]
  },
  {
   "cell_type": "code",
   "execution_count": null,
   "id": "729e6f00-3929-49c8-acdf-55aa1ff60ea8",
   "metadata": {},
   "outputs": [],
   "source": [
    "df_selmont= df[df['Month'].isin([5,6])]\n",
    "df_selmont"
   ]
  },
  {
   "cell_type": "markdown",
   "id": "38f2ad2b-48a1-4c8a-b731-74eda032bdea",
   "metadata": {},
   "source": [
    "#T5. Filtering & conditions\n",
    "##Filter rows where Ozone > 100 and Temp >= 85.\n"
   ]
  },
  {
   "cell_type": "code",
   "execution_count": null,
   "id": "a46a762e-ab4e-4faa-859b-dde0f7801412",
   "metadata": {},
   "outputs": [],
   "source": [
    "df[df['Ozone']>100]"
   ]
  },
  {
   "cell_type": "markdown",
   "id": "a886d305-26e8-4ff7-9488-97299cf8e80b",
   "metadata": {},
   "source": [
    "##Filter rows where Solar.R is missing."
   ]
  },
  {
   "cell_type": "code",
   "execution_count": null,
   "id": "3bb2d07a-b913-4426-81b1-0dd9efeb6b18",
   "metadata": {},
   "outputs": [],
   "source": [
    "df[df['Solar.R'].isnull()]"
   ]
  },
  {
   "cell_type": "markdown",
   "id": "ece08782-69c3-4aa1-bc09-54ada77221cc",
   "metadata": {},
   "source": [
    "##Filter rows for July (7) with Ozone between 50 and 100 (inclusive)."
   ]
  },
  {
   "cell_type": "code",
   "execution_count": null,
   "id": "365891ab-9f1a-42ec-85f4-69d62ac8b3fb",
   "metadata": {},
   "outputs": [],
   "source": [
    "df[(df['Month']==7) &\n",
    "   (df['Ozone']>=50) &\n",
    "   (df['Ozone']<=100)]\n"
   ]
  },
  {
   "cell_type": "markdown",
   "id": "48b82015-d481-458b-ab5f-b9fffb0c24e1",
   "metadata": {},
   "source": [
    "# T6. Sorting\n",
    "## Sort the dataset by Ozone descending and Temp ascending (multi-column sort).\n"
   ]
  },
  {
   "cell_type": "code",
   "execution_count": null,
   "id": "6f95c9bb-e586-4164-bc29-371199553409",
   "metadata": {},
   "outputs": [],
   "source": [
    "df.sort_values(by=['Ozone', 'Temp'],ascending=[False,True])"
   ]
  },
  {
   "cell_type": "markdown",
   "id": "3b91c19a-41ac-439e-a33d-5ac78f52cd7c",
   "metadata": {},
   "source": [
    "## Sort the dataset by Month then Day to get chronological order"
   ]
  },
  {
   "cell_type": "code",
   "execution_count": null,
   "id": "71a8dbc1-c822-42b0-9f4d-116075fd4ac6",
   "metadata": {},
   "outputs": [],
   "source": [
    "df.sort_values(by=['Month', 'Day'],ascending=[True,True])"
   ]
  },
  {
   "cell_type": "markdown",
   "id": "b9257ffa-5007-4fa7-b1ed-5b54770a8760",
   "metadata": {},
   "source": [
    "# T7 Duplicates\n",
    "## Check if there are any fully duplicated rows."
   ]
  },
  {
   "cell_type": "code",
   "execution_count": null,
   "id": "c178ab5d-7990-4a9c-b9dc-2f32b74775a3",
   "metadata": {},
   "outputs": [],
   "source": [
    "df.duplicated()"
   ]
  },
  {
   "cell_type": "code",
   "execution_count": null,
   "id": "550a09ca-c568-466c-9c94-b23c3c257378",
   "metadata": {},
   "outputs": [],
   "source": [
    "df.duplicated().any()"
   ]
  },
  {
   "cell_type": "code",
   "execution_count": null,
   "id": "e4bb7be4-0eb9-497a-a363-905e0ca3a185",
   "metadata": {},
   "outputs": [],
   "source": [
    "## Intentionally create a few duplicate rows (e.g., duplicate first 3 rows) into df_dup."
   ]
  },
  {
   "cell_type": "code",
   "execution_count": null,
   "id": "f3dac8db-c55b-4167-89d6-dfafd3c25315",
   "metadata": {},
   "outputs": [],
   "source": [
    "df"
   ]
  },
  {
   "cell_type": "code",
   "execution_count": null,
   "id": "f5b4382a-704a-4df7-a9bc-e1ce5e8722cc",
   "metadata": {},
   "outputs": [],
   "source": [
    "first_3_row = df.iloc[:3]\n",
    "df_dup=pd.concat([first_3_row, df], ignore_index=True)\n",
    "print (\"df with duplicated first 3 rows:\")\n",
    "print(df_dup)\n"
   ]
  },
  {
   "cell_type": "markdown",
   "id": "aaa8a60b-4b9f-4795-8bdd-64e050e7acba",
   "metadata": {},
   "source": [
    "## Remove duplicates and report how many were removed."
   ]
  },
  {
   "cell_type": "code",
   "execution_count": null,
   "id": "59f7cb89-6864-4512-be15-94a83aff8bc3",
   "metadata": {},
   "outputs": [],
   "source": [
    "beg_rows=len(df_dup)\n",
    "beg_rows"
   ]
  },
  {
   "cell_type": "code",
   "execution_count": null,
   "id": "718377e8-6b9f-4545-8738-2b63d19e413c",
   "metadata": {},
   "outputs": [],
   "source": [
    "df_clean= df_dup.drop_duplicates()\n",
    "df_clean"
   ]
  },
  {
   "cell_type": "code",
   "execution_count": null,
   "id": "5174d7f8-c968-42a7-b23b-74b0c472a64b",
   "metadata": {},
   "outputs": [],
   "source": [
    "finl_rows=len(df_clean)\n",
    "finl_rows"
   ]
  },
  {
   "cell_type": "code",
   "execution_count": null,
   "id": "01dc9946-9867-4da9-a1a7-8bcf64ec4306",
   "metadata": {},
   "outputs": [],
   "source": [
    "row_removed= beg_rows - finl_rows\n",
    "row_removed"
   ]
  },
  {
   "cell_type": "code",
   "execution_count": null,
   "id": "f3d2214d-956a-4b71-8b40-383f98949a2c",
   "metadata": {},
   "outputs": [],
   "source": [
    "df"
   ]
  },
  {
   "cell_type": "markdown",
   "id": "536fa558-8c9c-4835-a026-a975660be29c",
   "metadata": {},
   "source": [
    "# T8. Derived columns\n",
    "## Create a new column Temp_C converting Fahrenheit to Celsius."
   ]
  },
  {
   "cell_type": "code",
   "execution_count": null,
   "id": "ee9def53-e6c9-4890-8c4f-611150bd4bc1",
   "metadata": {},
   "outputs": [],
   "source": [
    "df['Temp_C'] = (df[ 'Temp']-32)* 5/9\n",
    "df"
   ]
  },
  {
   "cell_type": "markdown",
   "id": "8f76cad6-0fe5-48c5-986c-4a0978691915",
   "metadata": {},
   "source": [
    "## Flag a new boolean column High_Ozone where Ozone > 100.\n"
   ]
  },
  {
   "cell_type": "code",
   "execution_count": null,
   "id": "39bdbcf5-6bfd-47c1-b1c9-88e6a974c676",
   "metadata": {},
   "outputs": [],
   "source": [
    "df['High_ozone']=df['Ozone']>100\n",
    "df"
   ]
  },
  {
   "cell_type": "markdown",
   "id": "f6b92bb3-2527-4630-ae56-0dc5e7614c83",
   "metadata": {},
   "source": [
    "## Create a categorical column Temp_Band with labels: Cool (<75F), Warm (75–85F), Hot (>85F).\n",
    "## Hints: vectorized arithmetic, pd.cut()"
   ]
  },
  {
   "cell_type": "code",
   "execution_count": null,
   "id": "332f6e85-cf33-44c9-b324-a3556a80ad9a",
   "metadata": {},
   "outputs": [],
   "source": [
    "bins=[0,75,85,np.inf]\n",
    "labels=['Cool','Warm','Hot']\n",
    "df['Temp_Band'] = pd.cut(df['Temp'],bins=bins, labels=labels,right=True)\n",
    "df"
   ]
  },
  {
   "cell_type": "code",
   "execution_count": null,
   "id": "453b3c94-95be-4a32-a2bc-262aa747f96b",
   "metadata": {},
   "outputs": [],
   "source": []
  },
  {
   "cell_type": "markdown",
   "id": "45eae6f1-2a84-4c23-b866-c5a17044adb8",
   "metadata": {},
   "source": [
    "# T9. Groupby & aggregation\n",
    "## Group by Month and compute mean Ozone, median Solar.R, and max Temp."
   ]
  },
  {
   "cell_type": "code",
   "execution_count": null,
   "id": "5d6b8fe7-e9a8-4dc3-a58d-feed8a8ada30",
   "metadata": {},
   "outputs": [],
   "source": [
    "\n",
    "monthly_group = df.groupby(df.Month).agg(\n",
    "    mean_ozn=('Ozone','mean'),\n",
    "    median_solar = ('Solar.R', 'median'),\n",
    "    max_temp = ('Temp','max')\n",
    ")\n",
    "print(monthly_group)\n"
   ]
  },
  {
   "cell_type": "markdown",
   "id": "a0969edb-1c61-4523-824b-0da7c4658c9c",
   "metadata": {},
   "source": [
    "## Within each Month, count how many days have Ozone > 80.\n",
    "## Hints: groupby(), agg({...}), Boolean to int conversion or np.sum()"
   ]
  },
  {
   "cell_type": "code",
   "execution_count": null,
   "id": "a0159349-9880-46ba-a9aa-d7560f242e36",
   "metadata": {},
   "outputs": [],
   "source": [
    "df_filt = df[df['Ozone']>80].copy()\n",
    "monthly_count = df_filt.groupby('Month').size()\n",
    "monthly_count\n",
    "#print (monthly_count)\n"
   ]
  },
  {
   "cell_type": "markdown",
   "id": "cd9bfc86-bde7-4219-bef7-ea6b292c9049",
   "metadata": {},
   "source": [
    "# T10.(Stretch) Quick sanity plots *(optional)*\n",
    "## If permitted, create two simple charts to visualize patterns:\n",
    "# **Hints:** `matplotlib` basic plotting"
   ]
  },
  {
   "cell_type": "code",
   "execution_count": null,
   "id": "a1c1fd62-66b3-4bcc-a528-7f9130c1db7a",
   "metadata": {},
   "outputs": [],
   "source": []
  },
  {
   "cell_type": "code",
   "execution_count": null,
   "id": "94ff8f20-c1e4-457e-92ba-d544b8ad958c",
   "metadata": {},
   "outputs": [],
   "source": [
    "import matplotlib.pyplot as plt\n",
    "df.plot()"
   ]
  },
  {
   "cell_type": "code",
   "execution_count": null,
   "id": "c19d59b6-c1d1-48fc-9138-085c35c8556c",
   "metadata": {},
   "outputs": [],
   "source": [
    "df.hist()"
   ]
  },
  {
   "cell_type": "markdown",
   "id": "38919bd8-a7e3-43e8-b484-d122cf13e385",
   "metadata": {},
   "source": [
    "## Histogram of `Ozone` (after imputation, using `df_mv` if you created it)."
   ]
  },
  {
   "cell_type": "code",
   "execution_count": null,
   "id": "e284b165-f2c3-4e2f-acb1-e023c1094c50",
   "metadata": {},
   "outputs": [],
   "source": [
    "df['Ozone'].hist()\n"
   ]
  },
  {
   "cell_type": "markdown",
   "id": "6f8fb499-d3bf-42b7-96c1-992f45cbdd63",
   "metadata": {},
   "source": [
    "## Line plot of `Temp` across days for **August (8)** ordered by Day."
   ]
  },
  {
   "cell_type": "code",
   "execution_count": null,
   "id": "31f5356a-121e-47ba-85ec-1b8c2f710691",
   "metadata": {},
   "outputs": [],
   "source": [
    "df['Temp'].plot(kind='line')"
   ]
  },
  {
   "cell_type": "code",
   "execution_count": null,
   "id": "ba030021-bfa4-41de-a0ce-66246bda653e",
   "metadata": {},
   "outputs": [],
   "source": []
  }
 ],
 "metadata": {
  "kernelspec": {
   "display_name": "Python [conda env:base] *",
   "language": "python",
   "name": "conda-base-py"
  },
  "language_info": {
   "codemirror_mode": {
    "name": "ipython",
    "version": 3
   },
   "file_extension": ".py",
   "mimetype": "text/x-python",
   "name": "python",
   "nbconvert_exporter": "python",
   "pygments_lexer": "ipython3",
   "version": "3.13.5"
  }
 },
 "nbformat": 4,
 "nbformat_minor": 5
}
