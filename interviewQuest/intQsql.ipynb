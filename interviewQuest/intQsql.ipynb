{
 "cells": [
  {
   "cell_type": "markdown",
   "id": "c2fa1d0d-0949-4fdc-97ee-727fde6821e5",
   "metadata": {},
   "source": [
    "# Interview Ques - \n",
    "- (Covers basic queries, filtering, aggregation, and joins)"
   ]
  },
  {
   "cell_type": "code",
   "execution_count": null,
   "id": "f6f21d77-340f-4c22-809e-22941dd0cb9b",
   "metadata": {},
   "outputs": [],
   "source": []
  },
  {
   "cell_type": "code",
   "execution_count": null,
   "id": "233a68cf-f0a5-43ee-91a5-cdfac4a67f44",
   "metadata": {},
   "outputs": [],
   "source": []
  },
  {
   "cell_type": "markdown",
   "id": "625a8552-cd47-4f08-9a29-1fdc38747628",
   "metadata": {},
   "source": [
    "1.\tWhat’s the difference between WHERE and HAVING clauses?\n",
    "\t2.\tHow do you select all columns from a table?\n",
    "\t3.\tWrite a query to select only unique values from a column.\n",
    "\t4.\tHow do you sort query results in descending order?\n",
    "\t5.\tWrite a query to find the top 5 highest sales.\n",
    "\t6.\tWhat’s the difference between INNER JOIN and LEFT JOIN?\n",
    "\t7.\tHow do you filter rows where a column value is NULL?\n",
    "\t8.\tWrite a query to count the number of rows in a table.\n",
    "\t9.\tHow do you group data by a column and get an average?\n",
    "\t10.\tHow do you rename a column in the SELECT output?\n",
    "\t11.\tWrite a query to get records where a text column contains “India”.\n",
    "\t12.\tHow do you use BETWEEN to filter a date range?\n",
    "\t13.\tWhat’s the difference between UNION and UNION ALL?\n",
    "\t14.\tWrite a query to find duplicate values in a table.\n",
    "\t15.\tHow do you limit results to the first 10 rows?\n",
    "\t16.\tWrite a query to calculate the percentage of total sales for each category.\n",
    "\t17.\tHow do you join more than two tables?\n",
    "\t18.\tHow do you create an alias for a table?\n",
    "\t19.\tWhat’s the difference between a primary key and a foreign key?\n",
    "\t20.\tHow do you update a specific record in a table?"
   ]
  },
  {
   "cell_type": "code",
   "execution_count": null,
   "id": "7a827ce8-eb73-40ee-a9b1-265a7e188b25",
   "metadata": {},
   "outputs": [],
   "source": []
  }
 ],
 "metadata": {
  "kernelspec": {
   "display_name": "Python 3 (ipykernel)",
   "language": "python",
   "name": "python3"
  },
  "language_info": {
   "codemirror_mode": {
    "name": "ipython",
    "version": 3
   },
   "file_extension": ".py",
   "mimetype": "text/x-python",
   "name": "python",
   "nbconvert_exporter": "python",
   "pygments_lexer": "ipython3",
   "version": "3.12.7"
  }
 },
 "nbformat": 4,
 "nbformat_minor": 5
}
