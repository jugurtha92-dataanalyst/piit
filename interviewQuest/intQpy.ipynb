{
 "cells": [
  {
   "cell_type": "code",
   "execution_count": null,
   "id": "cc5f57ba-e5e8-4fad-bd51-6949fc3515c8",
   "metadata": {},
   "outputs": [],
   "source": [
    "# Interview Ques - Excel & Python"
   ]
  },
  {
   "cell_type": "markdown",
   "id": "3cb4b9da-f119-4c51-8121-82c16ad558e9",
   "metadata": {},
   "source": [
    "# (Covers pandas, NumPy, visualization, and practical use cases)"
   ]
  },
  {
   "cell_type": "code",
   "execution_count": null,
   "id": "12ee6d82-d630-4b92-9917-845d6e3f14da",
   "metadata": {},
   "outputs": [],
   "source": []
  },
  {
   "cell_type": "markdown",
   "id": "201b5327-694a-48af-8ece-5682795ba569",
   "metadata": {},
   "source": [
    "\t1.\tHow do you import a CSV file into pandas?\n",
    "\t2.\tWhat’s the difference between a list, tuple, and dictionary in Python?\n",
    "\t3.\tHow do you check the first 5 rows of a pandas DataFrame?\n",
    "\t4.\tHow do you handle missing values in pandas?\n",
    "\t5.\tWhat’s the difference between .loc[] and .iloc[]?\n",
    "\t6.\tHow do you merge two DataFrames in pandas?\n",
    "\t7.\tExplain the use of groupby() in pandas.\n",
    "\t8.\tHow do you sort a DataFrame by multiple columns?\n",
    "\t9.\tHow do you rename a column in pandas?\n",
    "\t10.\tWhat’s the difference between apply() and map()?\n",
    "\t11.\tHow can you create a pivot table in pandas?\n",
    "\t12.\tHow do you filter rows based on multiple conditions in pandas?\n",
    "\t13.\tHow do you convert a column’s data type in pandas?\n",
    "\t14.\tWhat is vectorization and why is it preferred over loops in pandas?\n",
    "\t15.\tHow do you find duplicate rows in a DataFrame?\n",
    "\t16.\tHow do you remove whitespace from strings in a DataFrame column?\n",
    "\t17.\tHow can you create a new calculated column in pandas?\n",
    "\t18.\tWhat’s the difference between inner join and outer join?\n",
    "\t19.\tHow do you export a DataFrame to Excel?\n",
    "\t20.\tHow do you get basic statistics of numeric columns in pandas?\n",
    "\t21.\tWhat’s the difference between NumPy arrays and pandas Series?\n",
    "\t22.\tHow do you create a histogram using matplotlib?\n",
    "\t23.\tHow do you change the size of a matplotlib plot?\n",
    "\t24.\tHow do you plot multiple lines on the same chart in matplotlib?\n",
    "\t25.\tWhat is seaborn used for in Python?\n",
    "\t26.\tHow do you plot a correlation heatmap using seaborn?\n",
    "\t27.\tHow do you random sample rows from a DataFrame?\n",
    "\t28.\tHow do you reset the index of a DataFrame?\n",
    "\t29.\tHow can you check the number of unique values in a column?\n",
    "\t30.\tHow do you merge multiple CSV files into one DataFrame?\n",
    "\n",
    "⸻\n"
   ]
  },
  {
   "cell_type": "raw",
   "id": "7d27bad6-8268-44a4-91f7-60ebea6e8384",
   "metadata": {},
   "source": [
    "1.\timport pandas as pd; df = pd.read_csv('file.csv')\n",
    "\t2.\tList: ordered, mutable; Tuple: ordered, immutable; Dict: key-value pairs.\n",
    "\t3.\tdf.head()\n",
    "\t4.\tdf.dropna() or df.fillna(value)\n",
    "\t5.\t.loc[] = label-based, .iloc[] = position-based.\n",
    "\t6.\tpd.merge(df1, df2, on='key')\n",
    "\t7.\tdf.groupby('col').agg({'value':'mean'})\n",
    "\t8.\tdf.sort_values(['col1','col2'], ascending=[True, False])\n",
    "\t9.\tdf.rename(columns={'old':'new'})\n",
    "\t10.\tapply() works on rows/columns, map() works element-wise on Series.\n",
    "\t11.\tdf.pivot_table(index='A', columns='B', values='C', aggfunc='mean')\n",
    "\t12.\tdf[(df['col1']>10) & (df['col2']=='X')]\n",
    "\t13.\tdf['col'] = df['col'].astype(float)\n",
    "\t14.\tVectorization = operations applied to whole arrays without explicit loops → faster.\n",
    "\t15.\tdf.duplicated()\n",
    "\t16.\tdf['col'] = df['col'].str.strip()\n",
    "\t17.\tdf['new'] = df['a'] + df['b']\n",
    "\t18.\tInner join keeps matches; Outer join keeps all with NaNs for missing matches.\n",
    "\t19.\tdf.to_excel('output.xlsx', index=False)\n",
    "\t20.\tdf.describe()\n",
    "\t21.\tNumPy array: homogeneous type; pandas Series: one-dimensional with labels.\n",
    "\t22.\tplt.hist(df['col'])\n",
    "\t23.\tplt.figure(figsize=(10,5))\n",
    "\t24.\tplt.plot(x, y1); plt.plot(x, y2)\n",
    "\t25.\tSeaborn: high-level statistical data visualization library.\n",
    "\t26.\tsns.heatmap(df.corr(), annot=True)\n",
    "\t27.\tdf.sample(n=10)\n",
    "\t28.\tdf.reset_index(drop=True)\n",
    "\t29.\tdf['col'].nunique()\n",
    "\t30.\tLoop through files in a folder, pd.concat() the DataFrames.\n",
    "\n",
    "⸻\n",
    "\n",
    "4. SQL (MySQL) — Answers (20)\n",
    "\t1.\tWHERE filters before grouping; HAVING filters after grouping.\n",
    "\t2.\tSELECT * FROM table;\n",
    "\t3.\tSELECT DISTINCT col FROM table;\n",
    "\t4.\tORDER BY col DESC;\n",
    "\t5.\tSELECT * FROM sales ORDER BY amount DESC LIMIT 5;\n",
    "\t6.\tINNER JOIN: only matching rows; LEFT JOIN: all left table rows + matches.\n",
    "\t7.\tWHERE col IS NULL\n",
    "\t8.\tSELECT COUNT(*) FROM table;\n",
    "\t9.\tSELECT col, AVG(val) FROM table GROUP BY col;\n",
    "\t10.\tSELECT col AS new_name FROM table;\n",
    "\t11.\tWHERE col LIKE '%India%'\n",
    "\t12.\tWHERE date_col BETWEEN '2025-01-01' AND '2025-01-31'\n",
    "\t13.\tUNION removes duplicates; UNION ALL keeps all.\n",
    "\t14.\tSELECT col, COUNT(*) FROM table GROUP BY col HAVING COUNT(*)>1\n",
    "\t15.\tLIMIT 10\n",
    "\t16.\tSELECT category, SUM(sales)/SUM(sales) OVER()*100 AS pct FROM sales GROUP BY category;\n",
    "\t17.\tChain multiple JOIN clauses.\n",
    "\t18.\tFROM table AS t\n",
    "\t19.\tPrimary key: unique, identifies row; Foreign key: references another table’s PK.\n",
    "\t20.\tUPDATE table SET col='value' WHERE id=1;"
   ]
  },
  {
   "cell_type": "code",
   "execution_count": null,
   "id": "2aaccbc0-4ca2-4e81-b0fb-3a38ab2b1b09",
   "metadata": {},
   "outputs": [],
   "source": []
  }
 ],
 "metadata": {
  "kernelspec": {
   "display_name": "Python 3 (ipykernel)",
   "language": "python",
   "name": "python3"
  },
  "language_info": {
   "codemirror_mode": {
    "name": "ipython",
    "version": 3
   },
   "file_extension": ".py",
   "mimetype": "text/x-python",
   "name": "python",
   "nbconvert_exporter": "python",
   "pygments_lexer": "ipython3",
   "version": "3.12.7"
  }
 },
 "nbformat": 4,
 "nbformat_minor": 5
}
