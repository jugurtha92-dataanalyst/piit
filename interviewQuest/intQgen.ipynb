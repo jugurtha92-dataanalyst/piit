{
 "cells": [
  {
   "cell_type": "markdown",
   "id": "afb94416-aaf0-45b8-9fe9-2bcea01dc837",
   "metadata": {},
   "source": [
    "# Interview Questions - Analytics (General)"
   ]
  },
  {
   "cell_type": "code",
   "execution_count": null,
   "id": "3e64e536-7976-4425-8194-5f6b74b34e64",
   "metadata": {},
   "outputs": [],
   "source": [
    "# Questions"
   ]
  },
  {
   "cell_type": "markdown",
   "id": "45d39993-1f98-4d64-ad4c-5d68e0821d20",
   "metadata": {},
   "source": [
    "### What are the key steps in a typical data analysis workflow?\n",
    "- Define objectives → Collect data → Clean/preprocess → Explore (EDA) → Model/analyze → Interpret results → Communicate insights → Take action."
   ]
  },
  {
   "cell_type": "markdown",
   "id": "231cf32f-998c-433d-8890-b750a8bac7fe",
   "metadata": {},
   "source": [
    "### Explain the difference between structured, semi-structured, and unstructured data.\n",
    "- Organized in rows/columns (SQL tables). Semi-structured: Has tags/markers but no strict schema (JSON, XML). Unstructured: No predefined format (text, audio, video)."
   ]
  },
  {
   "cell_type": "markdown",
   "id": "987e687b-64af-46b9-9d30-8b8b612dcc1c",
   "metadata": {},
   "source": [
    "### What is the difference between descriptive, diagnostic, predictive, and prescriptive analytics? Give an example of each.\n",
    "- Descriptive: Summarizes past data (e.g., monthly sales report).\n",
    "- Diagnostic: Explains why something happened (root cause analysis).\n",
    "- Predictive: Forecasts future outcomes (sales prediction).\n",
    "- Prescriptive: Suggests actions (recommendation systems)."
   ]
  },
  {
   "cell_type": "markdown",
   "id": "8a52b454-52fc-4c66-be9f-0c09a7382abe",
   "metadata": {},
   "source": [
    "### How would you define a KPI and how is it different from a metric?\n",
    "-  A measurable value tied to a business objective; Metric: any measurable value, not always strategic."
   ]
  },
  {
   "cell_type": "markdown",
   "id": "28f04652-aa60-49a6-a1be-6e79d84811b8",
   "metadata": {},
   "source": [
    "### Give an example of how you would measure customer satisfaction for an online store.\n",
    "- Example: Use NPS surveys, average rating scores, % of repeat customers.\n",
    "- Read from Internet"
   ]
  },
  {
   "cell_type": "markdown",
   "id": "878d29eb-d229-4d7d-9ee7-5317a71eb1b4",
   "metadata": {},
   "source": [
    "### Why is data cleaning important before analysis?\n",
    "- Cleaning removes errors, duplicates, inconsistencies → improves accuracy."
   ]
  },
  {
   "cell_type": "markdown",
   "id": "cd53974c-7cb7-4f1e-8231-2caefdf0ae9e",
   "metadata": {},
   "source": [
    "### What are some common causes of data bias in analytics?\n",
    "- Causes: Sampling bias, measurement error, historical bias in data sources.\n",
    "- Biasness (Read)"
   ]
  },
  {
   "cell_type": "markdown",
   "id": "9fc02e15-ca4a-41fc-b1cd-3fa21a56ad03",
   "metadata": {},
   "source": [
    "### Explain correlation vs causation with a simple example.\n",
    "- Correlation: Two variables move together but may not cause each other. Example: Ice cream sales and drowning incidents (both increase in summer)."
   ]
  },
  {
   "cell_type": "markdown",
   "id": "46232b7d-bc0a-407b-b22c-1a7126dc0bb5",
   "metadata": {},
   "source": [
    "### How would you handle missing data in a dataset?\n",
    "- Options: Drop missing rows, impute (mean, median, mode), predict values."
   ]
  },
  {
   "cell_type": "markdown",
   "id": "cebfdde3-4e87-4556-84c9-bfa9b6d33b19",
   "metadata": {},
   "source": [
    "### In your opinion, what are the top 3 soft skills important for a data analyst?\n",
    "- Top soft skills: Communication, critical thinking, problem-solving."
   ]
  },
  {
   "cell_type": "markdown",
   "id": "96a0c875-dee3-4bb9-a7d2-3d4967f720b7",
   "metadata": {},
   "source": [
    "### What is A/B testing and when would you use it?\n",
    "- A/B testing: Comparing two versions of something to see which performs better\n",
    "- Read ()"
   ]
  },
  {
   "cell_type": "markdown",
   "id": "8015d800-6ab9-4fd4-b427-42ecd1dd1822",
   "metadata": {},
   "source": [
    "### How do you decide if a data visualization is effective?\n",
    "- Effective visualization: Clear, relevant, accurate, minimal clutter."
   ]
  },
  {
   "cell_type": "markdown",
   "id": "51e8c959-f3ba-4a01-ac51-10c3153894c0",
   "metadata": {},
   "source": [
    "### Explain the term data storytelling.\n",
    "- Data storytelling: Combining visuals + narrative to make data relatable."
   ]
  },
  {
   "cell_type": "markdown",
   "id": "b1a990fd-3817-456a-955e-d207de677139",
   "metadata": {},
   "source": [
    "### What are some examples of real-world datasets that might need daily monitoring?\n",
    "- Examples: Stock prices, weather data, web traffic metrics."
   ]
  },
  {
   "cell_type": "markdown",
   "id": "d173b400-29d4-4405-a801-b5c3e579abb9",
   "metadata": {},
   "source": [
    "### How does data privacy (like GDPR) impact analytics work?\n",
    "- Data privacy laws limit how personal data is collected, stored, shared."
   ]
  },
  {
   "cell_type": "markdown",
   "id": "c0299b69-cd63-4b13-9e68-97dc7846e3d3",
   "metadata": {},
   "source": [
    "### Give an example of how analytics can directly impact business decisions.\n",
    "- Example: Sales analysis leads to focusing on profitable products."
   ]
  },
  {
   "cell_type": "markdown",
   "id": "a85e0383-a622-400f-9599-3c2d37e6d505",
   "metadata": {},
   "source": [
    "### Explain outliers and their potential impact on analysis.\n",
    "- Outliers: Extreme values; can distort averages and models."
   ]
  },
  {
   "cell_type": "markdown",
   "id": "44604d3c-06a0-4310-80b6-e58fd568ee1e",
   "metadata": {},
   "source": [
    "### What is real-time analytics and where might it be used?\n",
    "- Real-time analytics: Processing live data streams for instant insight (e.g., fraud detection)."
   ]
  },
  {
   "cell_type": "markdown",
   "id": "791a3270-5f3d-4b7d-b4ae-a4bdb9641c01",
   "metadata": {},
   "source": [
    "### What does it mean to have data-driven decision-making in a company?\n",
    "- Data-driven decision-making: Decisions based on data evidence, not guesswork."
   ]
  },
  {
   "cell_type": "markdown",
   "id": "7597dc64-36eb-4ed0-889e-2d19e2e3af27",
   "metadata": {},
   "source": [
    "### How would you explain a complex analysis result to a non-technical audience?\n",
    "- Use plain language, visuals, and focus on the “why it matters”."
   ]
  },
  {
   "cell_type": "code",
   "execution_count": 2,
   "id": "235c1ae5-6daf-4c99-afb1-b1a2fc4fd6cb",
   "metadata": {},
   "outputs": [],
   "source": [
    "## More will added as required basis"
   ]
  },
  {
   "cell_type": "code",
   "execution_count": null,
   "id": "730ef0cf-fb05-4c96-8ddc-2fc33843b6e6",
   "metadata": {},
   "outputs": [],
   "source": []
  },
  {
   "cell_type": "code",
   "execution_count": null,
   "id": "bb1260fc-24ec-4c3a-b075-804190f02352",
   "metadata": {},
   "outputs": [],
   "source": []
  }
 ],
 "metadata": {
  "kernelspec": {
   "display_name": "Python 3 (ipykernel)",
   "language": "python",
   "name": "python3"
  },
  "language_info": {
   "codemirror_mode": {
    "name": "ipython",
    "version": 3
   },
   "file_extension": ".py",
   "mimetype": "text/x-python",
   "name": "python",
   "nbconvert_exporter": "python",
   "pygments_lexer": "ipython3",
   "version": "3.12.7"
  }
 },
 "nbformat": 4,
 "nbformat_minor": 5
}
