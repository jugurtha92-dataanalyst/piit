{
 "cells": [
  {
   "cell_type": "markdown",
   "id": "6fb2e70c-d75c-443d-abba-c66d240e4b56",
   "metadata": {},
   "source": [
    "# Interview Ques - Excel\n",
    "- (Covers formulas, features, and applied analysis)"
   ]
  },
  {
   "cell_type": "markdown",
   "id": "bb93dd3d-705c-4b59-b5d3-c5516414a9f6",
   "metadata": {},
   "source": [
    "### What is the difference between VLOOKUP and INDEX-MATCH?\n",
    "- VLOOKUP searches a value vertically; INDEX-MATCH is more flexible, works left/right, and faster in large datasets."
   ]
  },
  {
   "cell_type": "markdown",
   "id": "258df65c-5a42-4ce5-a880-2b3a63c0c1a3",
   "metadata": {},
   "source": [
    "### How do you use IF function to classify data into categories?\n",
    "- =IF(A2>=50,\"Pass\",\"Fail\") — classifies based on condition."
   ]
  },
  {
   "cell_type": "markdown",
   "id": "7c17e850-bc04-4d17-9ddb-b54531366103",
   "metadata": {},
   "source": [
    "### Explain how to use Pivot Tables for summarizing data\n",
    "- Pivot Tables summarize large datasets by grouping and aggregating."
   ]
  },
  {
   "cell_type": "markdown",
   "id": "7b9b3d30-5c2b-45d4-9e2d-277710bcdf88",
   "metadata": {},
   "source": [
    "### What is the difference between COUNT, COUNTA, and COUNTIF?\n",
    "- COUNT = counts numbers, COUNTA = counts non-blanks, COUNTIF = counts matching condition."
   ]
  },
  {
   "cell_type": "markdown",
   "id": "bb03c67a-b848-4b76-8a32-98271bef039f",
   "metadata": {},
   "source": [
    "### How do you remove duplicate rows in Excel / Sheets?\n",
    "- \tUse (EXCEL) Data → Remove Duplicates or UNIQUE() in Sheets."
   ]
  },
  {
   "cell_type": "markdown",
   "id": "d62c23c8-6c4e-456e-adee-7f4656ab52c8",
   "metadata": {},
   "source": [
    "### How would you use Conditional Formatting to highlight sales below target?\n",
    "- Conditional Formatting → format cells less than target value.\n",
    "- =COUNTIF(A:A,A1)>1 (replace A:A with your actual column range) to check for duplicates"
   ]
  },
  {
   "cell_type": "markdown",
   "id": "aca19e9e-37bc-4c9b-b099-7d577a044c1b",
   "metadata": {},
   "source": [
    "### What is the difference between absolute and relative cell references?\n",
    "- Absolute ($A$1) stays fixed; Relative (A1) changes when copied"
   ]
  },
  {
   "cell_type": "markdown",
   "id": "78dbe57f-84c9-4757-9766-b9e203e652f0",
   "metadata": {},
   "source": [
    "### How do you use the TEXT function to format dates?\n",
    "- =TEXT(A2,\"DD-MMM-YYYY\") formats dates."
   ]
  },
  {
   "cell_type": "markdown",
   "id": "413554d0-2b45-401d-b9a1-abbe68ca9054",
   "metadata": {},
   "source": [
    "### Explain Data Validation with an example.\n",
    "- Data Validation restricts inputs (e.g., dropdown of valid options)."
   ]
  },
  {
   "cell_type": "markdown",
   "id": "478d609e-4844-4e48-b929-ea7c66c8ef4f",
   "metadata": {},
   "source": [
    "### How can you split one column into multiple columns in Sheets?\n",
    "- Use Data → Split text to columns."
   ]
  },
  {
   "cell_type": "markdown",
   "id": "682c243a-f228-4fa2-9a40-3c147e6fb431",
   "metadata": {},
   "source": [
    "### \tWhat is the difference between Filter and Sort?\n",
    "- Filter shows only matching rows; Sort rearranges order."
   ]
  },
  {
   "cell_type": "markdown",
   "id": "fa7f3980-2425-4bd4-988d-bae8a1785378",
   "metadata": {},
   "source": [
    "### Explain the use of SUMIFS function.\n",
    "- =SUMIFS(Sales,Region,\"East\",Product,\"A\")."
   ]
  },
  {
   "cell_type": "markdown",
   "id": "aa11c21f-45c6-4abd-8c43-e0423556f581",
   "metadata": {},
   "source": [
    "### How can you protect specific cells in a shared Google Sheet?\n",
    "- Protect range under Data → Protect sheets and ranges."
   ]
  },
  {
   "cell_type": "markdown",
   "id": "38cabaf9-5030-4e33-84e3-97fb62064814",
   "metadata": {},
   "source": [
    "### How do you link data from one sheet to another?\n",
    "- \tUse =Sheet1!A1 to link cells."
   ]
  },
  {
   "cell_type": "markdown",
   "id": "2c3f6533-50df-4059-9f0c-8d6bc126fd6a",
   "metadata": {},
   "source": [
    "### How do you calculate a running total in Excel?\n",
    "- Use cumulative sum formula: =SUM($B$2:B2)."
   ]
  },
  {
   "cell_type": "markdown",
   "id": "3664fd1b-0b07-4386-bb3b-9df50e2344df",
   "metadata": {},
   "source": [
    "### Explain the use of UNIQUE function in Sheets.\n",
    "- =UNIQUE(range) returns unique values."
   ]
  },
  {
   "cell_type": "markdown",
   "id": "2278b6f7-a027-4236-98d9-9ba682bc206a",
   "metadata": {},
   "source": [
    "### What is the TRIM function used for?\n",
    "- =TRIM(A2) removes extra spaces."
   ]
  },
  {
   "cell_type": "markdown",
   "id": "0e9e9da3-0a70-49b3-9d52-bcc753308246",
   "metadata": {},
   "source": [
    "### How can you import live data (like currency rates) into Google Sheets?\n",
    "- =GOOGLEFINANCE(\"CURRENCY:USDINR\") fetches live rates."
   ]
  },
  {
   "cell_type": "markdown",
   "id": "9d7a70ed-84d1-410b-8a99-7bf2d27d83dc",
   "metadata": {},
   "source": [
    "### How would you find the top 5 sales from a dataset?\n",
    "- Use LARGE() or sort and pick top rows"
   ]
  },
  {
   "cell_type": "markdown",
   "id": "6ffbb9ea-90a7-42d5-80e5-1ab8a9846848",
   "metadata": {},
   "source": [
    "### How do you create a chart directly from a Pivot Table?\n",
    "- Select pivot table → Insert chart."
   ]
  },
  {
   "cell_type": "code",
   "execution_count": null,
   "id": "805de82e-b3ee-44b7-b450-9eaf660fe5cc",
   "metadata": {},
   "outputs": [],
   "source": []
  },
  {
   "cell_type": "markdown",
   "id": "62a33aff-d893-4bb7-8466-d8a65e0ccd10",
   "metadata": {},
   "source": [
    "## More as we practise"
   ]
  },
  {
   "cell_type": "code",
   "execution_count": null,
   "id": "d904173b-57c8-442e-957e-0b4f6232b1e4",
   "metadata": {},
   "outputs": [],
   "source": []
  }
 ],
 "metadata": {
  "kernelspec": {
   "display_name": "Python 3 (ipykernel)",
   "language": "python",
   "name": "python3"
  },
  "language_info": {
   "codemirror_mode": {
    "name": "ipython",
    "version": 3
   },
   "file_extension": ".py",
   "mimetype": "text/x-python",
   "name": "python",
   "nbconvert_exporter": "python",
   "pygments_lexer": "ipython3",
   "version": "3.12.7"
  }
 },
 "nbformat": 4,
 "nbformat_minor": 5
}
