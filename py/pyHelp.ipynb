{
 "cells": [
  {
   "cell_type": "code",
   "execution_count": null,
   "id": "c475ad9a-eea0-4661-83d0-d3fdadbb497f",
   "metadata": {},
   "outputs": [],
   "source": [
    "# Python Help Functions"
   ]
  },
  {
   "cell_type": "code",
   "execution_count": 2,
   "id": "a07a6498-7b9e-4555-ab8f-6ec756f1f4e2",
   "metadata": {},
   "outputs": [
    {
     "name": "stdout",
     "output_type": "stream",
     "text": [
      "[1, 2, 3, 4]\n",
      "4\n"
     ]
    }
   ],
   "source": [
    "x= [1,2,3,4]\n",
    "print(x)\n",
    "print(len(x))"
   ]
  },
  {
   "cell_type": "markdown",
   "id": "5d1fc42b-8769-4ff3-abe7-30c5397d722c",
   "metadata": {},
   "source": [
    "## Simple"
   ]
  },
  {
   "cell_type": "code",
   "execution_count": 3,
   "id": "11e3759c-1ede-485a-9ab6-cd2188af3140",
   "metadata": {},
   "outputs": [
    {
     "name": "stdout",
     "output_type": "stream",
     "text": [
      "Help on built-in function len in module builtins:\n",
      "\n",
      "len(obj, /)\n",
      "    Return the number of items in a container.\n",
      "\n"
     ]
    }
   ],
   "source": [
    "help (len)"
   ]
  },
  {
   "cell_type": "code",
   "execution_count": null,
   "id": "b1a581ec-dbaa-4b70-a7dd-f613f3b3431b",
   "metadata": {},
   "outputs": [],
   "source": [
    "#help (str)"
   ]
  },
  {
   "cell_type": "code",
   "execution_count": 5,
   "id": "8e18463b-58c3-4210-9f37-303cf6cddbf9",
   "metadata": {},
   "outputs": [
    {
     "name": "stdout",
     "output_type": "stream",
     "text": [
      "3.0\n",
      "Help on built-in function sqrt in module math:\n",
      "\n",
      "sqrt(x, /)\n",
      "    Return the square root of x.\n",
      "\n"
     ]
    }
   ],
   "source": [
    "import math\n",
    "x = math.sqrt(9)\n",
    "print(x)\n",
    "help (math.sqrt)"
   ]
  },
  {
   "cell_type": "code",
   "execution_count": 6,
   "id": "0f6849d2-4f30-4b5a-a2fb-ea6d2ad75dd8",
   "metadata": {},
   "outputs": [
    {
     "data": {
      "text/plain": [
       "\u001b[0;31mSignature:\u001b[0m \u001b[0mlen\u001b[0m\u001b[0;34m(\u001b[0m\u001b[0mobj\u001b[0m\u001b[0;34m,\u001b[0m \u001b[0;34m/\u001b[0m\u001b[0;34m)\u001b[0m\u001b[0;34m\u001b[0m\u001b[0;34m\u001b[0m\u001b[0m\n",
       "\u001b[0;31mDocstring:\u001b[0m Return the number of items in a container.\n",
       "\u001b[0;31mType:\u001b[0m      builtin_function_or_method"
      ]
     },
     "metadata": {},
     "output_type": "display_data"
    }
   ],
   "source": [
    "# quick help\n",
    "len?"
   ]
  },
  {
   "cell_type": "code",
   "execution_count": 7,
   "id": "6d37bc7a-553f-4bc3-b7e4-8c923ec41cb2",
   "metadata": {},
   "outputs": [
    {
     "data": {
      "text/plain": [
       "\u001b[0;31mSignature:\u001b[0m \u001b[0mlen\u001b[0m\u001b[0;34m(\u001b[0m\u001b[0mobj\u001b[0m\u001b[0;34m,\u001b[0m \u001b[0;34m/\u001b[0m\u001b[0;34m)\u001b[0m\u001b[0;34m\u001b[0m\u001b[0;34m\u001b[0m\u001b[0m\n",
       "\u001b[0;31mDocstring:\u001b[0m Return the number of items in a container.\n",
       "\u001b[0;31mType:\u001b[0m      builtin_function_or_method"
      ]
     },
     "metadata": {},
     "output_type": "display_data"
    }
   ],
   "source": [
    "len??"
   ]
  },
  {
   "cell_type": "raw",
   "id": "43615667-1784-46d2-abed-9614bc1defeb",
   "metadata": {},
   "source": [
    "math.sq  #press tab for autocomplete"
   ]
  },
  {
   "cell_type": "code",
   "execution_count": 8,
   "id": "e9c9af11-daf6-42dd-81ad-07b5ab88c94f",
   "metadata": {},
   "outputs": [
    {
     "name": "stdout",
     "output_type": "stream",
     "text": [
      "['__doc__', '__file__', '__loader__', '__name__', '__package__', '__spec__', 'acos', 'acosh', 'asin', 'asinh', 'atan', 'atan2', 'atanh', 'cbrt', 'ceil', 'comb', 'copysign', 'cos', 'cosh', 'degrees', 'dist', 'e', 'erf', 'erfc', 'exp', 'exp2', 'expm1', 'fabs', 'factorial', 'floor', 'fmod', 'frexp', 'fsum', 'gamma', 'gcd', 'hypot', 'inf', 'isclose', 'isfinite', 'isinf', 'isnan', 'isqrt', 'lcm', 'ldexp', 'lgamma', 'log', 'log10', 'log1p', 'log2', 'modf', 'nan', 'nextafter', 'perm', 'pi', 'pow', 'prod', 'radians', 'remainder', 'sin', 'sinh', 'sqrt', 'sumprod', 'tan', 'tanh', 'tau', 'trunc', 'ulp']\n"
     ]
    }
   ],
   "source": [
    "print(dir (math))  # attributes & methods"
   ]
  },
  {
   "cell_type": "code",
   "execution_count": null,
   "id": "b8c82169-04ff-44e8-9c57-fdb5682d766a",
   "metadata": {},
   "outputs": [],
   "source": [
    "#dir ( x)  # x cursor position, press Shift + tab"
   ]
  },
  {
   "cell_type": "code",
   "execution_count": null,
   "id": "bad7f5f2-78f5-4616-8358-21abf64beaed",
   "metadata": {},
   "outputs": [],
   "source": [
    "import numpy as np"
   ]
  },
  {
   "cell_type": "code",
   "execution_count": null,
   "id": "0e74ab49-9a88-42ae-ad60-3bc95aa73451",
   "metadata": {},
   "outputs": [],
   "source": [
    "np.info(np.array)"
   ]
  },
  {
   "cell_type": "code",
   "execution_count": null,
   "id": "bfb14d48-54e7-40c3-abce-1a275e0de868",
   "metadata": {},
   "outputs": [],
   "source": [
    "import pandas as pd"
   ]
  },
  {
   "cell_type": "code",
   "execution_count": null,
   "id": "6932769c-36c2-4d9a-967e-6f1c4ba1dd13",
   "metadata": {},
   "outputs": [],
   "source": [
    "#pd.info(pd.melt)  # does not work"
   ]
  },
  {
   "cell_type": "code",
   "execution_count": null,
   "id": "6e2b2733-0423-4954-a872-b95c415cccbe",
   "metadata": {},
   "outputs": [],
   "source": [
    "?np.array"
   ]
  },
  {
   "cell_type": "code",
   "execution_count": null,
   "id": "42337ef3-96a3-486e-92c7-6da7c32867ce",
   "metadata": {},
   "outputs": [],
   "source": [
    "?pd.read_csv"
   ]
  },
  {
   "cell_type": "code",
   "execution_count": null,
   "id": "143c1aa4-5150-4e04-9b45-daf0bed89cc5",
   "metadata": {},
   "outputs": [],
   "source": [
    "%pdoc np.array"
   ]
  },
  {
   "cell_type": "code",
   "execution_count": null,
   "id": "320f5f03-fb59-4315-8ca5-31e9da450d4e",
   "metadata": {},
   "outputs": [],
   "source": [
    "%pdef pd.read_csv"
   ]
  },
  {
   "cell_type": "code",
   "execution_count": null,
   "id": "c14c544f-ca90-402d-b4e1-fe2a8d4656f6",
   "metadata": {},
   "outputs": [],
   "source": []
  }
 ],
 "metadata": {
  "kernelspec": {
   "display_name": "Python 3 (ipykernel)",
   "language": "python",
   "name": "python3"
  },
  "language_info": {
   "codemirror_mode": {
    "name": "ipython",
    "version": 3
   },
   "file_extension": ".py",
   "mimetype": "text/x-python",
   "name": "python",
   "nbconvert_exporter": "python",
   "pygments_lexer": "ipython3",
   "version": "3.12.7"
  }
 },
 "nbformat": 4,
 "nbformat_minor": 5
}
