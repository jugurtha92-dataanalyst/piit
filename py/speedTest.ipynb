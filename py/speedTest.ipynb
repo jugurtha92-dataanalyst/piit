{
 "cells": [
  {
   "cell_type": "code",
   "execution_count": null,
   "id": "cc96b9a6-fc0e-4645-9dc7-3470efe1e079",
   "metadata": {},
   "outputs": [],
   "source": [
    "## Speed Tests\n",
    "- https://pypi.org/project/speedtest-cli/"
   ]
  },
  {
   "cell_type": "code",
   "execution_count": 8,
   "id": "f5e9e2ee-1659-4733-8c2b-568c5ffa2231",
   "metadata": {},
   "outputs": [
    {
     "name": "stdout",
     "output_type": "stream",
     "text": [
      "Collecting speedtest-cli\n",
      "  Downloading speedtest_cli-2.1.3-py2.py3-none-any.whl.metadata (6.8 kB)\n",
      "Downloading speedtest_cli-2.1.3-py2.py3-none-any.whl (23 kB)\n",
      "Installing collected packages: speedtest-cli\n",
      "Successfully installed speedtest-cli-2.1.3\n"
     ]
    }
   ],
   "source": [
    "#!pip install speedtest-cli"
   ]
  },
  {
   "cell_type": "code",
   "execution_count": 9,
   "id": "e18916ef-fd0c-457e-8545-15b14353fe2d",
   "metadata": {},
   "outputs": [],
   "source": [
    "import speedtest as st"
   ]
  },
  {
   "cell_type": "code",
   "execution_count": null,
   "id": "9781afce-8f8b-44ed-a719-07c7d1c008b0",
   "metadata": {},
   "outputs": [],
   "source": [
    "st."
   ]
  },
  {
   "cell_type": "code",
   "execution_count": 10,
   "id": "b3147bda-9de6-4d09-8a59-e4626c8304bb",
   "metadata": {},
   "outputs": [],
   "source": [
    "def Speed_test():\n",
    "    test = st.Speedtest()\n",
    "    down_speed =test.download()\n",
    "    down_speed = round(down_speed, 10 **6,2)\n",
    "    print(\"Download Speed in Mbps \", down_speed)"
   ]
  },
  {
   "cell_type": "code",
   "execution_count": 11,
   "id": "5ba4d843-cd52-4bab-b806-62b260e84503",
   "metadata": {},
   "outputs": [
    {
     "ename": "AttributeError",
     "evalue": "module 'speedtest' has no attribute 'Speedtest'",
     "output_type": "error",
     "traceback": [
      "\u001b[0;31m---------------------------------------------------------------------------\u001b[0m",
      "\u001b[0;31mAttributeError\u001b[0m                            Traceback (most recent call last)",
      "Cell \u001b[0;32mIn[11], line 1\u001b[0m\n\u001b[0;32m----> 1\u001b[0m \u001b[43mSpeed_test\u001b[49m\u001b[43m(\u001b[49m\u001b[43m)\u001b[49m\n",
      "Cell \u001b[0;32mIn[10], line 2\u001b[0m, in \u001b[0;36mSpeed_test\u001b[0;34m()\u001b[0m\n\u001b[1;32m      1\u001b[0m \u001b[38;5;28;01mdef\u001b[39;00m\u001b[38;5;250m \u001b[39m\u001b[38;5;21mSpeed_test\u001b[39m():\n\u001b[0;32m----> 2\u001b[0m     test \u001b[38;5;241m=\u001b[39m \u001b[43mst\u001b[49m\u001b[38;5;241;43m.\u001b[39;49m\u001b[43mSpeedtest\u001b[49m()\n\u001b[1;32m      3\u001b[0m     down_speed \u001b[38;5;241m=\u001b[39mtest\u001b[38;5;241m.\u001b[39mdownload()\n\u001b[1;32m      4\u001b[0m     down_speed \u001b[38;5;241m=\u001b[39m \u001b[38;5;28mround\u001b[39m(down_speed, \u001b[38;5;241m10\u001b[39m \u001b[38;5;241m*\u001b[39m\u001b[38;5;241m*\u001b[39m\u001b[38;5;241m6\u001b[39m,\u001b[38;5;241m2\u001b[39m)\n",
      "\u001b[0;31mAttributeError\u001b[0m: module 'speedtest' has no attribute 'Speedtest'"
     ]
    }
   ],
   "source": [
    "Speed_test()"
   ]
  },
  {
   "cell_type": "code",
   "execution_count": null,
   "id": "c7934a25-98f2-4495-a8a6-b93220e19fbf",
   "metadata": {},
   "outputs": [],
   "source": []
  }
 ],
 "metadata": {
  "kernelspec": {
   "display_name": "Python 3 (ipykernel)",
   "language": "python",
   "name": "python3"
  },
  "language_info": {
   "codemirror_mode": {
    "name": "ipython",
    "version": 3
   },
   "file_extension": ".py",
   "mimetype": "text/x-python",
   "name": "python",
   "nbconvert_exporter": "python",
   "pygments_lexer": "ipython3",
   "version": "3.12.11"
  }
 },
 "nbformat": 4,
 "nbformat_minor": 5
}
