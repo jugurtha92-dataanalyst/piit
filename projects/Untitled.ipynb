{
 "cells": [
  {
   "cell_type": "code",
   "execution_count": 2,
   "id": "0f2d17f7-de2b-413c-827e-d0c8fc7281d8",
   "metadata": {},
   "outputs": [
    {
     "name": "stdout",
     "output_type": "stream",
     "text": [
      "Requirement already satisfied: pydataset in c:\\users\\juguh\\anaconda3\\lib\\site-packages (0.2.0)\n",
      "Requirement already satisfied: pandas in c:\\users\\juguh\\anaconda3\\lib\\site-packages (from pydataset) (2.2.3)\n",
      "Requirement already satisfied: numpy>=1.26.0 in c:\\users\\juguh\\anaconda3\\lib\\site-packages (from pandas->pydataset) (2.1.3)\n",
      "Requirement already satisfied: python-dateutil>=2.8.2 in c:\\users\\juguh\\anaconda3\\lib\\site-packages (from pandas->pydataset) (2.9.0.post0)\n",
      "Requirement already satisfied: pytz>=2020.1 in c:\\users\\juguh\\anaconda3\\lib\\site-packages (from pandas->pydataset) (2024.1)\n",
      "Requirement already satisfied: tzdata>=2022.7 in c:\\users\\juguh\\anaconda3\\lib\\site-packages (from pandas->pydataset) (2025.2)\n",
      "Requirement already satisfied: six>=1.5 in c:\\users\\juguh\\anaconda3\\lib\\site-packages (from python-dateutil>=2.8.2->pandas->pydataset) (1.17.0)\n",
      "Note: you may need to restart the kernel to use updated packages.\n"
     ]
    }
   ],
   "source": [
    "pip install pydataset\n"
   ]
  },
  {
   "cell_type": "code",
   "execution_count": null,
   "id": "d309059c-dad5-4347-bb94-a858fe8e1d1d",
   "metadata": {},
   "outputs": [],
   "source": []
  }
 ],
 "metadata": {
  "kernelspec": {
   "display_name": "Python [conda env:base] *",
   "language": "python",
   "name": "conda-base-py"
  },
  "language_info": {
   "codemirror_mode": {
    "name": "ipython",
    "version": 3
   },
   "file_extension": ".py",
   "mimetype": "text/x-python",
   "name": "python",
   "nbconvert_exporter": "python",
   "pygments_lexer": "ipython3",
   "version": "3.13.5"
  }
 },
 "nbformat": 4,
 "nbformat_minor": 5
}
