{
 "cells": [
  {
   "cell_type": "markdown",
   "id": "f1fbded0",
   "metadata": {},
   "source": [
    "# Python Data Analysis – Step-by-Step Exercises"
   ]
  },
  {
   "cell_type": "markdown",
   "id": "067f4641",
   "metadata": {},
   "source": [
    "\n",
    "This notebook covers setup, cleaning, EDA, joins, reshaping, window functions, time series,\n",
    "outliers, basic plotting, and a simple model. Each task has an **Exercise** and a **Solution**.\n"
   ]
  },
  {
   "cell_type": "code",
   "execution_count": 4,
   "id": "2aba95a4-e6ed-4098-b995-e392f76734c3",
   "metadata": {},
   "outputs": [
    {
     "name": "stdout",
     "output_type": "stream",
     "text": [
      "https://docs.google.com/spreadsheets/d/19ReQlRfDQHcV1OFUnmVkiFY_1IrJeOR0g1RmrjfjMD4/export?format=csv&gid=764977169\n",
      "https://docs.google.com/spreadsheets/d/19ReQlRfDQHcV1OFUnmVkiFY_1IrJeOR0g1RmrjfjMD4/export?format=csv&gid=675685971\n",
      "https://docs.google.com/spreadsheets/d/19ReQlRfDQHcV1OFUnmVkiFY_1IrJeOR0g1RmrjfjMD4/export?format=csv&gid=1527535056\n"
     ]
    }
   ],
   "source": [
    "# Data in Google Sheets\n",
    "gs1 = 'https://docs.google.com/spreadsheets/d/'\n",
    "sheetid = '19ReQlRfDQHcV1OFUnmVkiFY_1IrJeOR0g1RmrjfjMD4'\n",
    "gs2 = '/export?format=csv&gid='\n",
    "gidO = '764977169' #orders\n",
    "gidR = '675685971' #Returns\n",
    "gidP = '1527535056' #People\n",
    "gsurlO = gs1 + sheetid + gs2 + gidO\n",
    "gsurlR = gs1 + sheetid + gs2 + gidR\n",
    "gsurlP = gs1 + sheetid + gs2 + gidP\n",
    "\n",
    "print(gsurlO, gsurlR, gsurlP, end ='\\n', sep ='\\n')\n"
   ]
  },
  {
   "cell_type": "code",
   "execution_count": 6,
   "id": "1362c3f3",
   "metadata": {},
   "outputs": [],
   "source": [
    "#load multiple libraries\n",
    "import pandas as pd, numpy as np, matplotlib.pyplot as plt"
   ]
  },
  {
   "cell_type": "code",
   "execution_count": null,
   "id": "de28693e-3b90-4c75-abb0-f3fe84ceab1c",
   "metadata": {},
   "outputs": [],
   "source": [
    "#Load Data\n",
    "orders = pd.read_csv(gsurlO, parse_dates=[\"Order Date\",\"Ship Date\"])\n",
    "returns = pd.read_csv(gsurlR)\n",
    "people  = pd.read_csv(gsurlP)"
   ]
  },
  {
   "cell_type": "code",
   "execution_count": 14,
   "id": "8e4d9ea7-36d8-4e8a-bec9-6c6baa09ecd2",
   "metadata": {},
   "outputs": [
    {
     "name": "stdout",
     "output_type": "stream",
     "text": [
      "Orders Table -  (9994, 21) \n",
      "Return Table -  (296, 2) \n",
      "People Table -  (4, 2)\n"
     ]
    }
   ],
   "source": [
    "# Check for rows and column counts\n",
    "print('Orders Table - ', orders.shape, '\\nReturn Table - ',  returns.shape, '\\nPeople Table - ', people.shape)"
   ]
  },
  {
   "cell_type": "markdown",
   "id": "8ebe2f34",
   "metadata": {},
   "source": [
    "### Inspect & Clean"
   ]
  },
  {
   "cell_type": "code",
   "execution_count": 15,
   "id": "b9de9260",
   "metadata": {},
   "outputs": [
    {
     "name": "stdout",
     "output_type": "stream",
     "text": [
      "<class 'pandas.core.frame.DataFrame'>\n",
      "RangeIndex: 9994 entries, 0 to 9993\n",
      "Data columns (total 21 columns):\n",
      " #   Column         Non-Null Count  Dtype  \n",
      "---  ------         --------------  -----  \n",
      " 0   Row ID         9994 non-null   int64  \n",
      " 1   Order ID       9994 non-null   object \n",
      " 2   Order Date     9994 non-null   object \n",
      " 3   Ship Date      9994 non-null   object \n",
      " 4   Ship Mode      9994 non-null   object \n",
      " 5   Customer ID    9994 non-null   object \n",
      " 6   Customer Name  9994 non-null   object \n",
      " 7   Segment        9994 non-null   object \n",
      " 8   Country        9994 non-null   object \n",
      " 9   City           9994 non-null   object \n",
      " 10  State          9994 non-null   object \n",
      " 11  Postal Code    9994 non-null   int64  \n",
      " 12  Region         9994 non-null   object \n",
      " 13  Product ID     9994 non-null   object \n",
      " 14  Category       9994 non-null   object \n",
      " 15  Sub-Category   9994 non-null   object \n",
      " 16  Product Name   9994 non-null   object \n",
      " 17  Sales          9994 non-null   float64\n",
      " 18  Quantity       9994 non-null   int64  \n",
      " 19  Discount       9994 non-null   float64\n",
      " 20  Profit         9994 non-null   float64\n",
      "dtypes: float64(3), int64(3), object(15)\n",
      "memory usage: 1.6+ MB\n"
     ]
    },
    {
     "data": {
      "text/html": [
       "<div>\n",
       "<style scoped>\n",
       "    .dataframe tbody tr th:only-of-type {\n",
       "        vertical-align: middle;\n",
       "    }\n",
       "\n",
       "    .dataframe tbody tr th {\n",
       "        vertical-align: top;\n",
       "    }\n",
       "\n",
       "    .dataframe thead th {\n",
       "        text-align: right;\n",
       "    }\n",
       "</style>\n",
       "<table border=\"1\" class=\"dataframe\">\n",
       "  <thead>\n",
       "    <tr style=\"text-align: right;\">\n",
       "      <th></th>\n",
       "      <th>Row ID</th>\n",
       "      <th>Order ID</th>\n",
       "      <th>Order Date</th>\n",
       "      <th>Ship Date</th>\n",
       "      <th>Ship Mode</th>\n",
       "      <th>Customer ID</th>\n",
       "      <th>Customer Name</th>\n",
       "      <th>Segment</th>\n",
       "      <th>Country</th>\n",
       "      <th>City</th>\n",
       "      <th>...</th>\n",
       "      <th>Postal Code</th>\n",
       "      <th>Region</th>\n",
       "      <th>Product ID</th>\n",
       "      <th>Category</th>\n",
       "      <th>Sub-Category</th>\n",
       "      <th>Product Name</th>\n",
       "      <th>Sales</th>\n",
       "      <th>Quantity</th>\n",
       "      <th>Discount</th>\n",
       "      <th>Profit</th>\n",
       "    </tr>\n",
       "  </thead>\n",
       "  <tbody>\n",
       "    <tr>\n",
       "      <th>count</th>\n",
       "      <td>9994.000000</td>\n",
       "      <td>9994</td>\n",
       "      <td>9994</td>\n",
       "      <td>9994</td>\n",
       "      <td>9994</td>\n",
       "      <td>9994</td>\n",
       "      <td>9994</td>\n",
       "      <td>9994</td>\n",
       "      <td>9994</td>\n",
       "      <td>9994</td>\n",
       "      <td>...</td>\n",
       "      <td>9994.000000</td>\n",
       "      <td>9994</td>\n",
       "      <td>9994</td>\n",
       "      <td>9994</td>\n",
       "      <td>9994</td>\n",
       "      <td>9994</td>\n",
       "      <td>9994.000000</td>\n",
       "      <td>9994.000000</td>\n",
       "      <td>9994.000000</td>\n",
       "      <td>9994.000000</td>\n",
       "    </tr>\n",
       "    <tr>\n",
       "      <th>unique</th>\n",
       "      <td>NaN</td>\n",
       "      <td>5009</td>\n",
       "      <td>1237</td>\n",
       "      <td>1334</td>\n",
       "      <td>4</td>\n",
       "      <td>793</td>\n",
       "      <td>793</td>\n",
       "      <td>3</td>\n",
       "      <td>1</td>\n",
       "      <td>531</td>\n",
       "      <td>...</td>\n",
       "      <td>NaN</td>\n",
       "      <td>4</td>\n",
       "      <td>1862</td>\n",
       "      <td>3</td>\n",
       "      <td>17</td>\n",
       "      <td>1850</td>\n",
       "      <td>NaN</td>\n",
       "      <td>NaN</td>\n",
       "      <td>NaN</td>\n",
       "      <td>NaN</td>\n",
       "    </tr>\n",
       "    <tr>\n",
       "      <th>top</th>\n",
       "      <td>NaN</td>\n",
       "      <td>CA-2017-100111</td>\n",
       "      <td>5/9/2016</td>\n",
       "      <td>16/12/2015</td>\n",
       "      <td>Standard Class</td>\n",
       "      <td>WB-21850</td>\n",
       "      <td>William Brown</td>\n",
       "      <td>Consumer</td>\n",
       "      <td>United States</td>\n",
       "      <td>New York City</td>\n",
       "      <td>...</td>\n",
       "      <td>NaN</td>\n",
       "      <td>West</td>\n",
       "      <td>OFF-PA-10001970</td>\n",
       "      <td>Office Supplies</td>\n",
       "      <td>Binders</td>\n",
       "      <td>Staple envelope</td>\n",
       "      <td>NaN</td>\n",
       "      <td>NaN</td>\n",
       "      <td>NaN</td>\n",
       "      <td>NaN</td>\n",
       "    </tr>\n",
       "    <tr>\n",
       "      <th>freq</th>\n",
       "      <td>NaN</td>\n",
       "      <td>14</td>\n",
       "      <td>38</td>\n",
       "      <td>35</td>\n",
       "      <td>5968</td>\n",
       "      <td>37</td>\n",
       "      <td>37</td>\n",
       "      <td>5191</td>\n",
       "      <td>9994</td>\n",
       "      <td>915</td>\n",
       "      <td>...</td>\n",
       "      <td>NaN</td>\n",
       "      <td>3203</td>\n",
       "      <td>19</td>\n",
       "      <td>6026</td>\n",
       "      <td>1523</td>\n",
       "      <td>48</td>\n",
       "      <td>NaN</td>\n",
       "      <td>NaN</td>\n",
       "      <td>NaN</td>\n",
       "      <td>NaN</td>\n",
       "    </tr>\n",
       "    <tr>\n",
       "      <th>mean</th>\n",
       "      <td>4997.500000</td>\n",
       "      <td>NaN</td>\n",
       "      <td>NaN</td>\n",
       "      <td>NaN</td>\n",
       "      <td>NaN</td>\n",
       "      <td>NaN</td>\n",
       "      <td>NaN</td>\n",
       "      <td>NaN</td>\n",
       "      <td>NaN</td>\n",
       "      <td>NaN</td>\n",
       "      <td>...</td>\n",
       "      <td>55190.379428</td>\n",
       "      <td>NaN</td>\n",
       "      <td>NaN</td>\n",
       "      <td>NaN</td>\n",
       "      <td>NaN</td>\n",
       "      <td>NaN</td>\n",
       "      <td>229.858001</td>\n",
       "      <td>3.789574</td>\n",
       "      <td>0.156203</td>\n",
       "      <td>28.656896</td>\n",
       "    </tr>\n",
       "    <tr>\n",
       "      <th>std</th>\n",
       "      <td>2885.163629</td>\n",
       "      <td>NaN</td>\n",
       "      <td>NaN</td>\n",
       "      <td>NaN</td>\n",
       "      <td>NaN</td>\n",
       "      <td>NaN</td>\n",
       "      <td>NaN</td>\n",
       "      <td>NaN</td>\n",
       "      <td>NaN</td>\n",
       "      <td>NaN</td>\n",
       "      <td>...</td>\n",
       "      <td>32063.693350</td>\n",
       "      <td>NaN</td>\n",
       "      <td>NaN</td>\n",
       "      <td>NaN</td>\n",
       "      <td>NaN</td>\n",
       "      <td>NaN</td>\n",
       "      <td>623.245101</td>\n",
       "      <td>2.225110</td>\n",
       "      <td>0.206452</td>\n",
       "      <td>234.260108</td>\n",
       "    </tr>\n",
       "    <tr>\n",
       "      <th>min</th>\n",
       "      <td>1.000000</td>\n",
       "      <td>NaN</td>\n",
       "      <td>NaN</td>\n",
       "      <td>NaN</td>\n",
       "      <td>NaN</td>\n",
       "      <td>NaN</td>\n",
       "      <td>NaN</td>\n",
       "      <td>NaN</td>\n",
       "      <td>NaN</td>\n",
       "      <td>NaN</td>\n",
       "      <td>...</td>\n",
       "      <td>1040.000000</td>\n",
       "      <td>NaN</td>\n",
       "      <td>NaN</td>\n",
       "      <td>NaN</td>\n",
       "      <td>NaN</td>\n",
       "      <td>NaN</td>\n",
       "      <td>0.444000</td>\n",
       "      <td>1.000000</td>\n",
       "      <td>0.000000</td>\n",
       "      <td>-6599.978000</td>\n",
       "    </tr>\n",
       "    <tr>\n",
       "      <th>25%</th>\n",
       "      <td>2499.250000</td>\n",
       "      <td>NaN</td>\n",
       "      <td>NaN</td>\n",
       "      <td>NaN</td>\n",
       "      <td>NaN</td>\n",
       "      <td>NaN</td>\n",
       "      <td>NaN</td>\n",
       "      <td>NaN</td>\n",
       "      <td>NaN</td>\n",
       "      <td>NaN</td>\n",
       "      <td>...</td>\n",
       "      <td>23223.000000</td>\n",
       "      <td>NaN</td>\n",
       "      <td>NaN</td>\n",
       "      <td>NaN</td>\n",
       "      <td>NaN</td>\n",
       "      <td>NaN</td>\n",
       "      <td>17.280000</td>\n",
       "      <td>2.000000</td>\n",
       "      <td>0.000000</td>\n",
       "      <td>1.728750</td>\n",
       "    </tr>\n",
       "    <tr>\n",
       "      <th>50%</th>\n",
       "      <td>4997.500000</td>\n",
       "      <td>NaN</td>\n",
       "      <td>NaN</td>\n",
       "      <td>NaN</td>\n",
       "      <td>NaN</td>\n",
       "      <td>NaN</td>\n",
       "      <td>NaN</td>\n",
       "      <td>NaN</td>\n",
       "      <td>NaN</td>\n",
       "      <td>NaN</td>\n",
       "      <td>...</td>\n",
       "      <td>56430.500000</td>\n",
       "      <td>NaN</td>\n",
       "      <td>NaN</td>\n",
       "      <td>NaN</td>\n",
       "      <td>NaN</td>\n",
       "      <td>NaN</td>\n",
       "      <td>54.490000</td>\n",
       "      <td>3.000000</td>\n",
       "      <td>0.200000</td>\n",
       "      <td>8.666500</td>\n",
       "    </tr>\n",
       "    <tr>\n",
       "      <th>75%</th>\n",
       "      <td>7495.750000</td>\n",
       "      <td>NaN</td>\n",
       "      <td>NaN</td>\n",
       "      <td>NaN</td>\n",
       "      <td>NaN</td>\n",
       "      <td>NaN</td>\n",
       "      <td>NaN</td>\n",
       "      <td>NaN</td>\n",
       "      <td>NaN</td>\n",
       "      <td>NaN</td>\n",
       "      <td>...</td>\n",
       "      <td>90008.000000</td>\n",
       "      <td>NaN</td>\n",
       "      <td>NaN</td>\n",
       "      <td>NaN</td>\n",
       "      <td>NaN</td>\n",
       "      <td>NaN</td>\n",
       "      <td>209.940000</td>\n",
       "      <td>5.000000</td>\n",
       "      <td>0.200000</td>\n",
       "      <td>29.364000</td>\n",
       "    </tr>\n",
       "    <tr>\n",
       "      <th>max</th>\n",
       "      <td>9994.000000</td>\n",
       "      <td>NaN</td>\n",
       "      <td>NaN</td>\n",
       "      <td>NaN</td>\n",
       "      <td>NaN</td>\n",
       "      <td>NaN</td>\n",
       "      <td>NaN</td>\n",
       "      <td>NaN</td>\n",
       "      <td>NaN</td>\n",
       "      <td>NaN</td>\n",
       "      <td>...</td>\n",
       "      <td>99301.000000</td>\n",
       "      <td>NaN</td>\n",
       "      <td>NaN</td>\n",
       "      <td>NaN</td>\n",
       "      <td>NaN</td>\n",
       "      <td>NaN</td>\n",
       "      <td>22638.480000</td>\n",
       "      <td>14.000000</td>\n",
       "      <td>0.800000</td>\n",
       "      <td>8399.976000</td>\n",
       "    </tr>\n",
       "  </tbody>\n",
       "</table>\n",
       "<p>11 rows × 21 columns</p>\n",
       "</div>"
      ],
      "text/plain": [
       "             Row ID        Order ID Order Date   Ship Date       Ship Mode  \\\n",
       "count   9994.000000            9994       9994        9994            9994   \n",
       "unique          NaN            5009       1237        1334               4   \n",
       "top             NaN  CA-2017-100111   5/9/2016  16/12/2015  Standard Class   \n",
       "freq            NaN              14         38          35            5968   \n",
       "mean    4997.500000             NaN        NaN         NaN             NaN   \n",
       "std     2885.163629             NaN        NaN         NaN             NaN   \n",
       "min        1.000000             NaN        NaN         NaN             NaN   \n",
       "25%     2499.250000             NaN        NaN         NaN             NaN   \n",
       "50%     4997.500000             NaN        NaN         NaN             NaN   \n",
       "75%     7495.750000             NaN        NaN         NaN             NaN   \n",
       "max     9994.000000             NaN        NaN         NaN             NaN   \n",
       "\n",
       "       Customer ID  Customer Name   Segment        Country           City  \\\n",
       "count         9994           9994      9994           9994           9994   \n",
       "unique         793            793         3              1            531   \n",
       "top       WB-21850  William Brown  Consumer  United States  New York City   \n",
       "freq            37             37      5191           9994            915   \n",
       "mean           NaN            NaN       NaN            NaN            NaN   \n",
       "std            NaN            NaN       NaN            NaN            NaN   \n",
       "min            NaN            NaN       NaN            NaN            NaN   \n",
       "25%            NaN            NaN       NaN            NaN            NaN   \n",
       "50%            NaN            NaN       NaN            NaN            NaN   \n",
       "75%            NaN            NaN       NaN            NaN            NaN   \n",
       "max            NaN            NaN       NaN            NaN            NaN   \n",
       "\n",
       "        ...   Postal Code  Region       Product ID         Category  \\\n",
       "count   ...   9994.000000    9994             9994             9994   \n",
       "unique  ...           NaN       4             1862                3   \n",
       "top     ...           NaN    West  OFF-PA-10001970  Office Supplies   \n",
       "freq    ...           NaN    3203               19             6026   \n",
       "mean    ...  55190.379428     NaN              NaN              NaN   \n",
       "std     ...  32063.693350     NaN              NaN              NaN   \n",
       "min     ...   1040.000000     NaN              NaN              NaN   \n",
       "25%     ...  23223.000000     NaN              NaN              NaN   \n",
       "50%     ...  56430.500000     NaN              NaN              NaN   \n",
       "75%     ...  90008.000000     NaN              NaN              NaN   \n",
       "max     ...  99301.000000     NaN              NaN              NaN   \n",
       "\n",
       "       Sub-Category     Product Name         Sales     Quantity     Discount  \\\n",
       "count          9994             9994   9994.000000  9994.000000  9994.000000   \n",
       "unique           17             1850           NaN          NaN          NaN   \n",
       "top         Binders  Staple envelope           NaN          NaN          NaN   \n",
       "freq           1523               48           NaN          NaN          NaN   \n",
       "mean            NaN              NaN    229.858001     3.789574     0.156203   \n",
       "std             NaN              NaN    623.245101     2.225110     0.206452   \n",
       "min             NaN              NaN      0.444000     1.000000     0.000000   \n",
       "25%             NaN              NaN     17.280000     2.000000     0.000000   \n",
       "50%             NaN              NaN     54.490000     3.000000     0.200000   \n",
       "75%             NaN              NaN    209.940000     5.000000     0.200000   \n",
       "max             NaN              NaN  22638.480000    14.000000     0.800000   \n",
       "\n",
       "             Profit  \n",
       "count   9994.000000  \n",
       "unique          NaN  \n",
       "top             NaN  \n",
       "freq            NaN  \n",
       "mean      28.656896  \n",
       "std      234.260108  \n",
       "min    -6599.978000  \n",
       "25%        1.728750  \n",
       "50%        8.666500  \n",
       "75%       29.364000  \n",
       "max     8399.976000  \n",
       "\n",
       "[11 rows x 21 columns]"
      ]
     },
     "execution_count": 15,
     "metadata": {},
     "output_type": "execute_result"
    }
   ],
   "source": [
    "orders.info(); orders.describe(include=\"all\")"
   ]
  },
  {
   "cell_type": "code",
   "execution_count": 16,
   "id": "7e030e3d",
   "metadata": {},
   "outputs": [
    {
     "data": {
      "text/plain": [
       "(Row ID           0\n",
       " Order ID         0\n",
       " Order Date       0\n",
       " Ship Date        0\n",
       " Ship Mode        0\n",
       " Customer ID      0\n",
       " Customer Name    0\n",
       " Segment          0\n",
       " Country          0\n",
       " City             0\n",
       " State            0\n",
       " Postal Code      0\n",
       " Region           0\n",
       " Product ID       0\n",
       " Category         0\n",
       " Sub-Category     0\n",
       " Product Name     0\n",
       " Sales            0\n",
       " Quantity         0\n",
       " Discount         0\n",
       " Profit           0\n",
       " dtype: int64,\n",
       " 0)"
      ]
     },
     "execution_count": 16,
     "metadata": {},
     "output_type": "execute_result"
    }
   ],
   "source": [
    "orders.isna().sum(), orders.duplicated().sum()"
   ]
  },
  {
   "cell_type": "code",
   "execution_count": 17,
   "id": "500f66a0",
   "metadata": {},
   "outputs": [
    {
     "data": {
      "text/plain": [
       "Row ID           0\n",
       "Order ID         0\n",
       "Order Date       0\n",
       "Ship Date        0\n",
       "Ship Mode        0\n",
       "Customer ID      0\n",
       "Customer Name    0\n",
       "Segment          0\n",
       "Country          0\n",
       "City             0\n",
       "State            0\n",
       "Postal Code      0\n",
       "Region           0\n",
       "Product ID       0\n",
       "Category         0\n",
       "Sub-Category     0\n",
       "Product Name     0\n",
       "Sales            0\n",
       "Quantity         0\n",
       "Discount         0\n",
       "Profit           0\n",
       "dtype: int64"
      ]
     },
     "execution_count": 17,
     "metadata": {},
     "output_type": "execute_result"
    }
   ],
   "source": [
    "orders = orders.drop_duplicates()\n",
    "orders[\"Profit\"] = orders[\"Profit\"].fillna(orders[\"Profit\"].median())\n",
    "orders[\"Region\"] = orders[\"Region\"].fillna(\"Unknown\")\n",
    "orders.isna().sum()\n"
   ]
  },
  {
   "cell_type": "markdown",
   "id": "c26802b6",
   "metadata": {},
   "source": [
    "### Filtering, Sorting, Strings"
   ]
  },
  {
   "cell_type": "code",
   "execution_count": 18,
   "id": "df2a2c8d",
   "metadata": {},
   "outputs": [
    {
     "data": {
      "text/html": [
       "<div>\n",
       "<style scoped>\n",
       "    .dataframe tbody tr th:only-of-type {\n",
       "        vertical-align: middle;\n",
       "    }\n",
       "\n",
       "    .dataframe tbody tr th {\n",
       "        vertical-align: top;\n",
       "    }\n",
       "\n",
       "    .dataframe thead th {\n",
       "        text-align: right;\n",
       "    }\n",
       "</style>\n",
       "<table border=\"1\" class=\"dataframe\">\n",
       "  <thead>\n",
       "    <tr style=\"text-align: right;\">\n",
       "      <th></th>\n",
       "      <th>Row ID</th>\n",
       "      <th>Order ID</th>\n",
       "      <th>Order Date</th>\n",
       "      <th>Ship Date</th>\n",
       "      <th>Ship Mode</th>\n",
       "      <th>Customer ID</th>\n",
       "      <th>Customer Name</th>\n",
       "      <th>Segment</th>\n",
       "      <th>Country</th>\n",
       "      <th>City</th>\n",
       "      <th>...</th>\n",
       "      <th>Postal Code</th>\n",
       "      <th>Region</th>\n",
       "      <th>Product ID</th>\n",
       "      <th>Category</th>\n",
       "      <th>Sub-Category</th>\n",
       "      <th>Product Name</th>\n",
       "      <th>Sales</th>\n",
       "      <th>Quantity</th>\n",
       "      <th>Discount</th>\n",
       "      <th>Profit</th>\n",
       "    </tr>\n",
       "  </thead>\n",
       "  <tbody>\n",
       "    <tr>\n",
       "      <th>6826</th>\n",
       "      <td>6827</td>\n",
       "      <td>CA-2016-118689</td>\n",
       "      <td>2/10/2016</td>\n",
       "      <td>9/10/2016</td>\n",
       "      <td>Standard Class</td>\n",
       "      <td>TC-20980</td>\n",
       "      <td>Tamara Chand</td>\n",
       "      <td>Corporate</td>\n",
       "      <td>United States</td>\n",
       "      <td>Lafayette</td>\n",
       "      <td>...</td>\n",
       "      <td>47905</td>\n",
       "      <td>Central</td>\n",
       "      <td>TEC-CO-10004722</td>\n",
       "      <td>Technology</td>\n",
       "      <td>Copiers</td>\n",
       "      <td>Canon imageCLASS 2200 Advanced Copier</td>\n",
       "      <td>17499.950</td>\n",
       "      <td>5</td>\n",
       "      <td>0.0</td>\n",
       "      <td>8399.9760</td>\n",
       "    </tr>\n",
       "    <tr>\n",
       "      <th>8153</th>\n",
       "      <td>8154</td>\n",
       "      <td>CA-2017-140151</td>\n",
       "      <td>23/3/2017</td>\n",
       "      <td>25/3/2017</td>\n",
       "      <td>First Class</td>\n",
       "      <td>RB-19360</td>\n",
       "      <td>Raymond Buch</td>\n",
       "      <td>Consumer</td>\n",
       "      <td>United States</td>\n",
       "      <td>Seattle</td>\n",
       "      <td>...</td>\n",
       "      <td>98115</td>\n",
       "      <td>West</td>\n",
       "      <td>TEC-CO-10004722</td>\n",
       "      <td>Technology</td>\n",
       "      <td>Copiers</td>\n",
       "      <td>Canon imageCLASS 2200 Advanced Copier</td>\n",
       "      <td>13999.960</td>\n",
       "      <td>4</td>\n",
       "      <td>0.0</td>\n",
       "      <td>6719.9808</td>\n",
       "    </tr>\n",
       "    <tr>\n",
       "      <th>2623</th>\n",
       "      <td>2624</td>\n",
       "      <td>CA-2017-127180</td>\n",
       "      <td>22/10/2017</td>\n",
       "      <td>24/10/2017</td>\n",
       "      <td>First Class</td>\n",
       "      <td>TA-21385</td>\n",
       "      <td>Tom Ashbrook</td>\n",
       "      <td>Home Office</td>\n",
       "      <td>United States</td>\n",
       "      <td>New York City</td>\n",
       "      <td>...</td>\n",
       "      <td>10024</td>\n",
       "      <td>East</td>\n",
       "      <td>TEC-CO-10004722</td>\n",
       "      <td>Technology</td>\n",
       "      <td>Copiers</td>\n",
       "      <td>Canon imageCLASS 2200 Advanced Copier</td>\n",
       "      <td>11199.968</td>\n",
       "      <td>4</td>\n",
       "      <td>0.2</td>\n",
       "      <td>3919.9888</td>\n",
       "    </tr>\n",
       "    <tr>\n",
       "      <th>4190</th>\n",
       "      <td>4191</td>\n",
       "      <td>CA-2017-166709</td>\n",
       "      <td>17/11/2017</td>\n",
       "      <td>22/11/2017</td>\n",
       "      <td>Standard Class</td>\n",
       "      <td>HL-15040</td>\n",
       "      <td>Hunter Lopez</td>\n",
       "      <td>Consumer</td>\n",
       "      <td>United States</td>\n",
       "      <td>Newark</td>\n",
       "      <td>...</td>\n",
       "      <td>19711</td>\n",
       "      <td>East</td>\n",
       "      <td>TEC-CO-10004722</td>\n",
       "      <td>Technology</td>\n",
       "      <td>Copiers</td>\n",
       "      <td>Canon imageCLASS 2200 Advanced Copier</td>\n",
       "      <td>10499.970</td>\n",
       "      <td>3</td>\n",
       "      <td>0.0</td>\n",
       "      <td>5039.9856</td>\n",
       "    </tr>\n",
       "    <tr>\n",
       "      <th>9039</th>\n",
       "      <td>9040</td>\n",
       "      <td>CA-2016-117121</td>\n",
       "      <td>17/12/2016</td>\n",
       "      <td>21/12/2016</td>\n",
       "      <td>Standard Class</td>\n",
       "      <td>AB-10105</td>\n",
       "      <td>Adrian Barton</td>\n",
       "      <td>Consumer</td>\n",
       "      <td>United States</td>\n",
       "      <td>Detroit</td>\n",
       "      <td>...</td>\n",
       "      <td>48205</td>\n",
       "      <td>Central</td>\n",
       "      <td>OFF-BI-10000545</td>\n",
       "      <td>Office Supplies</td>\n",
       "      <td>Binders</td>\n",
       "      <td>GBC Ibimaster 500 Manual ProClick Binding System</td>\n",
       "      <td>9892.740</td>\n",
       "      <td>13</td>\n",
       "      <td>0.0</td>\n",
       "      <td>4946.3700</td>\n",
       "    </tr>\n",
       "  </tbody>\n",
       "</table>\n",
       "<p>5 rows × 21 columns</p>\n",
       "</div>"
      ],
      "text/plain": [
       "      Row ID        Order ID  Order Date   Ship Date       Ship Mode  \\\n",
       "6826    6827  CA-2016-118689   2/10/2016   9/10/2016  Standard Class   \n",
       "8153    8154  CA-2017-140151   23/3/2017   25/3/2017     First Class   \n",
       "2623    2624  CA-2017-127180  22/10/2017  24/10/2017     First Class   \n",
       "4190    4191  CA-2017-166709  17/11/2017  22/11/2017  Standard Class   \n",
       "9039    9040  CA-2016-117121  17/12/2016  21/12/2016  Standard Class   \n",
       "\n",
       "     Customer ID  Customer Name      Segment        Country           City  \\\n",
       "6826    TC-20980   Tamara Chand    Corporate  United States      Lafayette   \n",
       "8153    RB-19360   Raymond Buch     Consumer  United States        Seattle   \n",
       "2623    TA-21385   Tom Ashbrook  Home Office  United States  New York City   \n",
       "4190    HL-15040   Hunter Lopez     Consumer  United States         Newark   \n",
       "9039    AB-10105  Adrian Barton     Consumer  United States        Detroit   \n",
       "\n",
       "      ... Postal Code   Region       Product ID         Category Sub-Category  \\\n",
       "6826  ...       47905  Central  TEC-CO-10004722       Technology      Copiers   \n",
       "8153  ...       98115     West  TEC-CO-10004722       Technology      Copiers   \n",
       "2623  ...       10024     East  TEC-CO-10004722       Technology      Copiers   \n",
       "4190  ...       19711     East  TEC-CO-10004722       Technology      Copiers   \n",
       "9039  ...       48205  Central  OFF-BI-10000545  Office Supplies      Binders   \n",
       "\n",
       "                                          Product Name      Sales  Quantity  \\\n",
       "6826             Canon imageCLASS 2200 Advanced Copier  17499.950         5   \n",
       "8153             Canon imageCLASS 2200 Advanced Copier  13999.960         4   \n",
       "2623             Canon imageCLASS 2200 Advanced Copier  11199.968         4   \n",
       "4190             Canon imageCLASS 2200 Advanced Copier  10499.970         3   \n",
       "9039  GBC Ibimaster 500 Manual ProClick Binding System   9892.740        13   \n",
       "\n",
       "      Discount     Profit  \n",
       "6826       0.0  8399.9760  \n",
       "8153       0.0  6719.9808  \n",
       "2623       0.2  3919.9888  \n",
       "4190       0.0  5039.9856  \n",
       "9039       0.0  4946.3700  \n",
       "\n",
       "[5 rows x 21 columns]"
      ]
     },
     "execution_count": 18,
     "metadata": {},
     "output_type": "execute_result"
    }
   ],
   "source": [
    "high_value_sorted = orders[(orders[\"Sales\"]>500)&(orders[\"Discount\"]<0.3)].sort_values(\"Sales\", ascending=False).head(5); high_value_sorted"
   ]
  },
  {
   "cell_type": "code",
   "execution_count": 19,
   "id": "8f4e7df1",
   "metadata": {},
   "outputs": [
    {
     "data": {
      "text/plain": [
       "0"
      ]
     },
     "execution_count": 19,
     "metadata": {},
     "output_type": "execute_result"
    }
   ],
   "source": [
    "orders[\"Product ID\"].astype(str).str.startswith(\"P-1\").sum()"
   ]
  },
  {
   "cell_type": "markdown",
   "id": "f5ca5f18",
   "metadata": {},
   "source": [
    "### Feature Engineering"
   ]
  },
  {
   "cell_type": "raw",
   "id": "c853b586-5dd7-42b0-a930-185f317f4df2",
   "metadata": {},
   "source": [
    "orders[\"Order Month\"] = orders[\"Order Date\"].dt.to_period(\"M\").astype(str)\n",
    "orders[\"Days to Ship\"] = (orders[\"Ship Date\"] - orders[\"Order Date\"]).dt.days\n",
    "orders[\"Margin\"] = (orders[\"Profit\"]/orders[\"Sales\"]).replace([np.inf,-np.inf], np.nan)\n",
    "orders[[\"Order Date\",\"Ship Date\",\"Days to Ship\",\"Margin\"]].head()\n"
   ]
  },
  {
   "cell_type": "markdown",
   "id": "4b02cf21",
   "metadata": {},
   "source": [
    "### GroupBy & Pivot"
   ]
  },
  {
   "cell_type": "code",
   "execution_count": 22,
   "id": "b868c297",
   "metadata": {},
   "outputs": [
    {
     "data": {
      "text/html": [
       "<div>\n",
       "<style scoped>\n",
       "    .dataframe tbody tr th:only-of-type {\n",
       "        vertical-align: middle;\n",
       "    }\n",
       "\n",
       "    .dataframe tbody tr th {\n",
       "        vertical-align: top;\n",
       "    }\n",
       "\n",
       "    .dataframe thead th {\n",
       "        text-align: right;\n",
       "    }\n",
       "</style>\n",
       "<table border=\"1\" class=\"dataframe\">\n",
       "  <thead>\n",
       "    <tr style=\"text-align: right;\">\n",
       "      <th></th>\n",
       "      <th>Region</th>\n",
       "      <th>Category</th>\n",
       "      <th>Sales_sum</th>\n",
       "      <th>Discount_avg</th>\n",
       "      <th>Profit_mean</th>\n",
       "      <th>Orders</th>\n",
       "    </tr>\n",
       "  </thead>\n",
       "  <tbody>\n",
       "    <tr>\n",
       "      <th>0</th>\n",
       "      <td>Central</td>\n",
       "      <td>Furniture</td>\n",
       "      <td>163797.1638</td>\n",
       "      <td>0.297380</td>\n",
       "      <td>-5.968918</td>\n",
       "      <td>481</td>\n",
       "    </tr>\n",
       "    <tr>\n",
       "      <th>1</th>\n",
       "      <td>Central</td>\n",
       "      <td>Office Supplies</td>\n",
       "      <td>167026.4150</td>\n",
       "      <td>0.252743</td>\n",
       "      <td>6.244712</td>\n",
       "      <td>1422</td>\n",
       "    </tr>\n",
       "    <tr>\n",
       "      <th>2</th>\n",
       "      <td>Central</td>\n",
       "      <td>Technology</td>\n",
       "      <td>170416.3120</td>\n",
       "      <td>0.133095</td>\n",
       "      <td>80.231981</td>\n",
       "      <td>420</td>\n",
       "    </tr>\n",
       "    <tr>\n",
       "      <th>3</th>\n",
       "      <td>East</td>\n",
       "      <td>Furniture</td>\n",
       "      <td>208291.2040</td>\n",
       "      <td>0.154077</td>\n",
       "      <td>5.068496</td>\n",
       "      <td>601</td>\n",
       "    </tr>\n",
       "    <tr>\n",
       "      <th>4</th>\n",
       "      <td>East</td>\n",
       "      <td>Office Supplies</td>\n",
       "      <td>205516.0550</td>\n",
       "      <td>0.142932</td>\n",
       "      <td>23.957114</td>\n",
       "      <td>1712</td>\n",
       "    </tr>\n",
       "  </tbody>\n",
       "</table>\n",
       "</div>"
      ],
      "text/plain": [
       "    Region         Category    Sales_sum  Discount_avg  Profit_mean  Orders\n",
       "0  Central        Furniture  163797.1638      0.297380    -5.968918     481\n",
       "1  Central  Office Supplies  167026.4150      0.252743     6.244712    1422\n",
       "2  Central       Technology  170416.3120      0.133095    80.231981     420\n",
       "3     East        Furniture  208291.2040      0.154077     5.068496     601\n",
       "4     East  Office Supplies  205516.0550      0.142932    23.957114    1712"
      ]
     },
     "execution_count": 22,
     "metadata": {},
     "output_type": "execute_result"
    }
   ],
   "source": [
    "g = orders.groupby([\"Region\",\"Category\"]).agg(Sales_sum=(\"Sales\",\"sum\"), Discount_avg=(\"Discount\",\"mean\"), Profit_mean=(\"Profit\",\"mean\"), Orders=(\"Order ID\",\"count\")).reset_index()\n",
    "g.head()\n"
   ]
  },
  {
   "cell_type": "raw",
   "id": "02e3a4f1-18e8-41dd-96d1-1442721818ed",
   "metadata": {},
   "source": [
    "pv = pd.pivot_table(orders, index=\"Order Month\", columns=\"Category\", values=\"Sales\", aggfunc=\"sum\", fill_value=0); pv.head()"
   ]
  },
  {
   "cell_type": "markdown",
   "id": "2a532337",
   "metadata": {},
   "source": [
    "### Joins & Reshaping"
   ]
  },
  {
   "cell_type": "code",
   "execution_count": 24,
   "id": "22841c28",
   "metadata": {},
   "outputs": [
    {
     "data": {
      "text/plain": [
       "0.08004802881729037"
      ]
     },
     "execution_count": 24,
     "metadata": {},
     "output_type": "execute_result"
    }
   ],
   "source": [
    "ord_ret = orders.merge(returns, on=\"Order ID\", how=\"left\").assign(Returned=lambda d: d[\"Returned\"].fillna(\"No\"))\n",
    "return_rate = (ord_ret[\"Returned\"]==\"Yes\").mean(); return_rate\n"
   ]
  },
  {
   "cell_type": "raw",
   "id": "e07693e1-ab30-4619-9c0f-8763227456fc",
   "metadata": {},
   "source": [
    "with_mgr = ord_ret.merge(people, on=\"Region\", how=\"left\"); with_mgr.groupby(\"Manager\").agg(Sales=(\"Sales\",\"sum\"), Profit=(\"Profit\",\"sum\")).reset_index()"
   ]
  },
  {
   "cell_type": "raw",
   "id": "92900022-ae1c-45e5-9a6f-ddad09e90da3",
   "metadata": {},
   "source": [
    "long = pv.reset_index().melt(id_vars=\"Order Month\", var_name=\"Category\", value_name=\"Sales\"); long.head()"
   ]
  },
  {
   "cell_type": "markdown",
   "id": "20dbe152",
   "metadata": {},
   "source": [
    "### Window Functions"
   ]
  },
  {
   "cell_type": "code",
   "execution_count": 27,
   "id": "058c8222",
   "metadata": {},
   "outputs": [
    {
     "data": {
      "text/html": [
       "<div>\n",
       "<style scoped>\n",
       "    .dataframe tbody tr th:only-of-type {\n",
       "        vertical-align: middle;\n",
       "    }\n",
       "\n",
       "    .dataframe tbody tr th {\n",
       "        vertical-align: top;\n",
       "    }\n",
       "\n",
       "    .dataframe thead th {\n",
       "        text-align: right;\n",
       "    }\n",
       "</style>\n",
       "<table border=\"1\" class=\"dataframe\">\n",
       "  <thead>\n",
       "    <tr style=\"text-align: right;\">\n",
       "      <th></th>\n",
       "      <th>Region</th>\n",
       "      <th>Customer ID</th>\n",
       "      <th>Sales</th>\n",
       "      <th>CumSalesRegion</th>\n",
       "      <th>Roll3SalesCust</th>\n",
       "      <th>Category</th>\n",
       "      <th>CatRank</th>\n",
       "    </tr>\n",
       "  </thead>\n",
       "  <tbody>\n",
       "    <tr>\n",
       "      <th>848</th>\n",
       "      <td>East</td>\n",
       "      <td>GA-14725</td>\n",
       "      <td>48.896</td>\n",
       "      <td>48.896</td>\n",
       "      <td>48.896000</td>\n",
       "      <td>Furniture</td>\n",
       "      <td>1574</td>\n",
       "    </tr>\n",
       "    <tr>\n",
       "      <th>8073</th>\n",
       "      <td>Central</td>\n",
       "      <td>JM-15250</td>\n",
       "      <td>6.470</td>\n",
       "      <td>6.470</td>\n",
       "      <td>6.470000</td>\n",
       "      <td>Office Supplies</td>\n",
       "      <td>5327</td>\n",
       "    </tr>\n",
       "    <tr>\n",
       "      <th>8072</th>\n",
       "      <td>Central</td>\n",
       "      <td>JM-15250</td>\n",
       "      <td>12.736</td>\n",
       "      <td>19.206</td>\n",
       "      <td>9.603000</td>\n",
       "      <td>Office Supplies</td>\n",
       "      <td>4406</td>\n",
       "    </tr>\n",
       "    <tr>\n",
       "      <th>8071</th>\n",
       "      <td>Central</td>\n",
       "      <td>JM-15250</td>\n",
       "      <td>310.744</td>\n",
       "      <td>329.950</td>\n",
       "      <td>109.983333</td>\n",
       "      <td>Furniture</td>\n",
       "      <td>726</td>\n",
       "    </tr>\n",
       "    <tr>\n",
       "      <th>8070</th>\n",
       "      <td>Central</td>\n",
       "      <td>JM-15250</td>\n",
       "      <td>141.420</td>\n",
       "      <td>471.370</td>\n",
       "      <td>154.966667</td>\n",
       "      <td>Furniture</td>\n",
       "      <td>1174</td>\n",
       "    </tr>\n",
       "  </tbody>\n",
       "</table>\n",
       "</div>"
      ],
      "text/plain": [
       "       Region Customer ID    Sales  CumSalesRegion  Roll3SalesCust  \\\n",
       "848      East    GA-14725   48.896          48.896       48.896000   \n",
       "8073  Central    JM-15250    6.470           6.470        6.470000   \n",
       "8072  Central    JM-15250   12.736          19.206        9.603000   \n",
       "8071  Central    JM-15250  310.744         329.950      109.983333   \n",
       "8070  Central    JM-15250  141.420         471.370      154.966667   \n",
       "\n",
       "             Category  CatRank  \n",
       "848         Furniture     1574  \n",
       "8073  Office Supplies     5327  \n",
       "8072  Office Supplies     4406  \n",
       "8071        Furniture      726  \n",
       "8070        Furniture     1174  "
      ]
     },
     "execution_count": 27,
     "metadata": {},
     "output_type": "execute_result"
    }
   ],
   "source": [
    "\n",
    "orders_sorted = orders.sort_values(\"Order Date\").copy()\n",
    "orders_sorted[\"CumSalesRegion\"] = orders_sorted.groupby(\"Region\")[\"Sales\"].cumsum()\n",
    "orders_sorted[\"Roll3SalesCust\"] = (orders_sorted.groupby(\"Customer ID\")[\"Sales\"].rolling(3, min_periods=1).mean().reset_index(level=0, drop=True))\n",
    "orders_sorted[\"CatRank\"] = orders_sorted.groupby(\"Category\")[\"Sales\"].rank(method=\"min\", ascending=False).astype(int)\n",
    "orders_sorted[[\"Region\",\"Customer ID\",\"Sales\",\"CumSalesRegion\",\"Roll3SalesCust\",\"Category\",\"CatRank\"]].head()\n"
   ]
  },
  {
   "cell_type": "markdown",
   "id": "c64fd2fc",
   "metadata": {},
   "source": [
    "### Time Series"
   ]
  },
  {
   "cell_type": "raw",
   "id": "2dc785d6-92f5-4087-93c0-f7686fa36133",
   "metadata": {},
   "source": [
    "ts = orders.set_index(\"Order Date\").resample(\"M\")[\"Sales\"].sum(); ts.head()"
   ]
  },
  {
   "cell_type": "markdown",
   "id": "692ffe33",
   "metadata": {},
   "source": [
    "### Outliers"
   ]
  },
  {
   "cell_type": "code",
   "execution_count": 29,
   "id": "83ff564a",
   "metadata": {},
   "outputs": [
    {
     "data": {
      "text/plain": [
       "(1881,\n",
       " count    1881.000000\n",
       " mean      102.207906\n",
       " std       532.477102\n",
       " min     -6599.978000\n",
       " 25%       -58.305600\n",
       " 50%        93.698800\n",
       " 75%       178.800000\n",
       " max      8399.976000\n",
       " Name: Profit, dtype: float64)"
      ]
     },
     "execution_count": 29,
     "metadata": {},
     "output_type": "execute_result"
    }
   ],
   "source": [
    "\n",
    "q1,q3 = orders[\"Profit\"].quantile([0.25,0.75]); iqr = q3-q1; low,high = q1-1.5*iqr, q3+1.5*iqr\n",
    "outliers = orders[(orders[\"Profit\"]<low)|(orders[\"Profit\"]>high)]; (len(outliers), outliers[\"Profit\"].describe())\n"
   ]
  },
  {
   "cell_type": "markdown",
   "id": "fffd57b5",
   "metadata": {},
   "source": [
    "### Visualization"
   ]
  },
  {
   "cell_type": "code",
   "execution_count": 30,
   "id": "b31b19ca",
   "metadata": {},
   "outputs": [
    {
     "data": {
      "image/png": "[encoded data removed]",
      "text/plain": [
       "<Figure size 640x480 with 1 Axes>"
      ]
     },
     "metadata": {},
     "output_type": "display_data"
    }
   ],
   "source": [
    "\n",
    "plt.figure(); orders[\"Sales\"].plot(kind=\"hist\", bins=30); plt.title(\"Sales Distribution\"); plt.xlabel(\"Sales\"); plt.ylabel(\"Frequency\"); plt.show()\n"
   ]
  },
  {
   "cell_type": "code",
   "execution_count": 31,
   "id": "9d1e5081",
   "metadata": {},
   "outputs": [
    {
     "data": {
      "text/plain": [
       "<Figure size 640x480 with 0 Axes>"
      ]
     },
     "metadata": {},
     "output_type": "display_data"
    },
    {
     "data": {
      "image/png": "[encoded data removed]",
      "text/plain": [
       "<Figure size 640x480 with 1 Axes>"
      ]
     },
     "metadata": {},
     "output_type": "display_data"
    }
   ],
   "source": [
    "\n",
    "plt.figure(); orders.boxplot(column=\"Profit\", by=\"Category\", grid=False); plt.title(\"Profit by Category\"); plt.suptitle(\"\"); plt.xlabel(\"Category\"); plt.ylabel(\"Profit\"); plt.show()\n"
   ]
  },
  {
   "cell_type": "markdown",
   "id": "805f4590",
   "metadata": {},
   "source": [
    "### Simple Modeling"
   ]
  },
  {
   "cell_type": "code",
   "execution_count": 32,
   "id": "b45e915c",
   "metadata": {},
   "outputs": [
    {
     "data": {
      "text/plain": [
       "(249.09385544293224, 0.08022345271038644)"
      ]
     },
     "execution_count": 32,
     "metadata": {},
     "output_type": "execute_result"
    }
   ],
   "source": [
    "\n",
    "from sklearn.model_selection import train_test_split\n",
    "from sklearn.linear_model import LinearRegression\n",
    "from sklearn.metrics import mean_absolute_error, r2_score\n",
    "\n",
    "df = orders[[\"Sales\",\"Quantity\",\"Discount\",\"Category\"]].dropna().copy()\n",
    "X = pd.get_dummies(df[[\"Quantity\",\"Discount\",\"Category\"]], drop_first=True); y = df[\"Sales\"]\n",
    "X_train,X_test,y_train,y_test = train_test_split(X,y,test_size=0.2,random_state=42)\n",
    "model = LinearRegression().fit(X_train,y_train); pred = model.predict(X_test)\n",
    "mae = mean_absolute_error(y_test,pred); r2 = r2_score(y_test,pred); (mae,r2)\n"
   ]
  },
  {
   "cell_type": "markdown",
   "id": "3f32c3b9",
   "metadata": {},
   "source": [
    "### Save Results"
   ]
  },
  {
   "cell_type": "raw",
   "id": "364c3894-787f-4dbe-9251-5ca6e93b55e6",
   "metadata": {},
   "source": [
    "cleaned_path = \"/mnt/data/superstore_orders_cleaned.csv\"; orders.to_csv(cleaned_path, index=False); cleaned_path"
   ]
  },
  {
   "cell_type": "code",
   "execution_count": null,
   "id": "bf2fb37a-66f9-4353-92c9-3e31fe28190c",
   "metadata": {},
   "outputs": [],
   "source": []
  }
 ],
 "metadata": {
  "kernelspec": {
   "display_name": "Python 3 (ipykernel)",
   "language": "python",
   "name": "python3"
  },
  "language_info": {
   "codemirror_mode": {
    "name": "ipython",
    "version": 3
   },
   "file_extension": ".py",
   "mimetype": "text/x-python",
   "name": "python",
   "nbconvert_exporter": "python",
   "pygments_lexer": "ipython3",
   "version": "3.12.7"
  }
 },
 "nbformat": 4,
 "nbformat_minor": 5
}
