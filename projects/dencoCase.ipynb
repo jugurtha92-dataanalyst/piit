{
 "cells": [
  {
   "cell_type": "markdown",
   "id": "c26158dc-cd7e-47e4-b9eb-4c64fbcc4c55",
   "metadata": {},
   "source": [
    "# case Study on data analysis in Python"
   ]
  },
  {
   "cell_type": "code",
   "execution_count": null,
   "id": "7ced496f",
   "metadata": {},
   "outputs": [],
   "source": [
    "#import libraries\n",
    "import pandas as pd\n",
    "import numpy as np\n",
    "import matplotlib.pyplot as plt"
   ]
  },
  {
   "cell_type": "code",
   "execution_count": null,
   "id": "f94c154c-c9e4-46b9-aaf1-283e8638b735",
   "metadata": {},
   "outputs": [],
   "source": [
    "#see all columns\n",
    "pd.set_option('display.max_columns',15)\n",
    "#others - max_rows, width, precision, height, date_dayfirst, date_yearfirst\n",
    "pd.set_option('display.width', 1000)\n",
    "pd.options.display.float_format = '{:.2f}'.format\n",
    "#read data\n",
    "url='https://raw.githubusercontent.com/DUanalytics/datasets/master/csv/denco.csv'\n",
    "#df = pd.read_csv('data/denco.csv')\n",
    "df = pd.read_csv(url)"
   ]
  },
  {
   "cell_type": "code",
   "execution_count": 5,
   "id": "77f05e6f",
   "metadata": {},
   "outputs": [
    {
     "data": {
      "text/html": [
       "<div>\n",
       "<style scoped>\n",
       "    .dataframe tbody tr th:only-of-type {\n",
       "        vertical-align: middle;\n",
       "    }\n",
       "\n",
       "    .dataframe tbody tr th {\n",
       "        vertical-align: top;\n",
       "    }\n",
       "\n",
       "    .dataframe thead th {\n",
       "        text-align: right;\n",
       "    }\n",
       "</style>\n",
       "<table border=\"1\" class=\"dataframe\">\n",
       "  <thead>\n",
       "    <tr style=\"text-align: right;\">\n",
       "      <th></th>\n",
       "      <th>custname</th>\n",
       "      <th>region</th>\n",
       "      <th>partnum</th>\n",
       "      <th>revenue</th>\n",
       "      <th>cost</th>\n",
       "      <th>margin</th>\n",
       "    </tr>\n",
       "  </thead>\n",
       "  <tbody>\n",
       "    <tr>\n",
       "      <th>0</th>\n",
       "      <td>3M COMPANY</td>\n",
       "      <td>01-East</td>\n",
       "      <td>727032005</td>\n",
       "      <td>24097.50</td>\n",
       "      <td>19851.82</td>\n",
       "      <td>4245.68</td>\n",
       "    </tr>\n",
       "    <tr>\n",
       "      <th>1</th>\n",
       "      <td>4-STATE SUPPLY</td>\n",
       "      <td>01-East</td>\n",
       "      <td>735602000</td>\n",
       "      <td>156200.00</td>\n",
       "      <td>52381.38</td>\n",
       "      <td>103818.62</td>\n",
       "    </tr>\n",
       "    <tr>\n",
       "      <th>2</th>\n",
       "      <td>4-STATE SUPPLY</td>\n",
       "      <td>01-East</td>\n",
       "      <td>777143000</td>\n",
       "      <td>34927.20</td>\n",
       "      <td>15382.08</td>\n",
       "      <td>19545.12</td>\n",
       "    </tr>\n",
       "    <tr>\n",
       "      <th>3</th>\n",
       "      <td>4-STATE SUPPLY</td>\n",
       "      <td>01-East</td>\n",
       "      <td>777142000</td>\n",
       "      <td>21989.40</td>\n",
       "      <td>12562.50</td>\n",
       "      <td>9426.90</td>\n",
       "    </tr>\n",
       "    <tr>\n",
       "      <th>4</th>\n",
       "      <td>4-STATE SUPPLY</td>\n",
       "      <td>01-East</td>\n",
       "      <td>735750000</td>\n",
       "      <td>12487.00</td>\n",
       "      <td>3686.91</td>\n",
       "      <td>8800.09</td>\n",
       "    </tr>\n",
       "    <tr>\n",
       "      <th>...</th>\n",
       "      <td>...</td>\n",
       "      <td>...</td>\n",
       "      <td>...</td>\n",
       "      <td>...</td>\n",
       "      <td>...</td>\n",
       "      <td>...</td>\n",
       "    </tr>\n",
       "    <tr>\n",
       "      <th>7578</th>\n",
       "      <td>VESUVIUS MEXICO SA DE CV</td>\n",
       "      <td>9x-Export</td>\n",
       "      <td>764781000</td>\n",
       "      <td>6874.00</td>\n",
       "      <td>3867.56</td>\n",
       "      <td>3006.44</td>\n",
       "    </tr>\n",
       "    <tr>\n",
       "      <th>7579</th>\n",
       "      <td>VESUVIUS MEXICO SA DE CV</td>\n",
       "      <td>9x-Export</td>\n",
       "      <td>733490600</td>\n",
       "      <td>4328.00</td>\n",
       "      <td>2388.36</td>\n",
       "      <td>1939.64</td>\n",
       "    </tr>\n",
       "    <tr>\n",
       "      <th>7580</th>\n",
       "      <td>VESUVIUS MEXICO SA DE CV</td>\n",
       "      <td>9x-Export</td>\n",
       "      <td>733496000</td>\n",
       "      <td>4328.00</td>\n",
       "      <td>2388.36</td>\n",
       "      <td>1939.64</td>\n",
       "    </tr>\n",
       "    <tr>\n",
       "      <th>7581</th>\n",
       "      <td>VESUVIUS MEXICO SA DE CV</td>\n",
       "      <td>9x-Export</td>\n",
       "      <td>764821000</td>\n",
       "      <td>2402.00</td>\n",
       "      <td>933.36</td>\n",
       "      <td>1468.64</td>\n",
       "    </tr>\n",
       "    <tr>\n",
       "      <th>7582</th>\n",
       "      <td>VESUVIUS MEXICO SA DE CV</td>\n",
       "      <td>9x-Export</td>\n",
       "      <td>732662000</td>\n",
       "      <td>1119.02</td>\n",
       "      <td>210.44</td>\n",
       "      <td>908.58</td>\n",
       "    </tr>\n",
       "  </tbody>\n",
       "</table>\n",
       "<p>7583 rows × 6 columns</p>\n",
       "</div>"
      ],
      "text/plain": [
       "                      custname     region    partnum   revenue     cost    margin\n",
       "0                   3M COMPANY    01-East  727032005  24097.50 19851.82   4245.68\n",
       "1               4-STATE SUPPLY    01-East  735602000 156200.00 52381.38 103818.62\n",
       "2               4-STATE SUPPLY    01-East  777143000  34927.20 15382.08  19545.12\n",
       "3               4-STATE SUPPLY    01-East  777142000  21989.40 12562.50   9426.90\n",
       "4               4-STATE SUPPLY    01-East  735750000  12487.00  3686.91   8800.09\n",
       "...                        ...        ...        ...       ...      ...       ...\n",
       "7578  VESUVIUS MEXICO SA DE CV  9x-Export  764781000   6874.00  3867.56   3006.44\n",
       "7579  VESUVIUS MEXICO SA DE CV  9x-Export  733490600   4328.00  2388.36   1939.64\n",
       "7580  VESUVIUS MEXICO SA DE CV  9x-Export  733496000   4328.00  2388.36   1939.64\n",
       "7581  VESUVIUS MEXICO SA DE CV  9x-Export  764821000   2402.00   933.36   1468.64\n",
       "7582  VESUVIUS MEXICO SA DE CV  9x-Export  732662000   1119.02   210.44    908.58\n",
       "\n",
       "[7583 rows x 6 columns]"
      ]
     },
     "execution_count": 5,
     "metadata": {},
     "output_type": "execute_result"
    }
   ],
   "source": [
    "df"
   ]
  },
  {
   "cell_type": "code",
   "execution_count": null,
   "id": "d3d9a6dc",
   "metadata": {},
   "outputs": [],
   "source": [
    "#%%%% : Summary1\n",
    "#Who are the most loyal Customers - Improve repeated sales, Target customers with low sales Volumes\n",
    "#count by customers, sort, pick top 5 \n",
    "#Series"
   ]
  },
  {
   "cell_type": "code",
   "execution_count": 8,
   "id": "77878bd6",
   "metadata": {},
   "outputs": [
    {
     "name": "stdout",
     "output_type": "stream",
     "text": [
      "         custname   region    partnum   revenue     cost    margin\n",
      "0      3M COMPANY  01-East  727032005  24097.50 19851.82   4245.68\n",
      "1  4-STATE SUPPLY  01-East  735602000 156200.00 52381.38 103818.62\n"
     ]
    }
   ],
   "source": [
    "#see properties of data\n",
    "print(df.head(n=2))"
   ]
  },
  {
   "cell_type": "code",
   "execution_count": 9,
   "id": "1282ec26-ec51-45d6-8175-eeadc10baeae",
   "metadata": {},
   "outputs": [
    {
     "name": "stdout",
     "output_type": "stream",
     "text": [
      "Index(['custname', 'region', 'partnum', 'revenue', 'cost', 'margin'], dtype='object')\n"
     ]
    }
   ],
   "source": [
    "print(df.columns)"
   ]
  },
  {
   "cell_type": "code",
   "execution_count": 10,
   "id": "f4558911",
   "metadata": {},
   "outputs": [
    {
     "data": {
      "text/plain": [
       "(7583, 6)"
      ]
     },
     "execution_count": 10,
     "metadata": {},
     "output_type": "execute_result"
    }
   ],
   "source": [
    "df.shape"
   ]
  },
  {
   "cell_type": "code",
   "execution_count": 11,
   "id": "3ed4bac7",
   "metadata": {},
   "outputs": [
    {
     "data": {
      "text/plain": [
       "7583"
      ]
     },
     "execution_count": 11,
     "metadata": {},
     "output_type": "execute_result"
    }
   ],
   "source": [
    "len(df)"
   ]
  },
  {
   "cell_type": "code",
   "execution_count": 12,
   "id": "c6bf22f0",
   "metadata": {},
   "outputs": [
    {
     "data": {
      "text/html": [
       "<div>\n",
       "<style scoped>\n",
       "    .dataframe tbody tr th:only-of-type {\n",
       "        vertical-align: middle;\n",
       "    }\n",
       "\n",
       "    .dataframe tbody tr th {\n",
       "        vertical-align: top;\n",
       "    }\n",
       "\n",
       "    .dataframe thead th {\n",
       "        text-align: right;\n",
       "    }\n",
       "</style>\n",
       "<table border=\"1\" class=\"dataframe\">\n",
       "  <thead>\n",
       "    <tr style=\"text-align: right;\">\n",
       "      <th></th>\n",
       "      <th>partnum</th>\n",
       "      <th>revenue</th>\n",
       "      <th>cost</th>\n",
       "      <th>margin</th>\n",
       "    </tr>\n",
       "  </thead>\n",
       "  <tbody>\n",
       "    <tr>\n",
       "      <th>count</th>\n",
       "      <td>7583.00</td>\n",
       "      <td>7583.00</td>\n",
       "      <td>7583.00</td>\n",
       "      <td>7583.00</td>\n",
       "    </tr>\n",
       "    <tr>\n",
       "      <th>mean</th>\n",
       "      <td>754129644.40</td>\n",
       "      <td>31376.22</td>\n",
       "      <td>14340.26</td>\n",
       "      <td>17035.96</td>\n",
       "    </tr>\n",
       "    <tr>\n",
       "      <th>std</th>\n",
       "      <td>19345874.91</td>\n",
       "      <td>390299.28</td>\n",
       "      <td>229213.80</td>\n",
       "      <td>183678.97</td>\n",
       "    </tr>\n",
       "    <tr>\n",
       "      <th>min</th>\n",
       "      <td>715000000.00</td>\n",
       "      <td>10.80</td>\n",
       "      <td>0.00</td>\n",
       "      <td>-13099.31</td>\n",
       "    </tr>\n",
       "    <tr>\n",
       "      <th>25%</th>\n",
       "      <td>734751200.00</td>\n",
       "      <td>840.00</td>\n",
       "      <td>157.31</td>\n",
       "      <td>546.81</td>\n",
       "    </tr>\n",
       "    <tr>\n",
       "      <th>50%</th>\n",
       "      <td>764341000.00</td>\n",
       "      <td>3021.12</td>\n",
       "      <td>824.70</td>\n",
       "      <td>1881.73</td>\n",
       "    </tr>\n",
       "    <tr>\n",
       "      <th>75%</th>\n",
       "      <td>768251215.00</td>\n",
       "      <td>13226.90</td>\n",
       "      <td>4668.25</td>\n",
       "      <td>7880.05</td>\n",
       "    </tr>\n",
       "    <tr>\n",
       "      <th>max</th>\n",
       "      <td>795900120.00</td>\n",
       "      <td>29800976.28</td>\n",
       "      <td>18922952.69</td>\n",
       "      <td>10878023.59</td>\n",
       "    </tr>\n",
       "  </tbody>\n",
       "</table>\n",
       "</div>"
      ],
      "text/plain": [
       "           partnum     revenue        cost      margin\n",
       "count      7583.00     7583.00     7583.00     7583.00\n",
       "mean  754129644.40    31376.22    14340.26    17035.96\n",
       "std    19345874.91   390299.28   229213.80   183678.97\n",
       "min   715000000.00       10.80        0.00   -13099.31\n",
       "25%   734751200.00      840.00      157.31      546.81\n",
       "50%   764341000.00     3021.12      824.70     1881.73\n",
       "75%   768251215.00    13226.90     4668.25     7880.05\n",
       "max   795900120.00 29800976.28 18922952.69 10878023.59"
      ]
     },
     "execution_count": 12,
     "metadata": {},
     "output_type": "execute_result"
    }
   ],
   "source": [
    "df.describe()"
   ]
  },
  {
   "cell_type": "code",
   "execution_count": 13,
   "id": "37a1e41e",
   "metadata": {},
   "outputs": [
    {
     "data": {
      "text/plain": [
       "(7583, 6)"
      ]
     },
     "execution_count": 13,
     "metadata": {},
     "output_type": "execute_result"
    }
   ],
   "source": [
    "df.shape"
   ]
  },
  {
   "cell_type": "code",
   "execution_count": 14,
   "id": "a9ee8e8c",
   "metadata": {},
   "outputs": [
    {
     "data": {
      "text/plain": [
       "custname     object\n",
       "region       object\n",
       "partnum       int64\n",
       "revenue     float64\n",
       "cost        float64\n",
       "margin      float64\n",
       "dtype: object"
      ]
     },
     "execution_count": 14,
     "metadata": {},
     "output_type": "execute_result"
    }
   ],
   "source": [
    "df.dtypes"
   ]
  },
  {
   "cell_type": "code",
   "execution_count": 15,
   "id": "cf0a593b",
   "metadata": {},
   "outputs": [],
   "source": [
    "df['region'] = df['region'].astype('category')"
   ]
  },
  {
   "cell_type": "code",
   "execution_count": 16,
   "id": "7dd103ac",
   "metadata": {},
   "outputs": [
    {
     "data": {
      "text/plain": [
       "custname      object\n",
       "region      category\n",
       "partnum        int64\n",
       "revenue      float64\n",
       "cost         float64\n",
       "margin       float64\n",
       "dtype: object"
      ]
     },
     "execution_count": 16,
     "metadata": {},
     "output_type": "execute_result"
    }
   ],
   "source": [
    "df.dtypes"
   ]
  },
  {
   "cell_type": "code",
   "execution_count": 17,
   "id": "bd9b5eb7",
   "metadata": {},
   "outputs": [
    {
     "data": {
      "text/plain": [
       "region\n",
       "02-Central          3538\n",
       "01-East             3335\n",
       "07-Canada Direct     545\n",
       "9x-Export            113\n",
       "05-House              46\n",
       "09-China               6\n",
       "Name: count, dtype: int64"
      ]
     },
     "execution_count": 17,
     "metadata": {},
     "output_type": "execute_result"
    }
   ],
   "source": [
    "df.region.value_counts()"
   ]
  },
  {
   "cell_type": "code",
   "execution_count": 18,
   "id": "8bce841e",
   "metadata": {},
   "outputs": [
    {
     "data": {
      "text/plain": [
       "<Axes: xlabel='region'>"
      ]
     },
     "execution_count": 18,
     "metadata": {},
     "output_type": "execute_result"
    },
    {
     "data": {
      "image/png": "[encoded data removed]",
      "text/plain": [
       "<Figure size 640x480 with 1 Axes>"
      ]
     },
     "metadata": {},
     "output_type": "display_data"
    }
   ],
   "source": [
    "df.region.value_counts().plot(kind='bar')"
   ]
  },
  {
   "cell_type": "code",
   "execution_count": 19,
   "id": "56c5feca",
   "metadata": {},
   "outputs": [
    {
     "data": {
      "text/html": [
       "<div>\n",
       "<style scoped>\n",
       "    .dataframe tbody tr th:only-of-type {\n",
       "        vertical-align: middle;\n",
       "    }\n",
       "\n",
       "    .dataframe tbody tr th {\n",
       "        vertical-align: top;\n",
       "    }\n",
       "\n",
       "    .dataframe thead th {\n",
       "        text-align: right;\n",
       "    }\n",
       "</style>\n",
       "<table border=\"1\" class=\"dataframe\">\n",
       "  <thead>\n",
       "    <tr style=\"text-align: right;\">\n",
       "      <th></th>\n",
       "      <th>custname</th>\n",
       "      <th>region</th>\n",
       "      <th>partnum</th>\n",
       "      <th>revenue</th>\n",
       "      <th>cost</th>\n",
       "      <th>margin</th>\n",
       "    </tr>\n",
       "  </thead>\n",
       "  <tbody>\n",
       "    <tr>\n",
       "      <th>3335</th>\n",
       "      <td>3-I INDUSTRIAL SUPPLY</td>\n",
       "      <td>02-Central</td>\n",
       "      <td>793450174</td>\n",
       "      <td>5827.50</td>\n",
       "      <td>1552.96</td>\n",
       "      <td>4274.54</td>\n",
       "    </tr>\n",
       "    <tr>\n",
       "      <th>3336</th>\n",
       "      <td>3-I INDUSTRIAL SUPPLY</td>\n",
       "      <td>02-Central</td>\n",
       "      <td>734990000</td>\n",
       "      <td>798.40</td>\n",
       "      <td>110.59</td>\n",
       "      <td>687.81</td>\n",
       "    </tr>\n",
       "    <tr>\n",
       "      <th>3337</th>\n",
       "      <td>3M COMPANY</td>\n",
       "      <td>02-Central</td>\n",
       "      <td>727032004</td>\n",
       "      <td>2514017.70</td>\n",
       "      <td>1754572.03</td>\n",
       "      <td>759445.67</td>\n",
       "    </tr>\n",
       "    <tr>\n",
       "      <th>3338</th>\n",
       "      <td>3M COMPANY</td>\n",
       "      <td>02-Central</td>\n",
       "      <td>793001000</td>\n",
       "      <td>568488.00</td>\n",
       "      <td>226065.71</td>\n",
       "      <td>342422.29</td>\n",
       "    </tr>\n",
       "    <tr>\n",
       "      <th>0</th>\n",
       "      <td>3M COMPANY</td>\n",
       "      <td>01-East</td>\n",
       "      <td>727032005</td>\n",
       "      <td>24097.50</td>\n",
       "      <td>19851.82</td>\n",
       "      <td>4245.68</td>\n",
       "    </tr>\n",
       "    <tr>\n",
       "      <th>...</th>\n",
       "      <td>...</td>\n",
       "      <td>...</td>\n",
       "      <td>...</td>\n",
       "      <td>...</td>\n",
       "      <td>...</td>\n",
       "      <td>...</td>\n",
       "    </tr>\n",
       "    <tr>\n",
       "      <th>3315</th>\n",
       "      <td>ZIRCAR REFRAC. COMPOSITES</td>\n",
       "      <td>01-East</td>\n",
       "      <td>740283502</td>\n",
       "      <td>2666.62</td>\n",
       "      <td>413.99</td>\n",
       "      <td>2252.63</td>\n",
       "    </tr>\n",
       "    <tr>\n",
       "      <th>3314</th>\n",
       "      <td>ZIRCAR REFRAC. COMPOSITES</td>\n",
       "      <td>01-East</td>\n",
       "      <td>739741100</td>\n",
       "      <td>2803.84</td>\n",
       "      <td>1784.79</td>\n",
       "      <td>1019.05</td>\n",
       "    </tr>\n",
       "    <tr>\n",
       "      <th>3323</th>\n",
       "      <td>ZIRCAR REFRAC. COMPOSITES</td>\n",
       "      <td>01-East</td>\n",
       "      <td>738542000</td>\n",
       "      <td>686.40</td>\n",
       "      <td>574.08</td>\n",
       "      <td>112.32</td>\n",
       "    </tr>\n",
       "    <tr>\n",
       "      <th>3333</th>\n",
       "      <td>ZIRCAR ZIRCONIA INC.</td>\n",
       "      <td>01-East</td>\n",
       "      <td>739541000</td>\n",
       "      <td>3687.82</td>\n",
       "      <td>829.48</td>\n",
       "      <td>2858.34</td>\n",
       "    </tr>\n",
       "    <tr>\n",
       "      <th>3334</th>\n",
       "      <td>ZIRCAR ZIRCONIA INC.</td>\n",
       "      <td>01-East</td>\n",
       "      <td>754287000</td>\n",
       "      <td>795.36</td>\n",
       "      <td>281.96</td>\n",
       "      <td>513.40</td>\n",
       "    </tr>\n",
       "  </tbody>\n",
       "</table>\n",
       "<p>7583 rows × 6 columns</p>\n",
       "</div>"
      ],
      "text/plain": [
       "                       custname      region    partnum    revenue       cost    margin\n",
       "3335      3-I INDUSTRIAL SUPPLY  02-Central  793450174    5827.50    1552.96   4274.54\n",
       "3336      3-I INDUSTRIAL SUPPLY  02-Central  734990000     798.40     110.59    687.81\n",
       "3337                 3M COMPANY  02-Central  727032004 2514017.70 1754572.03 759445.67\n",
       "3338                 3M COMPANY  02-Central  793001000  568488.00  226065.71 342422.29\n",
       "0                    3M COMPANY     01-East  727032005   24097.50   19851.82   4245.68\n",
       "...                         ...         ...        ...        ...        ...       ...\n",
       "3315  ZIRCAR REFRAC. COMPOSITES     01-East  740283502    2666.62     413.99   2252.63\n",
       "3314  ZIRCAR REFRAC. COMPOSITES     01-East  739741100    2803.84    1784.79   1019.05\n",
       "3323  ZIRCAR REFRAC. COMPOSITES     01-East  738542000     686.40     574.08    112.32\n",
       "3333       ZIRCAR ZIRCONIA INC.     01-East  739541000    3687.82     829.48   2858.34\n",
       "3334       ZIRCAR ZIRCONIA INC.     01-East  754287000     795.36     281.96    513.40\n",
       "\n",
       "[7583 rows x 6 columns]"
      ]
     },
     "execution_count": 19,
     "metadata": {},
     "output_type": "execute_result"
    }
   ],
   "source": [
    "df.sort_values(['custname'])"
   ]
  },
  {
   "cell_type": "code",
   "execution_count": 20,
   "id": "48e4961a",
   "metadata": {},
   "outputs": [
    {
     "data": {
      "text/plain": [
       "custname\n",
       "SCHOTT FORMA VITRUM DE       1\n",
       "AMERET LLC                   1\n",
       "PARSONS                      1\n",
       "VSP TECHNOLOGIES             1\n",
       "ALYSSA OXLEY                 1\n",
       "ALTAIR TECHNOLOGIES          1\n",
       "UNIVERSITY OF NOTRE DAME     1\n",
       "PACOR INC.                   1\n",
       "BODY COTE                    1\n",
       "BLOUNT BOATS INC.            1\n",
       "RALEIGH-DURHAM RUBBER        1\n",
       "BIRK MANUFACTURING           1\n",
       "R T P  COMPANY               1\n",
       "R K METALS LLC               1\n",
       "BLACKSTONE-NEY ULTRASONIC    1\n",
       "UNIVERSAL DYNAMICS INC.      1\n",
       "VIRGINIA TECH                1\n",
       "AMERICAN DESIGN &            1\n",
       "PERFORMANCE CONTRACTNG-KY    1\n",
       "PERFORMANCE FRICTION         1\n",
       "RAINBOW ART GLASS INC.       1\n",
       "R.L. WILLIAMS & CO., INC.    1\n",
       "QUICK CUT GASKET & RUBBER    1\n",
       "HARCO MANUFACTURING          1\n",
       "REFRACTORY ANCHORS INC       1\n",
       "FISHER SCIENTIFIC CO         1\n",
       "J D SUPPLY                   1\n",
       "PROPULSION TECHNOLOGY        1\n",
       "RCG OF NORTH CAROLINA LLC    1\n",
       "PORTER WALKER INC            1\n",
       "Name: count, dtype: int64"
      ]
     },
     "execution_count": 20,
     "metadata": {},
     "output_type": "execute_result"
    }
   ],
   "source": [
    "df.custname.value_counts().sort_values(ascending=True)[0:30]"
   ]
  },
  {
   "cell_type": "code",
   "execution_count": 21,
   "id": "610ec26a",
   "metadata": {},
   "outputs": [
    {
     "data": {
      "text/plain": [
       "custname\n",
       "CHIZ BROS INC        253\n",
       "ARMIL / C F S INC    174\n",
       "ZAR-TECH             165\n",
       "PYROTEK INC          164\n",
       "FIBRECAST INC.       160\n",
       "Name: count, dtype: int64"
      ]
     },
     "execution_count": 21,
     "metadata": {},
     "output_type": "execute_result"
    }
   ],
   "source": [
    "df.custname.value_counts().sort_values(ascending=False).head(5)"
   ]
  },
  {
   "cell_type": "code",
   "execution_count": 22,
   "id": "78c2e069",
   "metadata": {},
   "outputs": [
    {
     "data": {
      "text/plain": [
       "custname\n",
       "CHIZ BROS INC                253\n",
       "ARMIL / C F S INC            174\n",
       "ZAR-TECH                     165\n",
       "PYROTEK INC                  164\n",
       "FIBRECAST INC.               160\n",
       "                            ... \n",
       "DILLON SUPPLY                  1\n",
       "DIELECTRIC SOLUTIONS LLC       1\n",
       "MULTI-METALS                   1\n",
       "MUNACO PACKING & RUBBER        1\n",
       "KIEWIT POWER CONSTRUCTORS      1\n",
       "Length: 1268, dtype: int64"
      ]
     },
     "execution_count": 22,
     "metadata": {},
     "output_type": "execute_result"
    }
   ],
   "source": [
    "#pandas\n",
    "df.groupby('custname').size().sort_values(ascending=False)"
   ]
  },
  {
   "cell_type": "code",
   "execution_count": 23,
   "id": "4857c69b",
   "metadata": {},
   "outputs": [
    {
     "data": {
      "text/plain": [
       "custname\n",
       "CHIZ BROS INC        253\n",
       "ARMIL / C F S INC    174\n",
       "ZAR-TECH             165\n",
       "PYROTEK INC          164\n",
       "FIBRECAST INC.       160\n",
       "dtype: int64"
      ]
     },
     "execution_count": 23,
     "metadata": {},
     "output_type": "execute_result"
    }
   ],
   "source": [
    "df.groupby('custname').size().sort_values(ascending=False).head(5)"
   ]
  },
  {
   "cell_type": "code",
   "execution_count": 24,
   "id": "f0796c9b",
   "metadata": {},
   "outputs": [
    {
     "data": {
      "text/plain": [
       "<Axes: xlabel='custname'>"
      ]
     },
     "execution_count": 24,
     "metadata": {},
     "output_type": "execute_result"
    },
    {
     "data": {
      "image/png": "[encoded data removed]",
      "text/plain": [
       "<Figure size 640x480 with 1 Axes>"
      ]
     },
     "metadata": {},
     "output_type": "display_data"
    }
   ],
   "source": [
    "df.groupby('custname').size().sort_values(ascending=False).head(10).plot(kind='bar')"
   ]
  },
  {
   "cell_type": "code",
   "execution_count": 25,
   "id": "9366811b",
   "metadata": {},
   "outputs": [
    {
     "data": {
      "text/plain": [
       "custname\n",
       "CHIZ BROS INC               253\n",
       "ARMIL / C F S INC           174\n",
       "ZAR-TECH                    165\n",
       "PYROTEK INC                 164\n",
       "FIBRECAST INC.              160\n",
       "                           ... \n",
       "WEST METAL WORKS              1\n",
       "EAGLE INSULATION              1\n",
       "WHITE CAP CORPORATION         1\n",
       "E. A. PATTEN COMPANY          1\n",
       "COLUMBUS RUBBER & GASKET      1\n",
       "Name: count, Length: 1268, dtype: int64"
      ]
     },
     "execution_count": 25,
     "metadata": {},
     "output_type": "execute_result"
    }
   ],
   "source": [
    "df.custname.value_counts()"
   ]
  },
  {
   "cell_type": "code",
   "execution_count": 26,
   "id": "ce6b569c",
   "metadata": {},
   "outputs": [
    {
     "data": {
      "text/plain": [
       "<Axes: xlabel='custname'>"
      ]
     },
     "execution_count": 26,
     "metadata": {},
     "output_type": "execute_result"
    },
    {
     "data": {
      "image/png": "[encoded data removed]",
      "text/plain": [
       "<Figure size 640x480 with 1 Axes>"
      ]
     },
     "metadata": {},
     "output_type": "display_data"
    }
   ],
   "source": [
    "df.groupby('custname').size().sort_values(ascending=False).head(10).plot(kind='bar')\n",
    "#these are most loyal customers\n",
    "#Top customer is CHIZ bros inc"
   ]
  },
  {
   "cell_type": "code",
   "execution_count": 27,
   "id": "a43914d7",
   "metadata": {},
   "outputs": [],
   "source": [
    "#%%% - Summary2\n",
    "#Which customers contribute the most to their revenue - How do I retain these customers & target incentives\n",
    "#find total revenue of each customer, sort in descending."
   ]
  },
  {
   "cell_type": "code",
   "execution_count": 28,
   "id": "ea2eac16",
   "metadata": {},
   "outputs": [],
   "source": [
    "#%%% Summary3\n",
    "#What part numbers bring in to significant portion of revenue - Maximise revenue from high value parts\n",
    "#grouby partnum, find value of revenue, sell these more"
   ]
  },
  {
   "cell_type": "code",
   "execution_count": 29,
   "id": "9d713cee",
   "metadata": {},
   "outputs": [
    {
     "name": "stderr",
     "output_type": "stream",
     "text": [
      "/var/folders/z4/8qd93wx14xz1c9qfb_z969wc0000gn/T/ipykernel_12199/3393841085.py:2: FutureWarning: The provided callable <function sum at 0x107255300> is currently using SeriesGroupBy.sum. In a future version of pandas, the provided callable will be used directly. To keep current behavior pass the string \"sum\" instead.\n",
      "  df.groupby('custname').aggregate({'revenue':np.sum})\n"
     ]
    },
    {
     "data": {
      "text/html": [
       "<div>\n",
       "<style scoped>\n",
       "    .dataframe tbody tr th:only-of-type {\n",
       "        vertical-align: middle;\n",
       "    }\n",
       "\n",
       "    .dataframe tbody tr th {\n",
       "        vertical-align: top;\n",
       "    }\n",
       "\n",
       "    .dataframe thead th {\n",
       "        text-align: right;\n",
       "    }\n",
       "</style>\n",
       "<table border=\"1\" class=\"dataframe\">\n",
       "  <thead>\n",
       "    <tr style=\"text-align: right;\">\n",
       "      <th></th>\n",
       "      <th>revenue</th>\n",
       "    </tr>\n",
       "    <tr>\n",
       "      <th>custname</th>\n",
       "      <th></th>\n",
       "    </tr>\n",
       "  </thead>\n",
       "  <tbody>\n",
       "    <tr>\n",
       "      <th>3-I INDUSTRIAL SUPPLY</th>\n",
       "      <td>6625.90</td>\n",
       "    </tr>\n",
       "    <tr>\n",
       "      <th>3M COMPANY</th>\n",
       "      <td>3106603.20</td>\n",
       "    </tr>\n",
       "    <tr>\n",
       "      <th>4-STATE SUPPLY</th>\n",
       "      <td>404716.60</td>\n",
       "    </tr>\n",
       "    <tr>\n",
       "      <th>A G C INC.</th>\n",
       "      <td>81982.46</td>\n",
       "    </tr>\n",
       "    <tr>\n",
       "      <th>A O SMITH</th>\n",
       "      <td>2368.40</td>\n",
       "    </tr>\n",
       "    <tr>\n",
       "      <th>...</th>\n",
       "      <td>...</td>\n",
       "    </tr>\n",
       "    <tr>\n",
       "      <th>XPEDX</th>\n",
       "      <td>13134.00</td>\n",
       "    </tr>\n",
       "    <tr>\n",
       "      <th>ZAR-TECH</th>\n",
       "      <td>3748205.92</td>\n",
       "    </tr>\n",
       "    <tr>\n",
       "      <th>ZIRCAR CERAMICS INC</th>\n",
       "      <td>242397.52</td>\n",
       "    </tr>\n",
       "    <tr>\n",
       "      <th>ZIRCAR REFRAC. COMPOSITES</th>\n",
       "      <td>17941.61</td>\n",
       "    </tr>\n",
       "    <tr>\n",
       "      <th>ZIRCAR ZIRCONIA INC.</th>\n",
       "      <td>4483.18</td>\n",
       "    </tr>\n",
       "  </tbody>\n",
       "</table>\n",
       "<p>1268 rows × 1 columns</p>\n",
       "</div>"
      ],
      "text/plain": [
       "                             revenue\n",
       "custname                            \n",
       "3-I INDUSTRIAL SUPPLY        6625.90\n",
       "3M COMPANY                3106603.20\n",
       "4-STATE SUPPLY             404716.60\n",
       "A G C INC.                  81982.46\n",
       "A O SMITH                    2368.40\n",
       "...                              ...\n",
       "XPEDX                       13134.00\n",
       "ZAR-TECH                  3748205.92\n",
       "ZIRCAR CERAMICS INC        242397.52\n",
       "ZIRCAR REFRAC. COMPOSITES   17941.61\n",
       "ZIRCAR ZIRCONIA INC.         4483.18\n",
       "\n",
       "[1268 rows x 1 columns]"
      ]
     },
     "execution_count": 29,
     "metadata": {},
     "output_type": "execute_result"
    }
   ],
   "source": [
    "#find total revenue of each customer, sort in descending.\n",
    "df.groupby('custname').aggregate({'revenue':np.sum})"
   ]
  },
  {
   "cell_type": "code",
   "execution_count": 35,
   "id": "575c0c78",
   "metadata": {},
   "outputs": [
    {
     "data": {
      "text/html": [
       "<div>\n",
       "<style scoped>\n",
       "    .dataframe tbody tr th:only-of-type {\n",
       "        vertical-align: middle;\n",
       "    }\n",
       "\n",
       "    .dataframe tbody tr th {\n",
       "        vertical-align: top;\n",
       "    }\n",
       "\n",
       "    .dataframe thead th {\n",
       "        text-align: right;\n",
       "    }\n",
       "</style>\n",
       "<table border=\"1\" class=\"dataframe\">\n",
       "  <thead>\n",
       "    <tr style=\"text-align: right;\">\n",
       "      <th></th>\n",
       "      <th>revenue</th>\n",
       "    </tr>\n",
       "    <tr>\n",
       "      <th>custname</th>\n",
       "      <th></th>\n",
       "    </tr>\n",
       "  </thead>\n",
       "  <tbody>\n",
       "    <tr>\n",
       "      <th>TRIUMPH INSULATION</th>\n",
       "      <td>35592531.24</td>\n",
       "    </tr>\n",
       "    <tr>\n",
       "      <th>CORNING SHARED SERVICES</th>\n",
       "      <td>12843518.78</td>\n",
       "    </tr>\n",
       "    <tr>\n",
       "      <th>THERMAL PRODUCTS INC</th>\n",
       "      <td>7209418.18</td>\n",
       "    </tr>\n",
       "    <tr>\n",
       "      <th>WESTERN INDUSTRIAL CERAMI</th>\n",
       "      <td>5589784.96</td>\n",
       "    </tr>\n",
       "    <tr>\n",
       "      <th>DELTA REFRACTORIES</th>\n",
       "      <td>5546115.08</td>\n",
       "    </tr>\n",
       "    <tr>\n",
       "      <th>...</th>\n",
       "      <td>...</td>\n",
       "    </tr>\n",
       "    <tr>\n",
       "      <th>CORVID TECHNOLOGIES</th>\n",
       "      <td>143.00</td>\n",
       "    </tr>\n",
       "    <tr>\n",
       "      <th>JONATHAN ELLIS</th>\n",
       "      <td>135.00</td>\n",
       "    </tr>\n",
       "    <tr>\n",
       "      <th>WHIPMIX</th>\n",
       "      <td>135.00</td>\n",
       "    </tr>\n",
       "    <tr>\n",
       "      <th>LARRY COOPER</th>\n",
       "      <td>100.00</td>\n",
       "    </tr>\n",
       "    <tr>\n",
       "      <th>SAXON GLASS TECH INC</th>\n",
       "      <td>56.80</td>\n",
       "    </tr>\n",
       "  </tbody>\n",
       "</table>\n",
       "<p>1268 rows × 1 columns</p>\n",
       "</div>"
      ],
      "text/plain": [
       "                              revenue\n",
       "custname                             \n",
       "TRIUMPH INSULATION        35592531.24\n",
       "CORNING SHARED SERVICES   12843518.78\n",
       "THERMAL PRODUCTS INC       7209418.18\n",
       "WESTERN INDUSTRIAL CERAMI  5589784.96\n",
       "DELTA REFRACTORIES         5546115.08\n",
       "...                               ...\n",
       "CORVID TECHNOLOGIES            143.00\n",
       "JONATHAN ELLIS                 135.00\n",
       "WHIPMIX                        135.00\n",
       "LARRY COOPER                   100.00\n",
       "SAXON GLASS TECH INC            56.80\n",
       "\n",
       "[1268 rows x 1 columns]"
      ]
     },
     "execution_count": 35,
     "metadata": {},
     "output_type": "execute_result"
    }
   ],
   "source": [
    "df.groupby('custname').aggregate({'revenue':'sum'}).sort_values(by='revenue', ascending=False)"
   ]
  },
  {
   "cell_type": "code",
   "execution_count": 34,
   "id": "f0d65394",
   "metadata": {},
   "outputs": [
    {
     "data": {
      "text/html": [
       "<div>\n",
       "<style scoped>\n",
       "    .dataframe tbody tr th:only-of-type {\n",
       "        vertical-align: middle;\n",
       "    }\n",
       "\n",
       "    .dataframe tbody tr th {\n",
       "        vertical-align: top;\n",
       "    }\n",
       "\n",
       "    .dataframe thead th {\n",
       "        text-align: right;\n",
       "    }\n",
       "</style>\n",
       "<table border=\"1\" class=\"dataframe\">\n",
       "  <thead>\n",
       "    <tr style=\"text-align: right;\">\n",
       "      <th></th>\n",
       "      <th>revenue</th>\n",
       "    </tr>\n",
       "    <tr>\n",
       "      <th>custname</th>\n",
       "      <th></th>\n",
       "    </tr>\n",
       "  </thead>\n",
       "  <tbody>\n",
       "    <tr>\n",
       "      <th>TRIUMPH INSULATION</th>\n",
       "      <td>35592531.24</td>\n",
       "    </tr>\n",
       "    <tr>\n",
       "      <th>CORNING SHARED SERVICES</th>\n",
       "      <td>12843518.78</td>\n",
       "    </tr>\n",
       "    <tr>\n",
       "      <th>THERMAL PRODUCTS INC</th>\n",
       "      <td>7209418.18</td>\n",
       "    </tr>\n",
       "    <tr>\n",
       "      <th>WESTERN INDUSTRIAL CERAMI</th>\n",
       "      <td>5589784.96</td>\n",
       "    </tr>\n",
       "    <tr>\n",
       "      <th>DELTA REFRACTORIES</th>\n",
       "      <td>5546115.08</td>\n",
       "    </tr>\n",
       "  </tbody>\n",
       "</table>\n",
       "</div>"
      ],
      "text/plain": [
       "                              revenue\n",
       "custname                             \n",
       "TRIUMPH INSULATION        35592531.24\n",
       "CORNING SHARED SERVICES   12843518.78\n",
       "THERMAL PRODUCTS INC       7209418.18\n",
       "WESTERN INDUSTRIAL CERAMI  5589784.96\n",
       "DELTA REFRACTORIES         5546115.08"
      ]
     },
     "execution_count": 34,
     "metadata": {},
     "output_type": "execute_result"
    }
   ],
   "source": [
    "df.groupby('custname').aggregate({'revenue':'sum'}).sort_values(by='revenue', ascending=False).head(5)"
   ]
  },
  {
   "cell_type": "code",
   "execution_count": 36,
   "id": "c5b1043d",
   "metadata": {},
   "outputs": [
    {
     "data": {
      "text/plain": [
       "<Axes: xlabel='custname'>"
      ]
     },
     "execution_count": 36,
     "metadata": {},
     "output_type": "execute_result"
    },
    {
     "data": {
      "image/png": "[encoded data removed]",
      "text/plain": [
       "<Figure size 640x480 with 1 Axes>"
      ]
     },
     "metadata": {},
     "output_type": "display_data"
    }
   ],
   "source": [
    "df.groupby('custname').aggregate({'revenue':'sum'}).sort_values(by='revenue', ascending=False).head(5).plot(kind='bar')"
   ]
  },
  {
   "cell_type": "code",
   "execution_count": null,
   "id": "16c64abe",
   "metadata": {},
   "outputs": [],
   "source": [
    "#%%% Summary4\n",
    "#What parts have the highest profit margin - What parts are driving profits & what parts need to build further\n",
    "#check for margin value, their individual margin and total sales margin like revenue"
   ]
  },
  {
   "cell_type": "code",
   "execution_count": null,
   "id": "76fcdd8f",
   "metadata": {},
   "outputs": [],
   "source": []
  },
  {
   "cell_type": "code",
   "execution_count": null,
   "id": "a306c75c",
   "metadata": {},
   "outputs": [],
   "source": [
    "#%%% Extras\n",
    "#Most sold items"
   ]
  }
 ],
 "metadata": {
  "kernelspec": {
   "display_name": "Python 3 (ipykernel)",
   "language": "python",
   "name": "python3"
  },
  "language_info": {
   "codemirror_mode": {
    "name": "ipython",
    "version": 3
   },
   "file_extension": ".py",
   "mimetype": "text/x-python",
   "name": "python",
   "nbconvert_exporter": "python",
   "pygments_lexer": "ipython3",
   "version": "3.12.7"
  }
 },
 "nbformat": 4,
 "nbformat_minor": 5
}
