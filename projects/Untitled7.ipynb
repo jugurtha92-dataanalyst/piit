{
 "cells": [
  {
   "cell_type": "code",
   "execution_count": 1,
   "id": "73aac554-7060-4d82-87f6-b96b4024d0ea",
   "metadata": {},
   "outputs": [],
   "source": [
    "import numpy as np\n",
    "from scipy import stats"
   ]
  },
  {
   "cell_type": "code",
   "execution_count": 5,
   "id": "2616a2f8-f186-47d2-9bf7-7fca3d5d0188",
   "metadata": {},
   "outputs": [
    {
     "name": "stdout",
     "output_type": "stream",
     "text": [
      "[21.5 24.5 18.5 17.2 14.5 23.2 22.1 20.5 19.4 18.1 24.1 18.5]\n"
     ]
    }
   ],
   "source": [
    "sampl_data1 = np.array([21.5, 24.5, 18.5, 17.2, 14.5, 23.2, 22.1, 20.5, 19.4, 18.1, 24.1, 18.5])\n",
    "hypothesized_mean =20\n",
    "print (sampl_data1)"
   ]
  },
  {
   "cell_type": "code",
   "execution_count": null,
   "id": "2866c01e-0868-4a85-8e23-62e02b00a287",
   "metadata": {},
   "outputs": [],
   "source": [
    "# Hypothesis: A farmer wants to know if their potato yield is better than the standard yield of 20 units per acre for that variety"
   ]
  },
  {
   "cell_type": "code",
   "execution_count": null,
   "id": "a8f251e2-5c6f-4fa3-b93b-8c6a4416ccc5",
   "metadata": {},
   "outputs": [],
   "source": [
    "# Null Hypothesis (\\(H_{0}\\)): The sample mean is equal to the hypothesized population mean\n",
    "# Alternative Hypothesis (\\(H_{a}\\)): The sample mean is not equal to, or is greater/less than, the hypothesized population mean"
   ]
  },
  {
   "cell_type": "code",
   "execution_count": 6,
   "id": "1fa445d6-3b40-4c31-b9fe-4e2fded8ff11",
   "metadata": {},
   "outputs": [
    {
     "name": "stdout",
     "output_type": "stream",
     "text": [
      "T-statistic: 0.2007\n",
      "P-value: 0.8446\n"
     ]
    }
   ],
   "source": [
    "# Perform the one-sample t-test\n",
    "t_statistic, p_value = stats.ttest_1samp(a=sampl_data1, popmean=hypothesized_mean)\n",
    "\n",
    "print(f\"T-statistic: {t_statistic:.4f}\")\n",
    "print(f\"P-value: {p_value:.4f}\")"
   ]
  },
  {
   "cell_type": "code",
   "execution_count": 8,
   "id": "f16bca7d-de5a-423f-af0e-83cd29eec0b1",
   "metadata": {},
   "outputs": [
    {
     "name": "stdout",
     "output_type": "stream",
     "text": [
      "Conclusion: Fail to reject the null hypothesis.\n",
      "There is no significant difference between the sample mean and the hypothesized population mean.\n"
     ]
    }
   ],
   "source": [
    "if p_value < 0.05:\n",
    "    print(\"Conclusion: Reject the null hypothesis\", p_value)\n",
    "    print(\"The sample mean is significantly different from the hypothesized population mean.\")\n",
    "else:\n",
    "    print(\"Conclusion: Fail to reject the null hypothesis.\")\n",
    "    print(\"There is no significant difference between the sample mean and the hypothesized population mean.\")"
   ]
  },
  {
   "cell_type": "code",
   "execution_count": null,
   "id": "edc35644-49b0-4420-9452-9043e03060c8",
   "metadata": {},
   "outputs": [],
   "source": []
  }
 ],
 "metadata": {
  "kernelspec": {
   "display_name": "Python [conda env:base] *",
   "language": "python",
   "name": "conda-base-py"
  },
  "language_info": {
   "codemirror_mode": {
    "name": "ipython",
    "version": 3
   },
   "file_extension": ".py",
   "mimetype": "text/x-python",
   "name": "python",
   "nbconvert_exporter": "python",
   "pygments_lexer": "ipython3",
   "version": "3.13.5"
  }
 },
 "nbformat": 4,
 "nbformat_minor": 5
}
