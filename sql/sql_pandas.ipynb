{
 "cells": [
  {
   "cell_type": "code",
   "execution_count": null,
   "id": "048719b8-9d62-4e2d-94ad-437c302a9f15",
   "metadata": {},
   "outputs": [],
   "source": [
    "# Pandas SQL"
   ]
  },
  {
   "cell_type": "code",
   "execution_count": null,
   "id": "8a1e6fc1-cf8e-4ce0-a03c-e71b093ceef2",
   "metadata": {},
   "outputs": [],
   "source": [
    "#pip install pandasql"
   ]
  },
  {
   "cell_type": "code",
   "execution_count": null,
   "id": "6438d037-cd73-4176-838e-e7ffc1429e9d",
   "metadata": {},
   "outputs": [],
   "source": [
    "import pandas as pd\n",
    "from pandasql import sqldf\n",
    "import os"
   ]
  },
  {
   "cell_type": "code",
   "execution_count": null,
   "id": "c03adc17-47bf-4bf1-9a02-b4463290fba1",
   "metadata": {},
   "outputs": [],
   "source": [
    "projectFolder ='/Users/du/dup/analytics/projects/piit/data/'\n",
    "os.listdir(projectFolder)"
   ]
  },
  {
   "cell_type": "code",
   "execution_count": null,
   "id": "77eb97cd-2f4f-49b4-9dac-27b06d1c043a",
   "metadata": {},
   "outputs": [],
   "source": [
    "file_path = projectFolder + \"sqlpractise1.xlsx\"\n",
    "employees_df = pd.read_excel(file_path, sheet_name=\"Employees\")\n",
    "departments_df = pd.read_excel(file_path, sheet_name=\"Departments\")"
   ]
  },
  {
   "cell_type": "code",
   "execution_count": 10,
   "id": "a53b1633-a875-4448-994d-12dc105f80b6",
   "metadata": {},
   "outputs": [
    {
     "data": {
      "text/html": [
       "<div>\n",
       "<style scoped>\n",
       "    .dataframe tbody tr th:only-of-type {\n",
       "        vertical-align: middle;\n",
       "    }\n",
       "\n",
       "    .dataframe tbody tr th {\n",
       "        vertical-align: top;\n",
       "    }\n",
       "\n",
       "    .dataframe thead th {\n",
       "        text-align: right;\n",
       "    }\n",
       "</style>\n",
       "<table border=\"1\" class=\"dataframe\">\n",
       "  <thead>\n",
       "    <tr style=\"text-align: right;\">\n",
       "      <th></th>\n",
       "      <th>emp_id</th>\n",
       "      <th>first_name</th>\n",
       "      <th>last_name</th>\n",
       "      <th>dept_id</th>\n",
       "      <th>salary</th>\n",
       "      <th>is_active</th>\n",
       "    </tr>\n",
       "  </thead>\n",
       "  <tbody>\n",
       "    <tr>\n",
       "      <th>0</th>\n",
       "      <td>1</td>\n",
       "      <td>Alice</td>\n",
       "      <td>Smith</td>\n",
       "      <td>101</td>\n",
       "      <td>50000</td>\n",
       "      <td>1</td>\n",
       "    </tr>\n",
       "    <tr>\n",
       "      <th>1</th>\n",
       "      <td>2</td>\n",
       "      <td>Bob</td>\n",
       "      <td>Jones</td>\n",
       "      <td>102</td>\n",
       "      <td>60000</td>\n",
       "      <td>1</td>\n",
       "    </tr>\n",
       "    <tr>\n",
       "      <th>2</th>\n",
       "      <td>3</td>\n",
       "      <td>Charlie</td>\n",
       "      <td>Brown</td>\n",
       "      <td>101</td>\n",
       "      <td>55000</td>\n",
       "      <td>0</td>\n",
       "    </tr>\n",
       "    <tr>\n",
       "      <th>3</th>\n",
       "      <td>4</td>\n",
       "      <td>David</td>\n",
       "      <td>Wilson</td>\n",
       "      <td>103</td>\n",
       "      <td>70000</td>\n",
       "      <td>1</td>\n",
       "    </tr>\n",
       "    <tr>\n",
       "      <th>4</th>\n",
       "      <td>5</td>\n",
       "      <td>Eva</td>\n",
       "      <td>Taylor</td>\n",
       "      <td>102</td>\n",
       "      <td>65000</td>\n",
       "      <td>1</td>\n",
       "    </tr>\n",
       "  </tbody>\n",
       "</table>\n",
       "</div>"
      ],
      "text/plain": [
       "   emp_id first_name last_name  dept_id  salary  is_active\n",
       "0       1      Alice     Smith      101   50000          1\n",
       "1       2        Bob     Jones      102   60000          1\n",
       "2       3    Charlie     Brown      101   55000          0\n",
       "3       4      David    Wilson      103   70000          1\n",
       "4       5        Eva    Taylor      102   65000          1"
      ]
     },
     "execution_count": 10,
     "metadata": {},
     "output_type": "execute_result"
    }
   ],
   "source": [
    "employees_df"
   ]
  },
  {
   "cell_type": "code",
   "execution_count": 11,
   "id": "81a5f6a0-cd67-4bab-aa8e-52cc85b5df9a",
   "metadata": {},
   "outputs": [
    {
     "data": {
      "text/html": [
       "<div>\n",
       "<style scoped>\n",
       "    .dataframe tbody tr th:only-of-type {\n",
       "        vertical-align: middle;\n",
       "    }\n",
       "\n",
       "    .dataframe tbody tr th {\n",
       "        vertical-align: top;\n",
       "    }\n",
       "\n",
       "    .dataframe thead th {\n",
       "        text-align: right;\n",
       "    }\n",
       "</style>\n",
       "<table border=\"1\" class=\"dataframe\">\n",
       "  <thead>\n",
       "    <tr style=\"text-align: right;\">\n",
       "      <th></th>\n",
       "      <th>dept_id</th>\n",
       "      <th>dept_name</th>\n",
       "      <th>manager_id</th>\n",
       "    </tr>\n",
       "  </thead>\n",
       "  <tbody>\n",
       "    <tr>\n",
       "      <th>0</th>\n",
       "      <td>101</td>\n",
       "      <td>HR</td>\n",
       "      <td>1</td>\n",
       "    </tr>\n",
       "    <tr>\n",
       "      <th>1</th>\n",
       "      <td>102</td>\n",
       "      <td>Engineering</td>\n",
       "      <td>2</td>\n",
       "    </tr>\n",
       "    <tr>\n",
       "      <th>2</th>\n",
       "      <td>103</td>\n",
       "      <td>Marketing</td>\n",
       "      <td>4</td>\n",
       "    </tr>\n",
       "  </tbody>\n",
       "</table>\n",
       "</div>"
      ],
      "text/plain": [
       "   dept_id    dept_name  manager_id\n",
       "0      101           HR           1\n",
       "1      102  Engineering           2\n",
       "2      103    Marketing           4"
      ]
     },
     "execution_count": 11,
     "metadata": {},
     "output_type": "execute_result"
    }
   ],
   "source": [
    "departments_df"
   ]
  },
  {
   "cell_type": "code",
   "execution_count": 12,
   "id": "c85cc636-c7bf-429a-a76c-6e80817ece84",
   "metadata": {},
   "outputs": [],
   "source": [
    "# Define SQL query function\n",
    "pysqldf = lambda q: sqldf(q, globals())"
   ]
  },
  {
   "cell_type": "markdown",
   "id": "910c8257-e95c-4ec8-ab26-6c51b8a1fde3",
   "metadata": {},
   "source": [
    "## Select All Employees"
   ]
  },
  {
   "cell_type": "code",
   "execution_count": 13,
   "id": "21745f9b-b5db-40a3-92ed-9e7b493ffd34",
   "metadata": {},
   "outputs": [
    {
     "data": {
      "text/html": [
       "<div>\n",
       "<style scoped>\n",
       "    .dataframe tbody tr th:only-of-type {\n",
       "        vertical-align: middle;\n",
       "    }\n",
       "\n",
       "    .dataframe tbody tr th {\n",
       "        vertical-align: top;\n",
       "    }\n",
       "\n",
       "    .dataframe thead th {\n",
       "        text-align: right;\n",
       "    }\n",
       "</style>\n",
       "<table border=\"1\" class=\"dataframe\">\n",
       "  <thead>\n",
       "    <tr style=\"text-align: right;\">\n",
       "      <th></th>\n",
       "      <th>emp_id</th>\n",
       "      <th>first_name</th>\n",
       "      <th>last_name</th>\n",
       "      <th>dept_id</th>\n",
       "      <th>salary</th>\n",
       "      <th>is_active</th>\n",
       "    </tr>\n",
       "  </thead>\n",
       "  <tbody>\n",
       "    <tr>\n",
       "      <th>0</th>\n",
       "      <td>1</td>\n",
       "      <td>Alice</td>\n",
       "      <td>Smith</td>\n",
       "      <td>101</td>\n",
       "      <td>50000</td>\n",
       "      <td>1</td>\n",
       "    </tr>\n",
       "    <tr>\n",
       "      <th>1</th>\n",
       "      <td>2</td>\n",
       "      <td>Bob</td>\n",
       "      <td>Jones</td>\n",
       "      <td>102</td>\n",
       "      <td>60000</td>\n",
       "      <td>1</td>\n",
       "    </tr>\n",
       "    <tr>\n",
       "      <th>2</th>\n",
       "      <td>3</td>\n",
       "      <td>Charlie</td>\n",
       "      <td>Brown</td>\n",
       "      <td>101</td>\n",
       "      <td>55000</td>\n",
       "      <td>0</td>\n",
       "    </tr>\n",
       "    <tr>\n",
       "      <th>3</th>\n",
       "      <td>4</td>\n",
       "      <td>David</td>\n",
       "      <td>Wilson</td>\n",
       "      <td>103</td>\n",
       "      <td>70000</td>\n",
       "      <td>1</td>\n",
       "    </tr>\n",
       "    <tr>\n",
       "      <th>4</th>\n",
       "      <td>5</td>\n",
       "      <td>Eva</td>\n",
       "      <td>Taylor</td>\n",
       "      <td>102</td>\n",
       "      <td>65000</td>\n",
       "      <td>1</td>\n",
       "    </tr>\n",
       "  </tbody>\n",
       "</table>\n",
       "</div>"
      ],
      "text/plain": [
       "   emp_id first_name last_name  dept_id  salary  is_active\n",
       "0       1      Alice     Smith      101   50000          1\n",
       "1       2        Bob     Jones      102   60000          1\n",
       "2       3    Charlie     Brown      101   55000          0\n",
       "3       4      David    Wilson      103   70000          1\n",
       "4       5        Eva    Taylor      102   65000          1"
      ]
     },
     "execution_count": 13,
     "metadata": {},
     "output_type": "execute_result"
    }
   ],
   "source": [
    "pysqldf(\"SELECT * FROM employees_df;\")"
   ]
  },
  {
   "cell_type": "markdown",
   "id": "74029cf8-1e5b-43ae-86e9-2184ebdf892d",
   "metadata": {},
   "source": [
    "## Employees with salary > 55000"
   ]
  },
  {
   "cell_type": "code",
   "execution_count": null,
   "id": "b6a285c7-c407-49a5-8aac-20b0a4e71948",
   "metadata": {},
   "outputs": [],
   "source": [
    "pysqldf(\"SELECT * FROM employees_df WHERE salary > 55000;\")"
   ]
  },
  {
   "cell_type": "markdown",
   "id": "520f03f1-4673-472e-989a-b85acf80181b",
   "metadata": {},
   "source": [
    "## Join Employees and Departments"
   ]
  },
  {
   "cell_type": "code",
   "execution_count": null,
   "id": "4a4dad49-01ae-4324-a709-6031717a1d02",
   "metadata": {},
   "outputs": [],
   "source": [
    "pysqldf(\"\"\"\n",
    "    SELECT e.first_name, e.last_name, d.dept_name\n",
    "    FROM employees_df e\n",
    "    JOIN departments_df d ON e.dept_id = d.dept_id;\n",
    "\"\"\")"
   ]
  },
  {
   "cell_type": "markdown",
   "id": "efae4ccd-5a3b-4a2b-924b-20138bfc9d7b",
   "metadata": {},
   "source": [
    "## Count Employees Per Department"
   ]
  },
  {
   "cell_type": "code",
   "execution_count": null,
   "id": "69f80b81-20e0-4c7d-8d16-c84db6d6299e",
   "metadata": {},
   "outputs": [],
   "source": [
    "pysqldf(\"\"\"\n",
    "    SELECT d.dept_name, COUNT(e.emp_id) AS employee_count\n",
    "    FROM employees_df e\n",
    "    JOIN departments_df d ON e.dept_id = d.dept_id\n",
    "    GROUP BY d.dept_name;\n",
    "\"\"\")"
   ]
  },
  {
   "cell_type": "markdown",
   "id": "e21b5a6e-a274-45e7-8bdc-f31c8b1bf6fd",
   "metadata": {},
   "source": [
    "## Inactive Employees"
   ]
  },
  {
   "cell_type": "code",
   "execution_count": null,
   "id": "276ca38f-a718-417f-b6ad-5acda5988ed3",
   "metadata": {},
   "outputs": [],
   "source": [
    "pysqldf(\"SELECT * FROM employees_df WHERE is_active = 0;\")"
   ]
  },
  {
   "cell_type": "markdown",
   "id": "326ff4c8-2dd0-41b1-90f4-2a47b95d0cdd",
   "metadata": {},
   "source": [
    "# DML Commands \n",
    "- limited features in pandasql"
   ]
  },
  {
   "cell_type": "code",
   "execution_count": null,
   "id": "3a70f6fd-0904-48e0-aa31-a7f2b2c2ceae",
   "metadata": {},
   "outputs": [],
   "source": []
  }
 ],
 "metadata": {
  "kernelspec": {
   "display_name": "Python 3 (ipykernel)",
   "language": "python",
   "name": "python3"
  },
  "language_info": {
   "codemirror_mode": {
    "name": "ipython",
    "version": 3
   },
   "file_extension": ".py",
   "mimetype": "text/x-python",
   "name": "python",
   "nbconvert_exporter": "python",
   "pygments_lexer": "ipython3",
   "version": "3.12.11"
  }
 },
 "nbformat": 4,
 "nbformat_minor": 5
}
