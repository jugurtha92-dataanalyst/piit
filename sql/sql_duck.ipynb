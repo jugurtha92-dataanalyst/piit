{
 "cells": [
  {
   "cell_type": "code",
   "execution_count": 1,
   "id": "bbe46c8b-0563-4d79-b152-28ec5e4706ce",
   "metadata": {},
   "outputs": [],
   "source": [
    "# Duck Library"
   ]
  },
  {
   "cell_type": "code",
   "execution_count": null,
   "id": "d88d767b-495d-44eb-a581-9d584f9b1dc4",
   "metadata": {},
   "outputs": [],
   "source": []
  },
  {
   "cell_type": "code",
   "execution_count": 2,
   "id": "c354fc5d-400b-4cfe-b854-b8f64499a681",
   "metadata": {},
   "outputs": [
    {
     "name": "stdout",
     "output_type": "stream",
     "text": [
      "Collecting duckdb\n",
      "  Downloading duckdb-1.3.2-cp312-cp312-macosx_12_0_arm64.whl.metadata (7.0 kB)\n",
      "Downloading duckdb-1.3.2-cp312-cp312-macosx_12_0_arm64.whl (15.5 MB)\n",
      "\u001b[2K   \u001b[90m━━━━━━━━━━━━━━━━━━━━━━━━━━━━━━━━━━━━━━━━\u001b[0m \u001b[32m15.5/15.5 MB\u001b[0m \u001b[31m65.1 MB/s\u001b[0m eta \u001b[36m0:00:00\u001b[0ma \u001b[36m0:00:01\u001b[0m\n",
      "\u001b[?25hInstalling collected packages: duckdb\n",
      "Successfully installed duckdb-1.3.2\n",
      "Note: you may need to restart the kernel to use updated packages.\n"
     ]
    }
   ],
   "source": [
    "#pip install duckdb"
   ]
  },
  {
   "cell_type": "code",
   "execution_count": 6,
   "id": "56f35247-cb3e-4902-9a9a-899aae639a52",
   "metadata": {},
   "outputs": [],
   "source": [
    "import duckdb\n",
    "import pandas as pd\n",
    "import os"
   ]
  },
  {
   "cell_type": "code",
   "execution_count": 7,
   "id": "19e1fb35-a223-4af8-9beb-1f97f83f09a9",
   "metadata": {},
   "outputs": [
    {
     "data": {
      "text/plain": [
       "['sqlpractise1.xlsx', '~$sqlpractise1.xlsx']"
      ]
     },
     "execution_count": 7,
     "metadata": {},
     "output_type": "execute_result"
    }
   ],
   "source": [
    "projectFolder ='/Users/du/dup/analytics/projects/piit/data/'\n",
    "os.listdir(projectFolder)"
   ]
  },
  {
   "cell_type": "code",
   "execution_count": 8,
   "id": "293aa4c6-c39d-4e86-a2b7-c2a7ddbea80a",
   "metadata": {},
   "outputs": [],
   "source": [
    "file_path = projectFolder + \"sqlpractise1.xlsx\"\n",
    "employees_df = pd.read_excel(file_path, sheet_name=\"Employees\")\n",
    "departments_df = pd.read_excel(file_path, sheet_name=\"Departments\")"
   ]
  },
  {
   "cell_type": "code",
   "execution_count": 9,
   "id": "7f88eb9a-ebeb-4744-b14d-26e4730f7f02",
   "metadata": {},
   "outputs": [
    {
     "data": {
      "text/html": [
       "<div>\n",
       "<style scoped>\n",
       "    .dataframe tbody tr th:only-of-type {\n",
       "        vertical-align: middle;\n",
       "    }\n",
       "\n",
       "    .dataframe tbody tr th {\n",
       "        vertical-align: top;\n",
       "    }\n",
       "\n",
       "    .dataframe thead th {\n",
       "        text-align: right;\n",
       "    }\n",
       "</style>\n",
       "<table border=\"1\" class=\"dataframe\">\n",
       "  <thead>\n",
       "    <tr style=\"text-align: right;\">\n",
       "      <th></th>\n",
       "      <th>emp_id</th>\n",
       "      <th>first_name</th>\n",
       "      <th>last_name</th>\n",
       "      <th>dept_id</th>\n",
       "      <th>salary</th>\n",
       "      <th>is_active</th>\n",
       "    </tr>\n",
       "  </thead>\n",
       "  <tbody>\n",
       "    <tr>\n",
       "      <th>0</th>\n",
       "      <td>1</td>\n",
       "      <td>Alice</td>\n",
       "      <td>Smith</td>\n",
       "      <td>101</td>\n",
       "      <td>50000</td>\n",
       "      <td>1</td>\n",
       "    </tr>\n",
       "    <tr>\n",
       "      <th>1</th>\n",
       "      <td>2</td>\n",
       "      <td>Bob</td>\n",
       "      <td>Jones</td>\n",
       "      <td>102</td>\n",
       "      <td>60000</td>\n",
       "      <td>1</td>\n",
       "    </tr>\n",
       "    <tr>\n",
       "      <th>2</th>\n",
       "      <td>3</td>\n",
       "      <td>Charlie</td>\n",
       "      <td>Brown</td>\n",
       "      <td>101</td>\n",
       "      <td>55000</td>\n",
       "      <td>0</td>\n",
       "    </tr>\n",
       "    <tr>\n",
       "      <th>3</th>\n",
       "      <td>4</td>\n",
       "      <td>David</td>\n",
       "      <td>Wilson</td>\n",
       "      <td>103</td>\n",
       "      <td>70000</td>\n",
       "      <td>1</td>\n",
       "    </tr>\n",
       "    <tr>\n",
       "      <th>4</th>\n",
       "      <td>5</td>\n",
       "      <td>Eva</td>\n",
       "      <td>Taylor</td>\n",
       "      <td>102</td>\n",
       "      <td>65000</td>\n",
       "      <td>1</td>\n",
       "    </tr>\n",
       "  </tbody>\n",
       "</table>\n",
       "</div>"
      ],
      "text/plain": [
       "   emp_id first_name last_name  dept_id  salary  is_active\n",
       "0       1      Alice     Smith      101   50000          1\n",
       "1       2        Bob     Jones      102   60000          1\n",
       "2       3    Charlie     Brown      101   55000          0\n",
       "3       4      David    Wilson      103   70000          1\n",
       "4       5        Eva    Taylor      102   65000          1"
      ]
     },
     "execution_count": 9,
     "metadata": {},
     "output_type": "execute_result"
    }
   ],
   "source": [
    "employees_df"
   ]
  },
  {
   "cell_type": "code",
   "execution_count": 11,
   "id": "77cd4e14-5478-40cc-b368-4723207b439b",
   "metadata": {},
   "outputs": [
    {
     "data": {
      "text/html": [
       "<div>\n",
       "<style scoped>\n",
       "    .dataframe tbody tr th:only-of-type {\n",
       "        vertical-align: middle;\n",
       "    }\n",
       "\n",
       "    .dataframe tbody tr th {\n",
       "        vertical-align: top;\n",
       "    }\n",
       "\n",
       "    .dataframe thead th {\n",
       "        text-align: right;\n",
       "    }\n",
       "</style>\n",
       "<table border=\"1\" class=\"dataframe\">\n",
       "  <thead>\n",
       "    <tr style=\"text-align: right;\">\n",
       "      <th></th>\n",
       "      <th>dept_id</th>\n",
       "      <th>dept_name</th>\n",
       "      <th>manager_id</th>\n",
       "    </tr>\n",
       "  </thead>\n",
       "  <tbody>\n",
       "    <tr>\n",
       "      <th>0</th>\n",
       "      <td>101</td>\n",
       "      <td>HR</td>\n",
       "      <td>1</td>\n",
       "    </tr>\n",
       "    <tr>\n",
       "      <th>1</th>\n",
       "      <td>102</td>\n",
       "      <td>Engineering</td>\n",
       "      <td>2</td>\n",
       "    </tr>\n",
       "    <tr>\n",
       "      <th>2</th>\n",
       "      <td>103</td>\n",
       "      <td>Marketing</td>\n",
       "      <td>4</td>\n",
       "    </tr>\n",
       "  </tbody>\n",
       "</table>\n",
       "</div>"
      ],
      "text/plain": [
       "   dept_id    dept_name  manager_id\n",
       "0      101           HR           1\n",
       "1      102  Engineering           2\n",
       "2      103    Marketing           4"
      ]
     },
     "execution_count": 11,
     "metadata": {},
     "output_type": "execute_result"
    }
   ],
   "source": [
    "departments_df"
   ]
  },
  {
   "cell_type": "code",
   "execution_count": 12,
   "id": "60f22117-a642-4293-ae15-92a8e8c10e69",
   "metadata": {},
   "outputs": [
    {
     "data": {
      "text/plain": [
       "<duckdb.duckdb.DuckDBPyConnection at 0x148a20b30>"
      ]
     },
     "execution_count": 12,
     "metadata": {},
     "output_type": "execute_result"
    }
   ],
   "source": [
    "# Connect to DuckDB and register DataFrames as tables\n",
    "con = duckdb.connect()\n",
    "con.register(\"employees_df\", employees_df)\n",
    "con.register(\"departments_df\", departments_df)"
   ]
  },
  {
   "cell_type": "markdown",
   "id": "eb2f83fc-6adb-4fce-9053-c89259ec844c",
   "metadata": {},
   "source": [
    "## Select all employees"
   ]
  },
  {
   "cell_type": "code",
   "execution_count": 13,
   "id": "0a0091bc-90d0-410f-bae1-11bedb0c4fb0",
   "metadata": {},
   "outputs": [
    {
     "data": {
      "text/html": [
       "<div>\n",
       "<style scoped>\n",
       "    .dataframe tbody tr th:only-of-type {\n",
       "        vertical-align: middle;\n",
       "    }\n",
       "\n",
       "    .dataframe tbody tr th {\n",
       "        vertical-align: top;\n",
       "    }\n",
       "\n",
       "    .dataframe thead th {\n",
       "        text-align: right;\n",
       "    }\n",
       "</style>\n",
       "<table border=\"1\" class=\"dataframe\">\n",
       "  <thead>\n",
       "    <tr style=\"text-align: right;\">\n",
       "      <th></th>\n",
       "      <th>emp_id</th>\n",
       "      <th>first_name</th>\n",
       "      <th>last_name</th>\n",
       "      <th>dept_id</th>\n",
       "      <th>salary</th>\n",
       "      <th>is_active</th>\n",
       "    </tr>\n",
       "  </thead>\n",
       "  <tbody>\n",
       "    <tr>\n",
       "      <th>0</th>\n",
       "      <td>1</td>\n",
       "      <td>Alice</td>\n",
       "      <td>Smith</td>\n",
       "      <td>101</td>\n",
       "      <td>50000</td>\n",
       "      <td>1</td>\n",
       "    </tr>\n",
       "    <tr>\n",
       "      <th>1</th>\n",
       "      <td>2</td>\n",
       "      <td>Bob</td>\n",
       "      <td>Jones</td>\n",
       "      <td>102</td>\n",
       "      <td>60000</td>\n",
       "      <td>1</td>\n",
       "    </tr>\n",
       "    <tr>\n",
       "      <th>2</th>\n",
       "      <td>3</td>\n",
       "      <td>Charlie</td>\n",
       "      <td>Brown</td>\n",
       "      <td>101</td>\n",
       "      <td>55000</td>\n",
       "      <td>0</td>\n",
       "    </tr>\n",
       "    <tr>\n",
       "      <th>3</th>\n",
       "      <td>4</td>\n",
       "      <td>David</td>\n",
       "      <td>Wilson</td>\n",
       "      <td>103</td>\n",
       "      <td>70000</td>\n",
       "      <td>1</td>\n",
       "    </tr>\n",
       "    <tr>\n",
       "      <th>4</th>\n",
       "      <td>5</td>\n",
       "      <td>Eva</td>\n",
       "      <td>Taylor</td>\n",
       "      <td>102</td>\n",
       "      <td>65000</td>\n",
       "      <td>1</td>\n",
       "    </tr>\n",
       "  </tbody>\n",
       "</table>\n",
       "</div>"
      ],
      "text/plain": [
       "   emp_id first_name last_name  dept_id  salary  is_active\n",
       "0       1      Alice     Smith      101   50000          1\n",
       "1       2        Bob     Jones      102   60000          1\n",
       "2       3    Charlie     Brown      101   55000          0\n",
       "3       4      David    Wilson      103   70000          1\n",
       "4       5        Eva    Taylor      102   65000          1"
      ]
     },
     "execution_count": 13,
     "metadata": {},
     "output_type": "execute_result"
    }
   ],
   "source": [
    "con.execute(\"SELECT * FROM employees_df\").df()"
   ]
  },
  {
   "cell_type": "markdown",
   "id": "666e5f35-72c9-49bf-93c3-b739d4723156",
   "metadata": {},
   "source": [
    "## Employees with salary > 55000"
   ]
  },
  {
   "cell_type": "code",
   "execution_count": 15,
   "id": "ef4d959e-41c2-4ec0-ad82-054274cc7d43",
   "metadata": {},
   "outputs": [
    {
     "data": {
      "text/html": [
       "<div>\n",
       "<style scoped>\n",
       "    .dataframe tbody tr th:only-of-type {\n",
       "        vertical-align: middle;\n",
       "    }\n",
       "\n",
       "    .dataframe tbody tr th {\n",
       "        vertical-align: top;\n",
       "    }\n",
       "\n",
       "    .dataframe thead th {\n",
       "        text-align: right;\n",
       "    }\n",
       "</style>\n",
       "<table border=\"1\" class=\"dataframe\">\n",
       "  <thead>\n",
       "    <tr style=\"text-align: right;\">\n",
       "      <th></th>\n",
       "      <th>emp_id</th>\n",
       "      <th>first_name</th>\n",
       "      <th>last_name</th>\n",
       "      <th>dept_id</th>\n",
       "      <th>salary</th>\n",
       "      <th>is_active</th>\n",
       "    </tr>\n",
       "  </thead>\n",
       "  <tbody>\n",
       "    <tr>\n",
       "      <th>0</th>\n",
       "      <td>2</td>\n",
       "      <td>Bob</td>\n",
       "      <td>Jones</td>\n",
       "      <td>102</td>\n",
       "      <td>60000</td>\n",
       "      <td>1</td>\n",
       "    </tr>\n",
       "    <tr>\n",
       "      <th>1</th>\n",
       "      <td>4</td>\n",
       "      <td>David</td>\n",
       "      <td>Wilson</td>\n",
       "      <td>103</td>\n",
       "      <td>70000</td>\n",
       "      <td>1</td>\n",
       "    </tr>\n",
       "    <tr>\n",
       "      <th>2</th>\n",
       "      <td>5</td>\n",
       "      <td>Eva</td>\n",
       "      <td>Taylor</td>\n",
       "      <td>102</td>\n",
       "      <td>65000</td>\n",
       "      <td>1</td>\n",
       "    </tr>\n",
       "  </tbody>\n",
       "</table>\n",
       "</div>"
      ],
      "text/plain": [
       "   emp_id first_name last_name  dept_id  salary  is_active\n",
       "0       2        Bob     Jones      102   60000          1\n",
       "1       4      David    Wilson      103   70000          1\n",
       "2       5        Eva    Taylor      102   65000          1"
      ]
     },
     "execution_count": 15,
     "metadata": {},
     "output_type": "execute_result"
    }
   ],
   "source": [
    "con.execute(\"SELECT * FROM employees_df WHERE salary > 55000\").df()"
   ]
  },
  {
   "cell_type": "markdown",
   "id": "a481499a-7cde-439e-b2bf-94fba791c33b",
   "metadata": {},
   "source": [
    "## Join Employees and Departments"
   ]
  },
  {
   "cell_type": "code",
   "execution_count": 16,
   "id": "4c5fbc57-0b6a-406e-9025-823c7f9178b9",
   "metadata": {},
   "outputs": [
    {
     "data": {
      "text/html": [
       "<div>\n",
       "<style scoped>\n",
       "    .dataframe tbody tr th:only-of-type {\n",
       "        vertical-align: middle;\n",
       "    }\n",
       "\n",
       "    .dataframe tbody tr th {\n",
       "        vertical-align: top;\n",
       "    }\n",
       "\n",
       "    .dataframe thead th {\n",
       "        text-align: right;\n",
       "    }\n",
       "</style>\n",
       "<table border=\"1\" class=\"dataframe\">\n",
       "  <thead>\n",
       "    <tr style=\"text-align: right;\">\n",
       "      <th></th>\n",
       "      <th>first_name</th>\n",
       "      <th>last_name</th>\n",
       "      <th>dept_name</th>\n",
       "    </tr>\n",
       "  </thead>\n",
       "  <tbody>\n",
       "    <tr>\n",
       "      <th>0</th>\n",
       "      <td>Alice</td>\n",
       "      <td>Smith</td>\n",
       "      <td>HR</td>\n",
       "    </tr>\n",
       "    <tr>\n",
       "      <th>1</th>\n",
       "      <td>Bob</td>\n",
       "      <td>Jones</td>\n",
       "      <td>Engineering</td>\n",
       "    </tr>\n",
       "    <tr>\n",
       "      <th>2</th>\n",
       "      <td>Charlie</td>\n",
       "      <td>Brown</td>\n",
       "      <td>HR</td>\n",
       "    </tr>\n",
       "    <tr>\n",
       "      <th>3</th>\n",
       "      <td>David</td>\n",
       "      <td>Wilson</td>\n",
       "      <td>Marketing</td>\n",
       "    </tr>\n",
       "    <tr>\n",
       "      <th>4</th>\n",
       "      <td>Eva</td>\n",
       "      <td>Taylor</td>\n",
       "      <td>Engineering</td>\n",
       "    </tr>\n",
       "  </tbody>\n",
       "</table>\n",
       "</div>"
      ],
      "text/plain": [
       "  first_name last_name    dept_name\n",
       "0      Alice     Smith           HR\n",
       "1        Bob     Jones  Engineering\n",
       "2    Charlie     Brown           HR\n",
       "3      David    Wilson    Marketing\n",
       "4        Eva    Taylor  Engineering"
      ]
     },
     "execution_count": 16,
     "metadata": {},
     "output_type": "execute_result"
    }
   ],
   "source": [
    "con.execute(\"\"\"\n",
    "    SELECT e.first_name, e.last_name, d.dept_name\n",
    "    FROM employees_df e\n",
    "    JOIN departments_df d ON e.dept_id = d.dept_id\n",
    "\"\"\").df()"
   ]
  },
  {
   "cell_type": "markdown",
   "id": "80687400-b5e4-4dab-bf18-322b03ac1702",
   "metadata": {},
   "source": [
    "## Count Employees Per Department"
   ]
  },
  {
   "cell_type": "code",
   "execution_count": 17,
   "id": "a6ae9d96-cf2c-4e23-925b-64a4ec6ee028",
   "metadata": {},
   "outputs": [
    {
     "data": {
      "text/html": [
       "<div>\n",
       "<style scoped>\n",
       "    .dataframe tbody tr th:only-of-type {\n",
       "        vertical-align: middle;\n",
       "    }\n",
       "\n",
       "    .dataframe tbody tr th {\n",
       "        vertical-align: top;\n",
       "    }\n",
       "\n",
       "    .dataframe thead th {\n",
       "        text-align: right;\n",
       "    }\n",
       "</style>\n",
       "<table border=\"1\" class=\"dataframe\">\n",
       "  <thead>\n",
       "    <tr style=\"text-align: right;\">\n",
       "      <th></th>\n",
       "      <th>dept_name</th>\n",
       "      <th>employee_count</th>\n",
       "    </tr>\n",
       "  </thead>\n",
       "  <tbody>\n",
       "    <tr>\n",
       "      <th>0</th>\n",
       "      <td>Marketing</td>\n",
       "      <td>1</td>\n",
       "    </tr>\n",
       "    <tr>\n",
       "      <th>1</th>\n",
       "      <td>Engineering</td>\n",
       "      <td>2</td>\n",
       "    </tr>\n",
       "    <tr>\n",
       "      <th>2</th>\n",
       "      <td>HR</td>\n",
       "      <td>2</td>\n",
       "    </tr>\n",
       "  </tbody>\n",
       "</table>\n",
       "</div>"
      ],
      "text/plain": [
       "     dept_name  employee_count\n",
       "0    Marketing               1\n",
       "1  Engineering               2\n",
       "2           HR               2"
      ]
     },
     "execution_count": 17,
     "metadata": {},
     "output_type": "execute_result"
    }
   ],
   "source": [
    "con.execute(\"\"\"\n",
    "    SELECT d.dept_name, COUNT(e.emp_id) AS employee_count\n",
    "    FROM employees_df e\n",
    "    JOIN departments_df d ON e.dept_id = d.dept_id\n",
    "    GROUP BY d.dept_name\n",
    "\"\"\").df()"
   ]
  },
  {
   "cell_type": "markdown",
   "id": "97fede6e-1d29-4635-9505-cdf5c614804a",
   "metadata": {},
   "source": [
    "## Inactive Employees"
   ]
  },
  {
   "cell_type": "code",
   "execution_count": 18,
   "id": "54f96ced-0d58-4c5a-86f3-a1b466a2b13c",
   "metadata": {},
   "outputs": [
    {
     "data": {
      "text/html": [
       "<div>\n",
       "<style scoped>\n",
       "    .dataframe tbody tr th:only-of-type {\n",
       "        vertical-align: middle;\n",
       "    }\n",
       "\n",
       "    .dataframe tbody tr th {\n",
       "        vertical-align: top;\n",
       "    }\n",
       "\n",
       "    .dataframe thead th {\n",
       "        text-align: right;\n",
       "    }\n",
       "</style>\n",
       "<table border=\"1\" class=\"dataframe\">\n",
       "  <thead>\n",
       "    <tr style=\"text-align: right;\">\n",
       "      <th></th>\n",
       "      <th>emp_id</th>\n",
       "      <th>first_name</th>\n",
       "      <th>last_name</th>\n",
       "      <th>dept_id</th>\n",
       "      <th>salary</th>\n",
       "      <th>is_active</th>\n",
       "    </tr>\n",
       "  </thead>\n",
       "  <tbody>\n",
       "    <tr>\n",
       "      <th>0</th>\n",
       "      <td>3</td>\n",
       "      <td>Charlie</td>\n",
       "      <td>Brown</td>\n",
       "      <td>101</td>\n",
       "      <td>55000</td>\n",
       "      <td>0</td>\n",
       "    </tr>\n",
       "  </tbody>\n",
       "</table>\n",
       "</div>"
      ],
      "text/plain": [
       "   emp_id first_name last_name  dept_id  salary  is_active\n",
       "0       3    Charlie     Brown      101   55000          0"
      ]
     },
     "execution_count": 18,
     "metadata": {},
     "output_type": "execute_result"
    }
   ],
   "source": [
    "con.execute(\"SELECT * FROM employees_df WHERE is_active = 0\").df()"
   ]
  },
  {
   "cell_type": "markdown",
   "id": "852c758f-fb12-465e-a560-b5b35ebe9994",
   "metadata": {},
   "source": [
    "## DuckDB Advantages:\n",
    "- Faster and more powerful than pandasql\n",
    "- Supports full SQL syntax including subqueries, window functions, DML, and more\n",
    "- Can even query directly from CSV or Parquet without loading into pandas\n"
   ]
  },
  {
   "cell_type": "code",
   "execution_count": null,
   "id": "a68339c1-b3f0-4326-bb7b-9526ad5f0ea1",
   "metadata": {},
   "outputs": [],
   "source": []
  }
 ],
 "metadata": {
  "kernelspec": {
   "display_name": "Python 3 (ipykernel)",
   "language": "python",
   "name": "python3"
  },
  "language_info": {
   "codemirror_mode": {
    "name": "ipython",
    "version": 3
   },
   "file_extension": ".py",
   "mimetype": "text/x-python",
   "name": "python",
   "nbconvert_exporter": "python",
   "pygments_lexer": "ipython3",
   "version": "3.12.11"
  }
 },
 "nbformat": 4,
 "nbformat_minor": 5
}
