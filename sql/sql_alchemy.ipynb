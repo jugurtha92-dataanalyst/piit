{
 "cells": [
  {
   "cell_type": "code",
   "execution_count": 1,
   "id": "f5dea11a-0e07-4755-8072-6d1ac2e6b1fd",
   "metadata": {},
   "outputs": [],
   "source": [
    "# Install SQL with Python"
   ]
  },
  {
   "cell_type": "code",
   "execution_count": 3,
   "id": "ade2cbbd-6b0e-48b2-b62f-5627f87f48cc",
   "metadata": {},
   "outputs": [],
   "source": [
    "#pip install ipython-sql sqlalchemy"
   ]
  },
  {
   "cell_type": "code",
   "execution_count": 1,
   "id": "f8630d4a-5e19-446b-a4de-df93416dc7d7",
   "metadata": {},
   "outputs": [],
   "source": [
    "%load_ext sql"
   ]
  },
  {
   "cell_type": "code",
   "execution_count": 2,
   "id": "03dc9468-3532-4914-ad4e-37e45d0c8411",
   "metadata": {},
   "outputs": [],
   "source": [
    "%sql sqlite:///my_database.db"
   ]
  },
  {
   "cell_type": "code",
   "execution_count": 6,
   "id": "3f123d17-94cd-4710-ad0e-1ed7d3925618",
   "metadata": {},
   "outputs": [
    {
     "name": "stdout",
     "output_type": "stream",
     "text": [
      " * sqlite:///my_database.db\n",
      "(sqlite3.OperationalError) no such table: customers\n",
      "[SQL: SELECT * FROM customers LIMIT 5;]\n",
      "(Background on this error at: https://sqlalche.me/e/20/e3q8)\n"
     ]
    }
   ],
   "source": [
    "%%sql\n",
    "SELECT * FROM customers LIMIT 5;"
   ]
  },
  {
   "cell_type": "code",
   "execution_count": 7,
   "id": "62e7dcf1-8ab2-4d85-b46b-4dc9f60783a0",
   "metadata": {},
   "outputs": [],
   "source": [
    "%sql sqlite://"
   ]
  },
  {
   "cell_type": "code",
   "execution_count": 9,
   "id": "c88002c2-006f-4969-ae32-24647af18d77",
   "metadata": {},
   "outputs": [
    {
     "name": "stdout",
     "output_type": "stream",
     "text": [
      " * sqlite:///my_database.db\n",
      "(sqlite3.OperationalError) table books already exists\n",
      "[SQL: CREATE TABLE books (id INTEGER PRIMARY KEY, title TEXT, author TEXT);]\n",
      "(Background on this error at: https://sqlalche.me/e/20/e3q8)\n"
     ]
    }
   ],
   "source": [
    "%%sql\n",
    "CREATE TABLE books (id INTEGER PRIMARY KEY, title TEXT, author TEXT);\n",
    "INSERT INTO books (title, author) VALUES ('1984', 'George Orwell');"
   ]
  },
  {
   "cell_type": "code",
   "execution_count": 12,
   "id": "ef349bc0-0731-4a8a-936e-03952d1bef49",
   "metadata": {},
   "outputs": [
    {
     "ename": "SyntaxError",
     "evalue": "invalid syntax (3634957503.py, line 1)",
     "output_type": "error",
     "traceback": [
      "\u001b[0;36m  Cell \u001b[0;32mIn[12], line 1\u001b[0;36m\u001b[0m\n\u001b[0;31m    show tables\u001b[0m\n\u001b[0m         ^\u001b[0m\n\u001b[0;31mSyntaxError\u001b[0m\u001b[0;31m:\u001b[0m invalid syntax\n"
     ]
    }
   ],
   "source": [
    "show tables"
   ]
  },
  {
   "cell_type": "code",
   "execution_count": null,
   "id": "31adf148-a287-442e-bb06-d1c38e3b207e",
   "metadata": {},
   "outputs": [],
   "source": []
  }
 ],
 "metadata": {
  "kernelspec": {
   "display_name": "Python 3 (ipykernel)",
   "language": "python",
   "name": "python3"
  },
  "language_info": {
   "codemirror_mode": {
    "name": "ipython",
    "version": 3
   },
   "file_extension": ".py",
   "mimetype": "text/x-python",
   "name": "python",
   "nbconvert_exporter": "python",
   "pygments_lexer": "ipython3",
   "version": "3.12.7"
  }
 },
 "nbformat": 4,
 "nbformat_minor": 5
}
