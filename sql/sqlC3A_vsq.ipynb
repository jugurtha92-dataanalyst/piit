{
 "cells": [
  {
   "cell_type": "markdown",
   "id": "5d6e1fa6-a358-41d1-ae45-b8f20c1e5208",
   "metadata": {},
   "source": [
    "# SQL commands - "
   ]
  },
  {
   "cell_type": "markdown",
   "id": "598f9a4c-2756-443b-a396-462d59186b37",
   "metadata": {},
   "source": [
    "## Remove Existing Table\n",
    "- DROP TABLE IF EXISTS sales;"
   ]
  },
  {
   "cell_type": "markdown",
   "id": "f9676d2f-ea28-464a-8163-27056d9fb945",
   "metadata": {},
   "source": [
    "## Create Table\n",
    "- CREATE TABLE sales (\n",
    "    id         INT PRIMARY KEY,\n",
    "    salesperson VARCHAR(100) NOT NULL,\n",
    "    region      VARCHAR(50)  NOT NULL,\n",
    "    sale_date   DATE         NOT NULL,\n",
    "    amount      DECIMAL(10,2) NOT NULL\n",
    ");"
   ]
  },
  {
   "cell_type": "markdown",
   "id": "f0304940-8f38-4f9a-8118-972e42922926",
   "metadata": {},
   "source": [
    "## Sample Data\n",
    "- INSERT INTO sales (id, salesperson, region, sale_date, amount) VALUES\n",
    "(1, 'Alice', 'East', '2025-08-01', 200),\n",
    "(2, 'Bob',   'East', '2025-08-02', 150),\n",
    "(3, 'Alice', 'West', '2025-08-03', 300),\n",
    "(4, 'Bob',   'East', '2025-08-04', 250),\n",
    "(5, 'Alice', 'East', '2025-08-05', 100),\n",
    "(6, 'Bob',   'East', '2025-08-06', 250),   -- tie with Bob's 250\n",
    "(7, 'Carol', 'East', '2025-08-02', 150),   -- tie with Bob's 150\n",
    "(8, 'Dan',   'West', '2025-08-04', 300);   -- tie with Alice's 300 (West)"
   ]
  },
  {
   "cell_type": "markdown",
   "id": "fa31ed84-ee33-41cd-9f1c-41eefbfd9c1f",
   "metadata": {},
   "source": [
    "## Check\n",
    "- SELECT * FROM sales ORDER BY id;"
   ]
  },
  {
   "cell_type": "markdown",
   "id": "4b68b757-8d10-43d5-80e1-a8a20f59db26",
   "metadata": {},
   "source": [
    "## VIEW1\n",
    "### Region-level summary (non-updatable: uses aggregates)\n",
    "- CREATE OR REPLACE VIEW region_sales_summary AS\n",
    "SELECT\n",
    "    region,\n",
    "    SUM(amount) AS total_sales,\n",
    "    COUNT(*)    AS num_sales,\n",
    "    AVG(amount) AS avg_amount\n",
    "FROM sales\n",
    "GROUP BY region;\n",
    "#### Use the View\n",
    "- SELECT * FROM region_sales_summary ORDER BY region;"
   ]
  },
  {
   "cell_type": "markdown",
   "id": "ab078abe-42f1-4f6a-bf10-f56140a4976f",
   "metadata": {},
   "source": [
    "### VIEW2\n",
    "#### Salesperson-level KPIs (non-updatable: aggregates)\n",
    "- CREATE OR REPLACE VIEW salesperson_totals AS\n",
    "SELECT\n",
    "    salesperson,\n",
    "    SUM(amount) AS total_sales,\n",
    "    COUNT(*)    AS num_sales,\n",
    "    MIN(sale_date) AS first_sale_date,\n",
    "    MAX(sale_date) AS last_sale_date\n",
    "FROM sales\n",
    "GROUP BY salesperson;\n",
    "#### See the View\n",
    "- SELECT * FROM salesperson_totals ORDER BY total_sales DESC;"
   ]
  },
  {
   "cell_type": "markdown",
   "id": "3015524f-afa6-4ca1-8abf-28e339e239bc",
   "metadata": {},
   "source": [
    "###  read/update through this view (example read):\n",
    "- SELECT * FROM east_sales ORDER BY sale_date;\n",
    "- Example update via updatable view (optional; comment out if not desired):\n",
    "    - UPDATE east_sales SET amount = amount + 10 WHERE id = 2;\n",
    "    - SELECT * FROM east_sales WHERE id = 2;"
   ]
  },
  {
   "cell_type": "markdown",
   "id": "7fdc1804-53d6-46a4-9226-61d3111b0907",
   "metadata": {},
   "source": [
    "### View defined over a subquery (inline view inside the view)\n",
    "- CREATE OR REPLACE VIEW top_sellers AS\n",
    "SELECT *\n",
    "FROM (\n",
    "    SELECT salesperson, SUM(amount) AS total_sales\n",
    "    FROM sales\n",
    "    GROUP BY salesperson\n",
    ") t\n",
    "WHERE t.total_sales > 300;\n",
    "#### See the View\n",
    "- SELECT * FROM top_sellers ORDER BY total_sales DESC;"
   ]
  },
  {
   "cell_type": "markdown",
   "id": "c78ea2e0-a7d4-4601-a5e3-1c49fbb16b1d",
   "metadata": {},
   "source": [
    "## SUBQUERIES\n",
    "### 2A - Subquery in WHERE/HAVING:\n",
    "- Salespeople whose total sales exceed the overall average sale amount\n",
    "- SELECT salesperson\n",
    "FROM sales\n",
    "GROUP BY salesperson\n",
    "HAVING SUM(amount) > (\n",
    "    SELECT AVG(amount)\n",
    "    FROM sales\n",
    ");"
   ]
  },
  {
   "cell_type": "markdown",
   "id": "aad4c07f-ab96-4d73-8572-5deb69aacbc8",
   "metadata": {},
   "source": [
    "### 2B  Subquery in FROM (inline view):\n",
    "- Build per-person totals, then filter in the outer query\n",
    "- SELECT *\n",
    "FROM (\n",
    "    SELECT salesperson, SUM(amount) AS total_sales\n",
    "    FROM sales\n",
    "    GROUP BY salesperson\n",
    ") AS sales_totals\n",
    "WHERE total_sales > 300\n",
    "ORDER BY total_sales DESC;\n"
   ]
  },
  {
   "cell_type": "markdown",
   "id": "a4116b79-7c2b-4f29-a6ec-2a9176cc2b09",
   "metadata": {},
   "source": [
    "### 2C Subquery in SELECT (scalar correlated subquery):\n",
    "- Show each sale alongside the average amount for its region\n",
    "- SELECT\n",
    "    s1.id,\n",
    "    s1.salesperson,\n",
    "    s1.region,\n",
    "    s1.amount,\n",
    "    (\n",
    "        SELECT AVG(s2.amount)\n",
    "        FROM sales AS s2\n",
    "        WHERE s2.region = s1.region\n",
    "    ) AS avg_in_region\n",
    "FROM sales AS s1\n",
    "ORDER BY s1.region, s1.amount DESC;"
   ]
  },
  {
   "cell_type": "markdown",
   "id": "f51fad67-040f-4444-ad3a-a92e57350679",
   "metadata": {},
   "source": [
    "### 2D) EXISTS (semi-join style):\n",
    "- Salespeople who have at least one sale > the average for their region\n",
    "SELECT DISTINCT s1.salesperson\n",
    "FROM sales AS s1\n",
    "WHERE EXISTS (\n",
    "    SELECT 1\n",
    "    FROM sales AS s2\n",
    "    WHERE s2.region = s1.region\n",
    "    GROUP BY s2.region\n",
    "    HAVING MAX(s1.amount) > AVG(s2.amount)\n",
    ")\n",
    "ORDER BY s1.salesperson;"
   ]
  },
  {
   "cell_type": "markdown",
   "id": "176a15a2-fa01-4d8f-b302-8fc721f36782",
   "metadata": {},
   "source": [
    "### 2E) Correlated subquery in WHERE:\n",
    "- Latest sale (by date) for each salesperson\n",
    "- SELECT *\n",
    "FROM sales AS s1\n",
    "WHERE s1.sale_date = (\n",
    "    SELECT MAX(s2.sale_date)\n",
    "    FROM sales AS s2\n",
    "    WHERE s2.salesperson = s1.salesperson\n",
    ")\n",
    "ORDER BY salesperson, sale_date;"
   ]
  },
  {
   "cell_type": "code",
   "execution_count": null,
   "id": "0a7c3da5-5582-449e-b2d4-89f01fe1c17a",
   "metadata": {},
   "outputs": [],
   "source": []
  }
 ],
 "metadata": {
  "kernelspec": {
   "display_name": "Python 3 (ipykernel)",
   "language": "python",
   "name": "python3"
  },
  "language_info": {
   "codemirror_mode": {
    "name": "ipython",
    "version": 3
   },
   "file_extension": ".py",
   "mimetype": "text/x-python",
   "name": "python",
   "nbconvert_exporter": "python",
   "pygments_lexer": "ipython3",
   "version": "3.12.11"
  }
 },
 "nbformat": 4,
 "nbformat_minor": 5
}
