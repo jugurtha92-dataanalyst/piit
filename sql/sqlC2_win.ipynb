{
 "cells": [
  {
   "cell_type": "markdown",
   "id": "615a9e3c-fa9a-4a6b-9ddb-6b0fa78819f3",
   "metadata": {},
   "source": [
    "# SQL Scripts - Windows Commands in SQL\n",
    "- Run these script in MySQL 8.0+ (window functions supported)"
   ]
  },
  {
   "cell_type": "markdown",
   "id": "ed3220c8-3fcb-4057-a162-35936aca2855",
   "metadata": {},
   "source": [
    "## Connect to MySQL\n",
    "- go terminal mode\n",
    "- root/Mysql@123\n",
    "- mysql -u piuser - p\n",
    "- enter password (Pass#123)\n",
    "- #user-piuser, pwd-Pass#123, yourdb - piit\n",
    "- mysql\n",
    "    - show databases;\n",
    "    - use piit;\n",
    "    - show tables; "
   ]
  },
  {
   "cell_type": "markdown",
   "id": "92be180a-edde-449d-a7f9-4dc7f6bf271d",
   "metadata": {},
   "source": [
    "### create or use database\n",
    "- CREATE DATABASE IF NOT EXISTS piit;\n",
    "- USE piit;"
   ]
  },
  {
   "cell_type": "markdown",
   "id": "a1391611-8c3f-47b4-b19d-7bb29636b032",
   "metadata": {},
   "source": [
    "### Drop table if exists sales\n",
    "- DROP TABLE IF EXISTS sales;"
   ]
  },
  {
   "cell_type": "markdown",
   "id": "4fa2d86e-4671-4d1c-9d92-b3708c1e803a",
   "metadata": {},
   "source": [
    "### Create the table\n",
    "- CREATE TABLE sales (\n",
    "    id INT PRIMARY KEY,\n",
    "    salesperson VARCHAR(100) NOT NULL,\n",
    "    region VARCHAR(50) NOT NULL,\n",
    "    sale_date DATE NOT NULL,\n",
    "    amount DECIMAL(10,2) NOT NULL\n",
    "- DESC sales;"
   ]
  },
  {
   "cell_type": "markdown",
   "id": "b622dd6f-d4c8-4031-ad00-761b9e941b32",
   "metadata": {},
   "source": [
    "### Insert sample data\n",
    "-  INSERT INTO sales (id, salesperson, region, sale_date, amount) VALUES\n",
    "(1, 'Alice', 'East', '2025-08-01', 200),\n",
    "(2, 'Bob',   'East', '2025-08-02', 150),\n",
    "(3, 'Alice', 'West', '2025-08-03', 300),\n",
    "(4, 'Bob',   'East', '2025-08-04', 250),\n",
    "(5, 'Alice', 'East', '2025-08-05', 100);\n",
    "- select * from sales;"
   ]
  },
  {
   "cell_type": "markdown",
   "id": "2b3bf974-6779-4620-b572-0c4ed706950d",
   "metadata": {},
   "source": [
    "### Quick peek\n",
    "- SELECT * FROM sales ORDER BY id;"
   ]
  },
  {
   "cell_type": "markdown",
   "id": "209b1f71-1ae6-4107-a1fb-dc070e096fb1",
   "metadata": {},
   "source": [
    "### WINDOWS FUNCTION\n",
    "- Window functions perform calculations across a set of rows related to the current row, without collapsing the result set like GROUP BY does.\n",
    "They work with the OVER() clause, which defines the window (set of rows) for the calculation.\n",
    "- Common uses:\n",
    "    - Ranking rows\n",
    "    - Running totals\n",
    "    - Moving averages\n",
    "    - Calculations within partitions"
   ]
  },
  {
   "cell_type": "markdown",
   "id": "7409e3ab-6d40-4fb4-a153-d19185d29198",
   "metadata": {},
   "source": [
    "### Window function examples\n",
    "- Rank sales within each region by amount (highest = rank 1)\n",
    "#### SELECT salesperson,   region,   amount,   RANK() OVER (PARTITION BY region ORDER BY amount DESC) AS region_rank FROM sales ORDER BY region, amount DESC;\n",
    "- PARTITION BY region → restarts the rank for each region.\n",
    "- ORDER BY amount DESC → highest sales get rank 1.\n",
    "- Ranking focus — ordered by region and amount desc: makes RANK() behavior obvious"
   ]
  },
  {
   "cell_type": "markdown",
   "id": "ec5006ed-ab3a-497b-91e6-42678e597999",
   "metadata": {},
   "source": [
    "### Running total per salesperson by sale_date\n",
    "#### SELECT   salesperson,   sale_date,   amount,   SUM(amount) OVER ( PARTITION BY salesperson   ORDER BY sale_date  ROWS BETWEEN UNBOUNDED PRECEDING AND CURRENT ROW  ) AS running_total FROM sales ORDER BY salesperson, sale_date;\n",
    "- Uses SUM() as a window function.\n",
    "- Orders by sale_date to keep the cumulative sum correct."
   ]
  },
  {
   "cell_type": "markdown",
   "id": "04346271-a5fa-4b65-88f1-6932a54ce3bd",
   "metadata": {},
   "source": [
    "### 3-row moving average per salesperson (current row + previous 2)\n",
    "- 3-day moving average for each salesperson.\n",
    "#### SELECT   salesperson,   sale_date,  amount,   AVG(amount) OVER (     PARTITION BY salesperson     ORDER BY sale_date     ROWS BETWEEN 2 PRECEDING AND CURRENT ROW   ) AS moving_avg_3 FROM sales ORDER BY salesperson, sale_date;\n",
    "- The window frame (ROWS BETWEEN 2 PRECEDING AND CURRENT ROW) looks at the current row and the two previous rows."
   ]
  },
  {
   "cell_type": "markdown",
   "id": "4b3fa4e4-a012-4334-a53e-6e762bb21ef2",
   "metadata": {},
   "source": [
    "### Each sale as % of total sales in its region\n",
    "- Find each sale’s percentage of total sales in its region\n",
    "#### SELECT   salesperson,   region,  amount,  ROUND(amount / SUM(amount) OVER (PARTITION BY region) * 100, 2) AS pct_of_region FROM sales ORDER BY region, amount DESC;\n",
    "- Divides each sale amount by the regional total.\n",
    "- Keeps all rows without grouping them away."
   ]
  },
  {
   "cell_type": "markdown",
   "id": "ed0a717b-3c69-46e3-814c-ae73b867cbc5",
   "metadata": {},
   "source": [
    "### Summary of Windows Functions\n",
    "- PARTITION BY → Splits data into groups without reducing rows.\n",
    "- ORDER BY in OVER() → Controls calculation order.\n",
    "- Window frames (ROWS BETWEEN...) → Fine-tune which rows are considered.\n",
    "- Window functions do not filter rows; use them alongside WHERE/HAVING."
   ]
  },
  {
   "cell_type": "markdown",
   "id": "7c0363ac-a86f-4631-af62-b4fc17e9e6d3",
   "metadata": {},
   "source": [
    "## Other Windows Functions\n",
    "- let’s add examples for DENSE_RANK, LEAD, and LAG on the same sales table. I’ll first insert a few extra rows to create ties (so RANK vs DENSE_RANK differences actually show up), then run the window queries\n",
    "- Add rows that create ties within regions and give more timeline for LEAD/LAG\n",
    "- INSERT INTO sales (id, salesperson, region, sale_date, amount) VALUES\n",
    "(6, 'Bob',   'East', '2025-08-06', 250),   -- tie with Bob's earlier 250\n",
    "(7, 'Carol', 'East', '2025-08-02', 150),   -- tie with Bob's 150\n",
    "(8, 'Dan',   'West', '2025-08-04', 300);   -- tie with Alice's 300 (West)\n",
    "- select * from sales;"
   ]
  },
  {
   "cell_type": "markdown",
   "id": "6d92f279-760b-423e-8417-c72e7a2ff07b",
   "metadata": {},
   "source": [
    "### Dense Rank\n",
    "- Rank sales in each region by amount, showing how RANK leaves gaps on ties while DENSE_RANK doesn’t.\n",
    "#### SELECT   region,  salesperson,  amount,  RANK()  OVER (PARTITION BY region ORDER BY amount DESC) AS rnk,  DENSE_RANK() OVER (PARTITION BY region ORDER BY amount DESC) AS dense_rnk FROM sales ORDER BY region, amount DESC, salesperson;\n",
    "- If two rows tie on amount, RANK() skips the next number (e.g., 1, 2, 2, 4), while DENSE_RANK() stays consecutive (1, 2, 2, 3)."
   ]
  },
  {
   "cell_type": "markdown",
   "id": "f87b3784-f2e2-41ab-9efc-d17a28324994",
   "metadata": {},
   "source": [
    "###  LAG() — compare each sale to the previous one (per salesperson)\n",
    "- Goal: For each salesperson, see the previous sale amount and the change from that sale.\n",
    "#### SELECT   salesperson,  sale_date,  amount,  LAG(amount, 1) OVER (    PARTITION BY salesperson    ORDER BY sale_date  ) AS prev_amount,  amount - LAG(amount, 1) OVER (    PARTITION BY salesperson    ORDER BY sale_date ) AS change_from_prev FROM sales ORDER BY salesperson, sale_date;\n",
    "- The first row per salesperson has NULL for prev_amount. If you prefer a default (e.g., 0), use LAG(amount, 1, 0)."
   ]
  },
  {
   "cell_type": "markdown",
   "id": "80749139-875c-4825-b121-c76174f6bf2e",
   "metadata": {},
   "source": [
    "### LEAD() — peek at the next sale (per salesperson)\n",
    "- Goal: For each sale, see the next one for the same salesperson and the expected change.\n",
    "### SELECT   salesperson,  sale_date,  amount,  LEAD(amount, 1) OVER (    PARTITION BY salesperson    ORDER BY sale_date  ) AS next_amount,  LEAD(amount, 1) OVER (    PARTITION BY salesperson    ORDER BY sale_date ) - amount AS change_to_next FROM sales ORDER BY salesperson, sale_date;\n",
    "- The last row per salesperson will have NULL for next_amount. You can give a default like LEAD(amount, 1, amount) to repeat current amount."
   ]
  },
  {
   "cell_type": "markdown",
   "id": "143154fd-f98c-4224-a3af-ac5b8fea59db",
   "metadata": {},
   "source": [
    "### Bonus: LAG() within a different partition/order\n",
    "- Goal: Within each region, list amounts from highest to lowest and show the previous higher amount.\n",
    "#### SELECT   region,  salesperson,  amount,  LAG(amount) OVER (    PARTITION BY region    ORDER BY amount DESC  ) AS prev_higher_amount,  amount - LAG(amount) OVER (    PARTITION BY region    ORDER BY amount DESC  ) AS diff_from_prev FROM sales ORDER BY region, amount DESC;"
   ]
  }
 ],
 "metadata": {
  "kernelspec": {
   "display_name": "Python 3 (ipykernel)",
   "language": "python",
   "name": "python3"
  },
  "language_info": {
   "codemirror_mode": {
    "name": "ipython",
    "version": 3
   },
   "file_extension": ".py",
   "mimetype": "text/x-python",
   "name": "python",
   "nbconvert_exporter": "python",
   "pygments_lexer": "ipython3",
   "version": "3.12.11"
  }
 },
 "nbformat": 4,
 "nbformat_minor": 5
}
