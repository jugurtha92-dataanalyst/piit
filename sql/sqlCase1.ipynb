{
 "cells": [
  {
   "cell_type": "markdown",
   "id": "638e1556-37be-4bc5-9bd3-c3a7bec879b9",
   "metadata": {},
   "source": [
    "# MySQL - Case Study \n",
    "- Intro to Relational Databases\n",
    "- Select, where, groupby, having, orderby\n",
    "- Filtering , sortinng, wildcards\n",
    "- Join (inner, left, right, full outer)\n",
    "- Aggregations - Count, sum, avg, max, min\n",
    "- Windows Functions - Rank, Dense_rank, lead, lag\n",
    "- Creating views & subqueries\n",
    "- Real Business Cases - customer churn, revenue by category"
   ]
  },
  {
   "cell_type": "code",
   "execution_count": null,
   "id": "2f68f112-d753-4de8-ba25-1542aaf57d2d",
   "metadata": {},
   "outputs": [],
   "source": [
    "# libraries\n",
    "import pandas as pd\n",
    "import pymysql\n",
    "from sqlalchemy import create_engine\n",
    "import os"
   ]
  }
 ],
 "metadata": {
  "kernelspec": {
   "display_name": "Python 3 (ipykernel)",
   "language": "python",
   "name": "python3"
  },
  "language_info": {
   "codemirror_mode": {
    "name": "ipython",
    "version": 3
   },
   "file_extension": ".py",
   "mimetype": "text/x-python",
   "name": "python",
   "nbconvert_exporter": "python",
   "pygments_lexer": "ipython3",
   "version": "3.12.11"
  }
 },
 "nbformat": 4,
 "nbformat_minor": 5
}
