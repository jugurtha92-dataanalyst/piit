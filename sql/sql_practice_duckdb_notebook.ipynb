{
 "cells": [
  {
   "cell_type": "markdown",
   "metadata": {},
   "source": [
    "# SQL Practice with DuckDB in Jupyter"
   ]
  },
  {
   "cell_type": "code",
   "execution_count": null,
   "metadata": {},
   "outputs": [],
   "source": [
    "# Install DuckDB if you haven\'t already\n",
    "!pip install duckdb"
   ]
  },
  {
   "cell_type": "code",
   "execution_count": null,
   "metadata": {},
   "outputs": [],
   "source": [
    "import pandas as pd\n",
    "import duckdb"
   ]
  },
  {
   "cell_type": "markdown",
   "metadata": {},
   "source": [
    "## Load the Excel file and register dataframes"
   ]
  },
  {
   "cell_type": "code",
   "execution_count": null,
   "metadata": {},
   "outputs": [],
   "source": [
    "file_path = 'sql_practice_data.xlsx'  # Replace with your path if needed\n",
    "employees_df = pd.read_excel(file_path, sheet_name='Employees')\n",
    "departments_df = pd.read_excel(file_path, sheet_name='Departments')\n",
    "\n",
    "con = duckdb.connect()\n",
    "con.register('employees_df', employees_df)\n",
    "con.register('departments_df', departments_df)"
   ]
  },
  {
   "cell_type": "markdown",
   "metadata": {},
   "source": [
    "## Sample Queries"
   ]
  },
  {
   "cell_type": "code",
   "execution_count": null,
   "metadata": {},
   "outputs": [],
   "source": [
    "# 1. Select all employees\n",
    "con.execute("SELECT * FROM employees_df").df()"
   ]
  },
  {
   "cell_type": "code",
   "execution_count": null,
   "metadata": {},
   "outputs": [],
   "source": [
    "# 2. Employees with salary > 55000\n",
    "con.execute("SELECT * FROM employees_df WHERE salary > 55000").df()"
   ]
  },
  {
   "cell_type": "code",
   "execution_count": null,
   "metadata": {},
   "outputs": [],
   "source": [
    "# 3. Join Employees and Departments\n",
    "con.execute("""\n",
    "    SELECT e.first_name, e.last_name, d.dept_name\n",
    "    FROM employees_df e\n",
    "    JOIN departments_df d ON e.dept_id = d.dept_id\n",
    """").df()"
   ]
  },
  {
   "cell_type": "code",
   "execution_count": null,
   "metadata": {},
   "outputs": [],
   "source": [
    "# 4. Count employees per department\n",
    "con.execute("""\n",
    "    SELECT d.dept_name, COUNT(e.emp_id) AS employee_count\n",
    "    FROM employees_df e\n",
    "    JOIN departments_df d ON e.dept_id = d.dept_id\n",
    "    GROUP BY d.dept_name\n",
    """").df()"
   ]
  },
  {
   "cell_type": "code",
   "execution_count": null,
   "metadata": {},
   "outputs": [],
   "source": [
    "# 5. Inactive employees\n",
    "con.execute("SELECT * FROM employees_df WHERE is_active = 0").df()"
   ]
  }
 ],
 "metadata": {
  "kernelspec": {
   "display_name": "Python 3",
   "language": "python",
   "name": "python3"
  },
  "language_info": {
   "name": "python",
   "version": ""
  }
 },
 "nbformat": 4,
 "nbformat_minor": 2
}