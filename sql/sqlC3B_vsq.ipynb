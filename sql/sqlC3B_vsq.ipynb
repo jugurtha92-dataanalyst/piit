{
 "cells": [
  {
   "cell_type": "markdown",
   "id": "b99064e2-2c4f-462c-8fdf-288c086aba2e",
   "metadata": {},
   "source": [
    "# Case on Students Table\n",
    "- Views\n",
    "- SubQueries\n",
    "- Window Functions\n",
    "- Join\n",
    "- Sorting, Filtering"
   ]
  },
  {
   "cell_type": "markdown",
   "id": "a98338f2-9aeb-44b3-acf4-40990cc59a10",
   "metadata": {},
   "source": [
    "# Views represent common classroom analytics:\n",
    "\t•\tsubject_avg_scores: how each subject is performing overall\n",
    "\t•\tstudent_totals: personal performance summaries\n",
    "\t•\tmath_scores: focused subset of data\n",
    "# Subqueries answer practical questions:\n",
    "\t•\tWho’s above average overall?\n",
    "\t•\tWhich students have exceptionally high totals?\n",
    "\t•\tWhat’s the average in my subject compared to my score?\n",
    "\t•\tWho has beaten their subject’s average?\n",
    "\t•\tWhat’s my latest recorded exam score?"
   ]
  },
  {
   "cell_type": "markdown",
   "id": "511445fc-da3a-4300-bd4c-de7840e50a04",
   "metadata": {},
   "source": [
    "# Check if you are using correct database\n",
    "- mysql -u piuser -p\n",
    "- Pass#123\n",
    "- USE piit;\n",
    "- DROP TABLE IF EXISTS student_scores"
   ]
  },
  {
   "cell_type": "markdown",
   "id": "2fca5e8a-7915-4a22-8615-5eef0a334c28",
   "metadata": {},
   "source": [
    "## Create Table\n",
    "- CREATE TABLE student_scores ( id   INT PRIMARY KEY,  sname  VARCHAR(100) NOT NULL,  subject   VARCHAR(50)  NOT NULL,  examdate  DATE  NOT NULL,  score  DECIMAL(5,2) NOT NULL )"
   ]
  },
  {
   "cell_type": "markdown",
   "id": "4a2b3e8b-04c2-4cf3-95c5-28e08b66dd72",
   "metadata": {},
   "source": [
    "## Insert Data in the Table\n",
    "- INSERT INTO student_scores (id, sname, subject, examdate, score) VALUES \n",
    "(1, 'Mandal', 'Math',    '2025-08-01', 85), \n",
    "(2, 'Amandeep', 'Math',    '2025-08-02', 75),\n",
    "(3, 'Barkat', 'Math',      '2025-08-03', 92), \n",
    "(4, 'Suroor', 'Math',    '2025-08-04', 88), \n",
    "(5, 'Mandal',  'Science',    '2025-08-05', 70), \n",
    "(6, 'Amandeep', 'Science', '2025-08-06', 88), \n",
    "(7, 'Sharan',  'Math',    '2025-08-02', 75), \n",
    "(8, 'Barkat', 'Science', '2025-08-04', 92)"
   ]
  },
  {
   "cell_type": "markdown",
   "id": "c5fd4753-c93f-4ed9-965e-70f508c1627e",
   "metadata": {},
   "source": [
    "## Check the data\n",
    "- SELECT * FROM student_scores;"
   ]
  },
  {
   "cell_type": "markdown",
   "id": "d2210250-4c86-438a-92df-cac98b103922",
   "metadata": {},
   "source": [
    "## Views\n",
    "### V1 : Avg score per subject\n",
    "- CREATE OR REPLACE VIEW subject_avg_scores AS SELECT subject, AVG(score) AS avg_score, COUNT(*)  AS num_exams FROM student_scores GROUP BY subject;\n",
    "- SELECT * FROM subject_avg_scores;\n",
    "### V2 : Student total and average score\n",
    "- CREATE OR REPLACE VIEW student_totals AS SELECT sname,  SUM(score) AS total_score, AVG(score) AS avg_score, COUNT(*)   AS exams_taken FROM student_scores GROUP BY sname;\n",
    "- SELECT * FROM student_totals\n",
    "- SELECT * FROM student_totals ORDER BY avg_score DESC\n",
    "### V3 : View of only Math exam scores (updatable)\n",
    "- CREATE OR REPLACE VIEW math_scores AS SELECT id, sname, subject, examdate, score FROM student_scores\n",
    "WHERE subject = 'Math'\n",
    "- SELECT * FROM math_scores \n",
    "- x\n",
    "### V4 : \n",
    "- x\n",
    "- x"
   ]
  },
  {
   "cell_type": "markdown",
   "id": "933a66b4-8682-427d-8cdb-2c26100c18b4",
   "metadata": {},
   "source": [
    "## SUB-QUERIES\n",
    "### SQ1 - Students whose total score is above the overall average score\n",
    "- SELECT sname FROM student_scores GROUP BY sname HAVING SUM(score) > ( SELECT AVG(score) FROM student_scores)\n",
    "- SELECT sname, SUM(score) FROM student_scores GROUP BY sname HAVING SUM(score) > ( SELECT AVG(score) FROM student_scores)\n",
    "### SQ2 - Students whose total score is above the overall average score\n",
    "- SELECT sname FROM student_scores GROUP BY sname HAVING SUM(score) > ( SELECT AVG(score) FROM student_scores)\n",
    "### SQ3 - Inline view: students with total score > 250\n",
    "- SELECT * FROM ( SELECT sname, SUM(score) AS total_score FROM student_scores    GROUP BY sname) AS totals WHERE total_score > 250\n",
    "### SQ4 - Subquery in SELECT: each exam with subject average\n",
    "- SELECT s1.id,  s1.sname,  s1.subject,  s1.score, (  SELECT AVG(s2.score)FROM student_scores AS s2  WHERE s2.subject = s1.subject) AS avg_in_subject FROM student_scores AS s1 ORDER BY subject, score DESC\n",
    "### SQ5 -  EXISTS: students who have at least one score above their subject's average\n",
    "- SELECT DISTINCT s1.sname FROM student_scores AS s1 WHERE EXISTS (     SELECT 1    FROM student_scores AS s2    WHERE s2.subject = s1.subject    GROUP BY s2.subject HAVING MAX(s1.score) > AVG(s2.score) );\n",
    "### SQ6 - Latest exam for each student\n",
    "- SELECT * FROM student_scores AS s1 WHERE s1.examdate = ( SELECT MAX(s2.examdate) FROM student_scores AS s2 WHERE s2.sname = s1.sname ) ORDER BY sname, examdate;  "
   ]
  },
  {
   "cell_type": "markdown",
   "id": "617fec2b-dc41-4fe2-afc0-ee1193c863f9",
   "metadata": {},
   "source": [
    "#####"
   ]
  },
  {
   "cell_type": "markdown",
   "id": "ec6adc5e-620a-4af9-bf2c-2b48b56520d6",
   "metadata": {},
   "source": [
    "## WINDOWS functions\n",
    "###  W1 - Rank within each subject by score (ties at same rank)\n",
    "- SELECT   subject,  sname,  score,  RANK()       OVER (PARTITION BY subject ORDER BY score DESC)       AS subj_rank,  DENSE_RANK() OVER (PARTITION BY subject ORDER BY score DESC)       AS subj_dense_rank FROM student_scores ORDER BY subject, score DESC, sname;\n",
    "### W2  - Overall ranking across all subjects (for a leaderboard view)\n",
    "- SELECT   sname,  subject,  score,  RANK() OVER (ORDER BY score DESC) AS overall_rank,  DENSE_RANK() OVER (ORDER BY score DESC) AS overall_dense_rank\n",
    "FROM student_scores ORDER BY score DESC, sname;\n",
    "### W3 =  LAG/LEAD per student (chronological progression)\n",
    "- Shows previous and next scores and the deltas (needs multiple rows per student; see optional inserts)\n",
    "- SELECT   sname,  examdate,  subject,  score,\n",
    "  LAG(score, 1)  OVER (PARTITION BY sname ORDER BY examdate)                AS prev_score,\n",
    "  score - LAG(score, 1)  OVER (PARTITION BY sname ORDER BY examdate)        AS change_from_prev,\n",
    "  LEAD(score, 1) OVER (PARTITION BY sname ORDER BY examdate)                AS next_score,\n",
    "  LEAD(score, 1) OVER (PARTITION BY sname ORDER BY examdate) - score        AS change_to_next\n",
    "FROM student_scores ORDER BY sname, examdate;\n",
    "###  W4 - LAG within subject by score (who’s the next lower score in the same subject?)\n",
    "- SELECT   subject,  sname,  score,  LAG(score) OVER (PARTITION BY subject ORDER BY score DESC) AS prev_higher_score,  score - LAG(score) OVER (PARTITION BY subject ORDER BY score DESC) AS gap_from_prev FROM student_scoresORDER BY subject, score DESC, sname\n",
    "\n",
    "### W5 - A tidy leaderboard combining subject rank + overall rank\n",
    "- WITH ranked AS (   SELECT    id, sname, subject, examdate, score,  RANK() OVER (PARTITION BY subject ORDER BY score DESC) AS subj_rank,  RANK() OVER (ORDER BY score DESC)   AS overall_rank FROM student_scores ) SELECT * FROM ranked ORDER BY subject, subj_rank, sname, examdate"
   ]
  },
  {
   "cell_type": "code",
   "execution_count": null,
   "id": "e2951b67-8ca9-4948-8b83-2f72cbc6bfd8",
   "metadata": {},
   "outputs": [],
   "source": []
  },
  {
   "cell_type": "code",
   "execution_count": null,
   "id": "e82a8cfe-b1bd-4613-8b05-fd08553fc7ca",
   "metadata": {},
   "outputs": [],
   "source": []
  }
 ],
 "metadata": {
  "kernelspec": {
   "display_name": "Python 3 (ipykernel)",
   "language": "python",
   "name": "python3"
  },
  "language_info": {
   "codemirror_mode": {
    "name": "ipython",
    "version": 3
   },
   "file_extension": ".py",
   "mimetype": "text/x-python",
   "name": "python",
   "nbconvert_exporter": "python",
   "pygments_lexer": "ipython3",
   "version": "3.12.11"
  }
 },
 "nbformat": 4,
 "nbformat_minor": 5
}
